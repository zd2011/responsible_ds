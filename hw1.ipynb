{
  "cells": [
    {
      "cell_type": "markdown",
      "metadata": {
        "id": "view-in-github",
        "colab_type": "text"
      },
      "source": [
        "<a href=\"https://colab.research.google.com/github/zd2011/responsible_ds/blob/main/hw1.ipynb\" target=\"_parent\"><img src=\"https://colab.research.google.com/assets/colab-badge.svg\" alt=\"Open In Colab\"/></a>"
      ]
    },
    {
      "cell_type": "code",
      "execution_count": null,
      "metadata": {
        "id": "PmmFUvLx1bDU"
      },
      "outputs": [],
      "source": [
        "%%capture\n",
        "!pip install fairlearn"
      ]
    },
    {
      "cell_type": "code",
      "execution_count": null,
      "metadata": {
        "id": "qOU_nFs11rFc"
      },
      "outputs": [],
      "source": [
        "#@markdown Load modules\n",
        "import numpy as np\n",
        "from IPython.display import display, Markdown, Latex\n",
        "import pandas as pd\n",
        "import matplotlib.pyplot as plt \n",
        "import seaborn as sns\n",
        "\n",
        "from sklearn.preprocessing import MinMaxScaler\n",
        "from sklearn.model_selection import train_test_split\n",
        "from sklearn.ensemble import RandomForestClassifier\n",
        "from sklearn.metrics import accuracy_score, precision_score, recall_score\n",
        "\n",
        "from fairlearn.postprocessing import ThresholdOptimizer\n",
        "from fairlearn.preprocessing import CorrelationRemover\n",
        "from fairlearn.adversarial import AdversarialFairnessClassifier\n",
        "from fairlearn.metrics import MetricFrame\n",
        "import fairlearn.datasets as fdata\n",
        "from fairlearn.metrics import (demographic_parity_difference, demographic_parity_ratio, \n",
        "                               selection_rate_difference, false_negative_rate_difference, \n",
        "                               false_positive_rate_difference, equalized_odds_ratio,\n",
        "                               false_negative_rate, false_positive_rate)"
      ]
    },
    {
      "cell_type": "markdown",
      "source": [
        "# Question 2"
      ],
      "metadata": {
        "id": "kPpcQH5-yqWn"
      }
    },
    {
      "cell_type": "markdown",
      "source": [
        "## a) Suppose that both groups A and B have equal false positive rates and equal false negative rates where FPR = 0.4 and FNR = 0.75. What are each of their respective values for TP, FN, FP, TN?"
      ],
      "metadata": {
        "id": "bXvewpKSysvo"
      }
    },
    {
      "cell_type": "markdown",
      "source": [
        "For $p_A = 0.8$ and $p_B = 0.5$, and $n_A = 100,n_B = 80$, we have $FPR = \\frac{FP}{FP+TN} = 0.4, FNR = \\frac{FN}{FN+TP} = 0.75$ for both group.\n",
        "\n",
        "For Group A, there are $p_A * n_A = 80$ members with positive outcome, 20 members with neative outcome. Like wise there are $p_B * n_B = 40$ members with positive outcome, 40 members with neative outcome for Group B.\n",
        "\n",
        "Then using FPR and FNR formulas, for Group A, $\\frac{FP_A}{20} = 0.4→FP_A = 8$ and $TN_A = 20-FP_A = 16$\n",
        "\n",
        "$\\frac{FN_A}{80} = 0.75→FN_A = 60$ and $TP_A = 80-FN_A = 20$\n",
        "\n",
        "For Group B, $\\frac{FP_B}{40} = 0.4→FP_B = 16$ and $TN_B = 40-FP_B = 24$. \n",
        "\n",
        "$\\frac{FN_B}{40} = 0.75→FN_B = 30$ and $TP_B = 40-FN_B = 10$."
      ],
      "metadata": {
        "id": "g4tdc1SHyxcd"
      }
    },
    {
      "cell_type": "markdown",
      "source": [
        "## b) What is the accuracy (ACC) for group A and group B? Which group has better accuracy?"
      ],
      "metadata": {
        "id": "JeJ8Qc73dZyu"
      }
    },
    {
      "cell_type": "markdown",
      "source": [
        "Using the confusion matrix calculated above, Group A has accuracy $ACC_A = \\frac{(TP_A+TN_A)}{P_A+N_A} = \\frac{32}{100} = 0.32$. Group B has accuracy $ACC_B = \\frac{(TP_B+TN_B)}{P_B+N_B} = \\frac{34}{80} = 0.425$. "
      ],
      "metadata": {
        "id": "msbu-wDqdgSd"
      }
    },
    {
      "cell_type": "markdown",
      "source": [
        "## c) What is the positive predictive value for group A and group B? Which group has better PPV?"
      ],
      "metadata": {
        "id": "ReJgnHS9eXkA"
      }
    },
    {
      "cell_type": "markdown",
      "source": [
        "Using the formula $PPV = \\frac{TP}{PP}$ fpr both groups, Group A has\n",
        "\n",
        "$PPV_A = \\frac{20}{28} = 0.7143$\n",
        "\n",
        "Group B has\n",
        "\n",
        "$PPV_B = \\frac{10}{26} = 0.3846$"
      ],
      "metadata": {
        "id": "nhn5AI52ea3y"
      }
    },
    {
      "cell_type": "markdown",
      "source": [
        "## d) How does this example show the fairness impossibility results described in the Chouldechova paper?"
      ],
      "metadata": {
        "id": "8AwodBxink_I"
      }
    },
    {
      "cell_type": "markdown",
      "source": [
        "As we shown above, and as the question stated, when the base rate for outcome of interest is different across groups ($p_A \\ne p_B$), while FPR and FNR is equal, we obtained a different positive predictive value as shown in c), thus corroborates Chouldechova's claim."
      ],
      "metadata": {
        "id": "iMKCkzuMnnrV"
      }
    },
    {
      "cell_type": "markdown",
      "metadata": {
        "id": "_4uCde0xDNZp"
      },
      "source": [
        "# Load and preprocess the data"
      ]
    },
    {
      "cell_type": "code",
      "execution_count": null,
      "metadata": {
        "colab": {
          "base_uri": "https://localhost:8080/",
          "height": 275
        },
        "id": "MWqwAwww1-sa",
        "outputId": "83e1b034-3033-4864-85ca-095fdd157298"
      },
      "outputs": [
        {
          "data": {
            "text/markdown": [
              "The \"Diabetes 130-Hospitals\" dataset represents 10 years of clinical care at 130 U.S. hospitals and delivery networks, collected from 1999 to 2008. Each record represents the hospital admission record for a patient diagnosed with diabetes whose stay lasted between one to fourteen days. The features describing each encounter include demographics, diagnoses, diabetic medications, number of visits in the year preceding the encounter, and payer information, as well as whether the patient was readmitted after release, and whether the readmission occurred within 30 days of the release.\n",
              "\n",
              "The original \"Diabetes 130-Hospitals\" dataset was collected by Beata Strack, Jonathan P. DeShazo, Chris Gennings, Juan L. Olmo, Sebastian Ventura, Krzysztof J. Cios, and John N. Clore in 2014.\n",
              "\n",
              "This version of the dataset was derived by the Fairlearn team for the SciPy 2021 tutorial \"Fairness in AI Systems: From social context to practice using Fairlearn\". In this version, the target variable \"readmitted\" is binarized into whether the patient was re-admitted within thirty days. The full dataset pre-processing script can be found on GitHub: https://github.com/fairlearn/talks/blob/main/2021_scipy_tutorial/preprocess.py\n",
              "\n",
              "Downloaded from openml.org."
            ],
            "text/plain": [
              "<IPython.core.display.Markdown object>"
            ]
          },
          "metadata": {},
          "output_type": "display_data"
        }
      ],
      "source": [
        "#@markdown Load and read about the dataset.\n",
        "# get datast from fairlearn and show description\n",
        "dataset = fdata.fetch_diabetes_hospital()\n",
        "\n",
        "display(Markdown(dataset.DESCR))\n",
        "\n",
        "# save dataframe and features\n",
        "x_raw = dataset.data\n",
        "# y_raw = np.array(dataset.target)\n",
        "feature_names = dataset.feature_names"
      ]
    },
    {
      "cell_type": "markdown",
      "metadata": {
        "id": "-2H46GsmJ2qg"
      },
      "source": [
        "You can read more about the dataset [here](https://fairlearn.org/main/user_guide/datasets/diabetes_hospital_data.html). In this description, we see that two features, `readmitted` and `readmit_binary`, are other representations of the same outcome, so we drop them from the set of predictors."
      ]
    },
    {
      "cell_type": "code",
      "execution_count": null,
      "metadata": {
        "id": "efDlc2njeMy7"
      },
      "outputs": [],
      "source": [
        "#@markdown Down sample to make runtimes reasonable\n",
        "x_raw = x_raw.sample(frac=0.1, random_state=123)"
      ]
    },
    {
      "cell_type": "code",
      "execution_count": null,
      "metadata": {
        "id": "Nu8TjEmUKGgQ"
      },
      "outputs": [],
      "source": [
        "y_raw = x_raw['readmit_binary']\n",
        "x_raw = x_raw.drop(columns=['readmitted', 'readmit_binary'])\n",
        "feature_names = feature_names[:-2]"
      ]
    },
    {
      "cell_type": "code",
      "execution_count": null,
      "metadata": {
        "colab": {
          "base_uri": "https://localhost:8080/",
          "height": 473
        },
        "id": "VdVRFS3K2f7W",
        "outputId": "43a3f8e6-3df0-4444-b90d-2c4ba792d2d5"
      },
      "outputs": [
        {
          "data": {
            "text/html": [
              "<div>\n",
              "<style scoped>\n",
              "    .dataframe tbody tr th:only-of-type {\n",
              "        vertical-align: middle;\n",
              "    }\n",
              "\n",
              "    .dataframe tbody tr th {\n",
              "        vertical-align: top;\n",
              "    }\n",
              "\n",
              "    .dataframe thead th {\n",
              "        text-align: right;\n",
              "    }\n",
              "</style>\n",
              "<table border=\"1\" class=\"dataframe\">\n",
              "  <thead>\n",
              "    <tr style=\"text-align: right;\">\n",
              "      <th></th>\n",
              "      <th>race</th>\n",
              "      <th>gender</th>\n",
              "      <th>age</th>\n",
              "      <th>discharge_disposition_id</th>\n",
              "      <th>admission_source_id</th>\n",
              "      <th>time_in_hospital</th>\n",
              "      <th>medical_specialty</th>\n",
              "      <th>num_lab_procedures</th>\n",
              "      <th>num_procedures</th>\n",
              "      <th>num_medications</th>\n",
              "      <th>...</th>\n",
              "      <th>max_glu_serum</th>\n",
              "      <th>A1Cresult</th>\n",
              "      <th>insulin</th>\n",
              "      <th>change</th>\n",
              "      <th>diabetesMed</th>\n",
              "      <th>medicare</th>\n",
              "      <th>medicaid</th>\n",
              "      <th>had_emergency</th>\n",
              "      <th>had_inpatient_days</th>\n",
              "      <th>had_outpatient_days</th>\n",
              "    </tr>\n",
              "  </thead>\n",
              "  <tbody>\n",
              "    <tr>\n",
              "      <th>65884</th>\n",
              "      <td>Caucasian</td>\n",
              "      <td>Male</td>\n",
              "      <td>Over 60 years</td>\n",
              "      <td>Discharged to Home</td>\n",
              "      <td>Emergency</td>\n",
              "      <td>3.0</td>\n",
              "      <td>Missing</td>\n",
              "      <td>49.0</td>\n",
              "      <td>6.0</td>\n",
              "      <td>27.0</td>\n",
              "      <td>...</td>\n",
              "      <td>None</td>\n",
              "      <td>None</td>\n",
              "      <td>Up</td>\n",
              "      <td>Ch</td>\n",
              "      <td>Yes</td>\n",
              "      <td>False</td>\n",
              "      <td>False</td>\n",
              "      <td>False</td>\n",
              "      <td>True</td>\n",
              "      <td>False</td>\n",
              "    </tr>\n",
              "    <tr>\n",
              "      <th>86278</th>\n",
              "      <td>Caucasian</td>\n",
              "      <td>Female</td>\n",
              "      <td>Over 60 years</td>\n",
              "      <td>Other</td>\n",
              "      <td>Referral</td>\n",
              "      <td>5.0</td>\n",
              "      <td>Missing</td>\n",
              "      <td>57.0</td>\n",
              "      <td>0.0</td>\n",
              "      <td>21.0</td>\n",
              "      <td>...</td>\n",
              "      <td>None</td>\n",
              "      <td>None</td>\n",
              "      <td>No</td>\n",
              "      <td>Ch</td>\n",
              "      <td>Yes</td>\n",
              "      <td>True</td>\n",
              "      <td>False</td>\n",
              "      <td>False</td>\n",
              "      <td>True</td>\n",
              "      <td>False</td>\n",
              "    </tr>\n",
              "    <tr>\n",
              "      <th>30000</th>\n",
              "      <td>Caucasian</td>\n",
              "      <td>Male</td>\n",
              "      <td>30-60 years</td>\n",
              "      <td>Discharged to Home</td>\n",
              "      <td>Other</td>\n",
              "      <td>4.0</td>\n",
              "      <td>Other</td>\n",
              "      <td>37.0</td>\n",
              "      <td>2.0</td>\n",
              "      <td>9.0</td>\n",
              "      <td>...</td>\n",
              "      <td>None</td>\n",
              "      <td>None</td>\n",
              "      <td>No</td>\n",
              "      <td>No</td>\n",
              "      <td>No</td>\n",
              "      <td>False</td>\n",
              "      <td>False</td>\n",
              "      <td>False</td>\n",
              "      <td>False</td>\n",
              "      <td>False</td>\n",
              "    </tr>\n",
              "    <tr>\n",
              "      <th>51185</th>\n",
              "      <td>Caucasian</td>\n",
              "      <td>Male</td>\n",
              "      <td>30-60 years</td>\n",
              "      <td>Other</td>\n",
              "      <td>Other</td>\n",
              "      <td>9.0</td>\n",
              "      <td>InternalMedicine</td>\n",
              "      <td>61.0</td>\n",
              "      <td>6.0</td>\n",
              "      <td>27.0</td>\n",
              "      <td>...</td>\n",
              "      <td>None</td>\n",
              "      <td>&gt;8</td>\n",
              "      <td>No</td>\n",
              "      <td>Ch</td>\n",
              "      <td>Yes</td>\n",
              "      <td>False</td>\n",
              "      <td>False</td>\n",
              "      <td>True</td>\n",
              "      <td>False</td>\n",
              "      <td>True</td>\n",
              "    </tr>\n",
              "    <tr>\n",
              "      <th>53902</th>\n",
              "      <td>Caucasian</td>\n",
              "      <td>Female</td>\n",
              "      <td>30-60 years</td>\n",
              "      <td>Discharged to Home</td>\n",
              "      <td>Referral</td>\n",
              "      <td>7.0</td>\n",
              "      <td>Other</td>\n",
              "      <td>23.0</td>\n",
              "      <td>0.0</td>\n",
              "      <td>13.0</td>\n",
              "      <td>...</td>\n",
              "      <td>None</td>\n",
              "      <td>None</td>\n",
              "      <td>No</td>\n",
              "      <td>No</td>\n",
              "      <td>Yes</td>\n",
              "      <td>True</td>\n",
              "      <td>False</td>\n",
              "      <td>True</td>\n",
              "      <td>True</td>\n",
              "      <td>False</td>\n",
              "    </tr>\n",
              "  </tbody>\n",
              "</table>\n",
              "<p>5 rows × 22 columns</p>\n",
              "</div>"
            ],
            "text/plain": [
              "            race  gender            age discharge_disposition_id  \\\n",
              "65884  Caucasian    Male  Over 60 years       Discharged to Home   \n",
              "86278  Caucasian  Female  Over 60 years                    Other   \n",
              "30000  Caucasian    Male    30-60 years       Discharged to Home   \n",
              "51185  Caucasian    Male    30-60 years                    Other   \n",
              "53902  Caucasian  Female    30-60 years       Discharged to Home   \n",
              "\n",
              "      admission_source_id  time_in_hospital medical_specialty  \\\n",
              "65884           Emergency               3.0           Missing   \n",
              "86278            Referral               5.0           Missing   \n",
              "30000               Other               4.0             Other   \n",
              "51185               Other               9.0  InternalMedicine   \n",
              "53902            Referral               7.0             Other   \n",
              "\n",
              "       num_lab_procedures  num_procedures  num_medications  ... max_glu_serum  \\\n",
              "65884                49.0             6.0             27.0  ...          None   \n",
              "86278                57.0             0.0             21.0  ...          None   \n",
              "30000                37.0             2.0              9.0  ...          None   \n",
              "51185                61.0             6.0             27.0  ...          None   \n",
              "53902                23.0             0.0             13.0  ...          None   \n",
              "\n",
              "       A1Cresult insulin change diabetesMed medicare medicaid had_emergency  \\\n",
              "65884       None      Up     Ch         Yes    False    False         False   \n",
              "86278       None      No     Ch         Yes     True    False         False   \n",
              "30000       None      No     No          No    False    False         False   \n",
              "51185         >8      No     Ch         Yes    False    False          True   \n",
              "53902       None      No     No         Yes     True    False          True   \n",
              "\n",
              "      had_inpatient_days had_outpatient_days  \n",
              "65884               True               False  \n",
              "86278               True               False  \n",
              "30000              False               False  \n",
              "51185              False                True  \n",
              "53902               True               False  \n",
              "\n",
              "[5 rows x 22 columns]"
            ]
          },
          "execution_count": 7,
          "metadata": {},
          "output_type": "execute_result"
        }
      ],
      "source": [
        "#@markdown Look at the first few rows of the data.\n",
        "x_raw.head()"
      ]
    },
    {
      "cell_type": "code",
      "execution_count": null,
      "metadata": {
        "id": "-PutzKgoaThF"
      },
      "outputs": [],
      "source": []
    },
    {
      "cell_type": "markdown",
      "metadata": {
        "id": "ffNcAr5uaTyz"
      },
      "source": [
        "## data inspectation "
      ]
    },
    {
      "cell_type": "code",
      "execution_count": null,
      "metadata": {
        "colab": {
          "base_uri": "https://localhost:8080/"
        },
        "id": "LNoVPfQMPTG2",
        "outputId": "8d6a9f4d-7852-48f3-cf30-d32852dc35f0"
      },
      "outputs": [
        {
          "name": "stdout",
          "output_type": "stream",
          "text": [
            "(10177, 22)\n",
            "(10177, 22)\n"
          ]
        }
      ],
      "source": [
        "#@markdown drop the rows with 'Unknown/Invalid' values for gender\n",
        "\n",
        "# drop these 3 rows\n",
        "print(x_raw.shape)\n",
        "rows_to_keep = x_raw.gender != 'Unknown/Invalid'\n",
        "x_raw = x_raw[rows_to_keep]\n",
        "y_raw = y_raw[rows_to_keep]\n",
        "print(x_raw.shape)"
      ]
    },
    {
      "cell_type": "code",
      "execution_count": null,
      "metadata": {
        "colab": {
          "base_uri": "https://localhost:8080/"
        },
        "id": "_fF5fYMHO33T",
        "outputId": "fd5a6c41-62dd-49fc-dbde-d76f248c2dea"
      },
      "outputs": [
        {
          "data": {
            "text/plain": [
              "race                        [AfricanAmerican, Asian, Caucasian, Hispanic, ...\n",
              "gender                                                         [Female, Male]\n",
              "age                         [30 years or younger, 30-60 years, Over 60 years]\n",
              "discharge_disposition_id                          [Discharged to Home, Other]\n",
              "admission_source_id                              [Emergency, Other, Referral]\n",
              "time_in_hospital            [1.0, 2.0, 3.0, 4.0, 5.0, 6.0, 7.0, 8.0, 9.0, ...\n",
              "medical_specialty           [Cardiology, Emergency/Trauma, Family/GeneralP...\n",
              "num_lab_procedures          [1.0, 2.0, 3.0, 4.0, 5.0, 6.0, 7.0, 8.0, 9.0, ...\n",
              "num_procedures                            [0.0, 1.0, 2.0, 3.0, 4.0, 5.0, 6.0]\n",
              "num_medications             [1.0, 2.0, 3.0, 4.0, 5.0, 6.0, 7.0, 8.0, 9.0, ...\n",
              "primary_diagnosis           [Diabetes, Genitourinary Issues, Musculoskelet...\n",
              "number_diagnoses            [1.0, 2.0, 3.0, 4.0, 5.0, 6.0, 7.0, 8.0, 9.0, ...\n",
              "max_glu_serum                                        [>200, >300, None, Norm]\n",
              "A1Cresult                                                [>7, >8, None, Norm]\n",
              "insulin                                                [Down, No, Steady, Up]\n",
              "change                                                               [Ch, No]\n",
              "diabetesMed                                                         [No, Yes]\n",
              "medicare                                                        [False, True]\n",
              "medicaid                                                        [False, True]\n",
              "had_emergency                                                   [False, True]\n",
              "had_inpatient_days                                              [False, True]\n",
              "had_outpatient_days                                             [False, True]\n",
              "dtype: object"
            ]
          },
          "execution_count": 9,
          "metadata": {},
          "output_type": "execute_result"
        }
      ],
      "source": [
        "#@markdown\n",
        "unique_feature_values = x_raw.apply(np.unique, axis=0)\n",
        "unique_feature_values"
      ]
    },
    {
      "cell_type": "code",
      "execution_count": null,
      "metadata": {
        "colab": {
          "base_uri": "https://localhost:8080/"
        },
        "id": "FMrfl2a0RL2i",
        "outputId": "b5c98c0b-c981-4a3a-c842-dd9a5a597dd9"
      },
      "outputs": [
        {
          "name": "stdout",
          "output_type": "stream",
          "text": [
            "Binary features: ['gender' 'discharge_disposition_id' 'change' 'diabetesMed' 'medicare'\n",
            " 'medicaid' 'had_emergency' 'had_inpatient_days' 'had_outpatient_days']\n",
            "Categorical features: ['race' 'age' 'admission_source_id' 'medical_specialty'\n",
            " 'primary_diagnosis' 'max_glu_serum' 'A1Cresult' 'insulin']\n"
          ]
        }
      ],
      "source": [
        "#@markdown\n",
        "binary_features = unique_feature_values.index[[len(x) == 2 for x in unique_feature_values]].values\n",
        "print(f'Binary features: {binary_features}')\n",
        "categorical_features = unique_feature_values.index[[len(x) > 2 and isinstance(x[0], str) for x in unique_feature_values]].values\n",
        "print(f'Categorical features: {categorical_features}')"
      ]
    },
    {
      "cell_type": "code",
      "execution_count": null,
      "metadata": {
        "id": "pxllwrtKRy4b"
      },
      "outputs": [],
      "source": [
        "#@markdown standardize data types \n",
        "for col_name in feature_names:\n",
        "    if col_name in categorical_features:\n",
        "        x_raw[col_name] = x_raw[col_name].astype('category')\n",
        "    elif col_name in binary_features:  # redundant for clarity\n",
        "        # turn into int column\n",
        "        integer_col = (x_raw[col_name] == unique_feature_values[col_name][0]).astype(int)\n",
        "        new_name = f'{col_name}_{unique_feature_values[col_name][0]}'\n",
        "        x_raw[new_name] = integer_col\n",
        "        x_raw.drop(columns=[col_name], inplace=True) "
      ]
    },
    {
      "cell_type": "code",
      "execution_count": null,
      "metadata": {
        "id": "7hXQfOL7StD2"
      },
      "outputs": [],
      "source": [
        "%%capture\n",
        "#@markdown\n",
        "x_raw.apply(np.unique, axis=0)"
      ]
    },
    {
      "cell_type": "code",
      "execution_count": null,
      "metadata": {
        "colab": {
          "base_uri": "https://localhost:8080/"
        },
        "id": "YrY2593wUQu0",
        "outputId": "d64dc2e5-f7c7-4477-a365-cd11513ec31e"
      },
      "outputs": [
        {
          "data": {
            "text/plain": [
              "race                                           category\n",
              "age                                            category\n",
              "admission_source_id                            category\n",
              "time_in_hospital                                float64\n",
              "medical_specialty                              category\n",
              "num_lab_procedures                              float64\n",
              "num_procedures                                  float64\n",
              "num_medications                                 float64\n",
              "primary_diagnosis                              category\n",
              "number_diagnoses                                float64\n",
              "max_glu_serum                                  category\n",
              "A1Cresult                                      category\n",
              "insulin                                        category\n",
              "gender_Female                                     int32\n",
              "discharge_disposition_id_Discharged to Home       int32\n",
              "change_Ch                                         int32\n",
              "diabetesMed_No                                    int32\n",
              "medicare_False                                    int32\n",
              "medicaid_False                                    int32\n",
              "had_emergency_False                               int32\n",
              "had_inpatient_days_False                          int32\n",
              "had_outpatient_days_False                         int32\n",
              "dtype: object"
            ]
          },
          "execution_count": 20,
          "metadata": {},
          "output_type": "execute_result"
        }
      ],
      "source": [
        "x_raw.dtypes"
      ]
    },
    {
      "cell_type": "code",
      "execution_count": null,
      "metadata": {
        "colab": {
          "base_uri": "https://localhost:8080/",
          "height": 317
        },
        "id": "eIaANYyPEBvl",
        "outputId": "9ca6563d-4a8b-4c99-8877-0565aa1bb5af"
      },
      "outputs": [
        {
          "data": {
            "text/html": [
              "<div>\n",
              "<style scoped>\n",
              "    .dataframe tbody tr th:only-of-type {\n",
              "        vertical-align: middle;\n",
              "    }\n",
              "\n",
              "    .dataframe tbody tr th {\n",
              "        vertical-align: top;\n",
              "    }\n",
              "\n",
              "    .dataframe thead th {\n",
              "        text-align: right;\n",
              "    }\n",
              "</style>\n",
              "<table border=\"1\" class=\"dataframe\">\n",
              "  <thead>\n",
              "    <tr style=\"text-align: right;\">\n",
              "      <th></th>\n",
              "      <th>time_in_hospital</th>\n",
              "      <th>num_lab_procedures</th>\n",
              "      <th>num_procedures</th>\n",
              "      <th>num_medications</th>\n",
              "      <th>number_diagnoses</th>\n",
              "      <th>gender_Female</th>\n",
              "      <th>discharge_disposition_id_Discharged to Home</th>\n",
              "      <th>change_Ch</th>\n",
              "      <th>diabetesMed_No</th>\n",
              "      <th>medicare_False</th>\n",
              "      <th>...</th>\n",
              "      <th>max_glu_serum_None</th>\n",
              "      <th>max_glu_serum_Norm</th>\n",
              "      <th>A1Cresult_&gt;7</th>\n",
              "      <th>A1Cresult_&gt;8</th>\n",
              "      <th>A1Cresult_None</th>\n",
              "      <th>A1Cresult_Norm</th>\n",
              "      <th>insulin_Down</th>\n",
              "      <th>insulin_No</th>\n",
              "      <th>insulin_Steady</th>\n",
              "      <th>insulin_Up</th>\n",
              "    </tr>\n",
              "  </thead>\n",
              "  <tbody>\n",
              "    <tr>\n",
              "      <th>65884</th>\n",
              "      <td>3.0</td>\n",
              "      <td>49.0</td>\n",
              "      <td>6.0</td>\n",
              "      <td>27.0</td>\n",
              "      <td>9.0</td>\n",
              "      <td>0</td>\n",
              "      <td>1</td>\n",
              "      <td>1</td>\n",
              "      <td>0</td>\n",
              "      <td>1</td>\n",
              "      <td>...</td>\n",
              "      <td>1</td>\n",
              "      <td>0</td>\n",
              "      <td>0</td>\n",
              "      <td>0</td>\n",
              "      <td>1</td>\n",
              "      <td>0</td>\n",
              "      <td>0</td>\n",
              "      <td>0</td>\n",
              "      <td>0</td>\n",
              "      <td>1</td>\n",
              "    </tr>\n",
              "    <tr>\n",
              "      <th>86278</th>\n",
              "      <td>5.0</td>\n",
              "      <td>57.0</td>\n",
              "      <td>0.0</td>\n",
              "      <td>21.0</td>\n",
              "      <td>9.0</td>\n",
              "      <td>1</td>\n",
              "      <td>0</td>\n",
              "      <td>1</td>\n",
              "      <td>0</td>\n",
              "      <td>0</td>\n",
              "      <td>...</td>\n",
              "      <td>1</td>\n",
              "      <td>0</td>\n",
              "      <td>0</td>\n",
              "      <td>0</td>\n",
              "      <td>1</td>\n",
              "      <td>0</td>\n",
              "      <td>0</td>\n",
              "      <td>1</td>\n",
              "      <td>0</td>\n",
              "      <td>0</td>\n",
              "    </tr>\n",
              "    <tr>\n",
              "      <th>30000</th>\n",
              "      <td>4.0</td>\n",
              "      <td>37.0</td>\n",
              "      <td>2.0</td>\n",
              "      <td>9.0</td>\n",
              "      <td>5.0</td>\n",
              "      <td>0</td>\n",
              "      <td>1</td>\n",
              "      <td>0</td>\n",
              "      <td>1</td>\n",
              "      <td>1</td>\n",
              "      <td>...</td>\n",
              "      <td>1</td>\n",
              "      <td>0</td>\n",
              "      <td>0</td>\n",
              "      <td>0</td>\n",
              "      <td>1</td>\n",
              "      <td>0</td>\n",
              "      <td>0</td>\n",
              "      <td>1</td>\n",
              "      <td>0</td>\n",
              "      <td>0</td>\n",
              "    </tr>\n",
              "    <tr>\n",
              "      <th>51185</th>\n",
              "      <td>9.0</td>\n",
              "      <td>61.0</td>\n",
              "      <td>6.0</td>\n",
              "      <td>27.0</td>\n",
              "      <td>9.0</td>\n",
              "      <td>0</td>\n",
              "      <td>0</td>\n",
              "      <td>1</td>\n",
              "      <td>0</td>\n",
              "      <td>1</td>\n",
              "      <td>...</td>\n",
              "      <td>1</td>\n",
              "      <td>0</td>\n",
              "      <td>0</td>\n",
              "      <td>1</td>\n",
              "      <td>0</td>\n",
              "      <td>0</td>\n",
              "      <td>0</td>\n",
              "      <td>1</td>\n",
              "      <td>0</td>\n",
              "      <td>0</td>\n",
              "    </tr>\n",
              "    <tr>\n",
              "      <th>53902</th>\n",
              "      <td>7.0</td>\n",
              "      <td>23.0</td>\n",
              "      <td>0.0</td>\n",
              "      <td>13.0</td>\n",
              "      <td>7.0</td>\n",
              "      <td>1</td>\n",
              "      <td>1</td>\n",
              "      <td>0</td>\n",
              "      <td>0</td>\n",
              "      <td>0</td>\n",
              "      <td>...</td>\n",
              "      <td>1</td>\n",
              "      <td>0</td>\n",
              "      <td>0</td>\n",
              "      <td>0</td>\n",
              "      <td>1</td>\n",
              "      <td>0</td>\n",
              "      <td>0</td>\n",
              "      <td>1</td>\n",
              "      <td>0</td>\n",
              "      <td>0</td>\n",
              "    </tr>\n",
              "  </tbody>\n",
              "</table>\n",
              "<p>5 rows × 49 columns</p>\n",
              "</div>"
            ],
            "text/plain": [
              "       time_in_hospital  num_lab_procedures  num_procedures  num_medications  \\\n",
              "65884               3.0                49.0             6.0             27.0   \n",
              "86278               5.0                57.0             0.0             21.0   \n",
              "30000               4.0                37.0             2.0              9.0   \n",
              "51185               9.0                61.0             6.0             27.0   \n",
              "53902               7.0                23.0             0.0             13.0   \n",
              "\n",
              "       number_diagnoses  gender_Female  \\\n",
              "65884               9.0              0   \n",
              "86278               9.0              1   \n",
              "30000               5.0              0   \n",
              "51185               9.0              0   \n",
              "53902               7.0              1   \n",
              "\n",
              "       discharge_disposition_id_Discharged to Home  change_Ch  diabetesMed_No  \\\n",
              "65884                                            1          1               0   \n",
              "86278                                            0          1               0   \n",
              "30000                                            1          0               1   \n",
              "51185                                            0          1               0   \n",
              "53902                                            1          0               0   \n",
              "\n",
              "       medicare_False  ...  max_glu_serum_None  max_glu_serum_Norm  \\\n",
              "65884               1  ...                   1                   0   \n",
              "86278               0  ...                   1                   0   \n",
              "30000               1  ...                   1                   0   \n",
              "51185               1  ...                   1                   0   \n",
              "53902               0  ...                   1                   0   \n",
              "\n",
              "       A1Cresult_>7  A1Cresult_>8  A1Cresult_None  A1Cresult_Norm  \\\n",
              "65884             0             0               1               0   \n",
              "86278             0             0               1               0   \n",
              "30000             0             0               1               0   \n",
              "51185             0             1               0               0   \n",
              "53902             0             0               1               0   \n",
              "\n",
              "       insulin_Down  insulin_No  insulin_Steady  insulin_Up  \n",
              "65884             0           0               0           1  \n",
              "86278             0           1               0           0  \n",
              "30000             0           1               0           0  \n",
              "51185             0           1               0           0  \n",
              "53902             0           1               0           0  \n",
              "\n",
              "[5 rows x 49 columns]"
            ]
          },
          "metadata": {},
          "output_type": "display_data"
        }
      ],
      "source": [
        "#@markdown One-hot encode categorical features\n",
        "x_numeric = pd.get_dummies(x_raw)\n",
        "display(x_numeric.head())\n",
        "\n",
        "# get one-hot and numeric column names\n",
        "numeric_cols = x_numeric.dtypes.index[x_numeric.dtypes == 'int64'].values\n",
        "one_hot_cols = x_numeric.dtypes.index[x_numeric.dtypes != 'int64'].values"
      ]
    },
    {
      "cell_type": "markdown",
      "metadata": {
        "id": "pLg6BiVp652g"
      },
      "source": [
        " # TODO: Split train, test data 80 train / 20 test \n"
      ]
    },
    {
      "cell_type": "code",
      "execution_count": null,
      "metadata": {
        "id": "OTP3ues-L0bm"
      },
      "outputs": [],
      "source": [
        "# write your code here \n",
        "\n",
        "X_train, X_test, y_train, y_test = train_test_split(x_numeric, y_raw, test_size=0.2, random_state=0)"
      ]
    },
    {
      "cell_type": "markdown",
      "metadata": {
        "id": "FaQZc9mkDBQc"
      },
      "source": [
        "# Problem 2, Part (a) \n",
        "### **Train a baseline Random Forest (RF) (sklearn RandomForestClassifier) model and report metrics**"
      ]
    },
    {
      "cell_type": "markdown",
      "metadata": {
        "id": "J_9U8nMU3pg0"
      },
      "source": [
        "### Train a random forest model - Baseline"
      ]
    },
    {
      "cell_type": "code",
      "execution_count": null,
      "metadata": {
        "colab": {
          "base_uri": "https://localhost:8080/",
          "height": 74
        },
        "id": "mftji5ws6z-O",
        "outputId": "81fe6dd4-0373-463c-a6c3-fa0808060df6"
      },
      "outputs": [
        {
          "data": {
            "text/plain": [
              "RandomForestClassifier(n_estimators=1)"
            ]
          },
          "execution_count": 43,
          "metadata": {},
          "output_type": "execute_result"
        }
      ],
      "source": [
        "# write your code here \n",
        "# initialize a model with RandomForestClassifier \n",
        "n_estimators = 1\n",
        "\n",
        "clf_baseline = RandomForestClassifier(n_estimators = 1)\n",
        "\n",
        "# train the model with the training data split\n",
        "clf_baseline.fit(X_train, y_train)"
      ]
    },
    {
      "cell_type": "markdown",
      "metadata": {
        "id": "HnLhqs6z1ASV"
      },
      "source": [
        "### Report metrics"
      ]
    },
    {
      "cell_type": "markdown",
      "metadata": {
        "id": "8jtZt43BOv0C"
      },
      "source": [
        "Calculate metrics with Fairlearn MetricFrame\n"
      ]
    },
    {
      "cell_type": "code",
      "execution_count": null,
      "metadata": {
        "id": "-o-cdBqa-9lX"
      },
      "outputs": [],
      "source": [
        "# write your code here \n",
        "\n",
        "# get model's prediction for the test set\n",
        "y_pred_baseline = clf_baseline.predict(X_test)\n",
        "\n",
        "# use MetricFrame to get the results \n",
        "sensitive_feature = X_test.gender_Female\n",
        "\n",
        "metric_dict = {'accuracy': accuracy_score,\n",
        "           'precision': precision_score, \n",
        "           'recall': recall_score,\n",
        "           'FNR': false_negative_rate,\n",
        "           'FPR': false_positive_rate}\n",
        "sample_params = {}\n",
        "\n",
        "metric_frame_baseline = MetricFrame(metrics=metric_dict,\n",
        "                             y_true=y_test,\n",
        "                             y_pred=y_pred_baseline,\n",
        "                             sensitive_features=sensitive_feature)"
      ]
    },
    {
      "cell_type": "code",
      "execution_count": null,
      "metadata": {
        "colab": {
          "base_uri": "https://localhost:8080/",
          "height": 143
        },
        "id": "KgWIFP7P1c-7",
        "outputId": "7ba9542f-83da-42f6-a3ae-b0666679486e"
      },
      "outputs": [
        {
          "data": {
            "text/html": [
              "<div>\n",
              "<style scoped>\n",
              "    .dataframe tbody tr th:only-of-type {\n",
              "        vertical-align: middle;\n",
              "    }\n",
              "\n",
              "    .dataframe tbody tr th {\n",
              "        vertical-align: top;\n",
              "    }\n",
              "\n",
              "    .dataframe thead th {\n",
              "        text-align: right;\n",
              "    }\n",
              "</style>\n",
              "<table border=\"1\" class=\"dataframe\">\n",
              "  <thead>\n",
              "    <tr style=\"text-align: right;\">\n",
              "      <th></th>\n",
              "      <th>accuracy</th>\n",
              "      <th>precision</th>\n",
              "      <th>recall</th>\n",
              "      <th>FNR</th>\n",
              "      <th>FPR</th>\n",
              "    </tr>\n",
              "    <tr>\n",
              "      <th>gender_Female</th>\n",
              "      <th></th>\n",
              "      <th></th>\n",
              "      <th></th>\n",
              "      <th></th>\n",
              "      <th></th>\n",
              "    </tr>\n",
              "  </thead>\n",
              "  <tbody>\n",
              "    <tr>\n",
              "      <th>0</th>\n",
              "      <td>0.538883</td>\n",
              "      <td>0.480769</td>\n",
              "      <td>0.493827</td>\n",
              "      <td>0.506173</td>\n",
              "      <td>0.425197</td>\n",
              "    </tr>\n",
              "    <tr>\n",
              "      <th>1</th>\n",
              "      <td>0.528940</td>\n",
              "      <td>0.497207</td>\n",
              "      <td>0.507605</td>\n",
              "      <td>0.492395</td>\n",
              "      <td>0.452261</td>\n",
              "    </tr>\n",
              "  </tbody>\n",
              "</table>\n",
              "</div>"
            ],
            "text/plain": [
              "               accuracy  precision    recall       FNR       FPR\n",
              "gender_Female                                                   \n",
              "0              0.538883   0.480769  0.493827  0.506173  0.425197\n",
              "1              0.528940   0.497207  0.507605  0.492395  0.452261"
            ]
          },
          "execution_count": 45,
          "metadata": {},
          "output_type": "execute_result"
        }
      ],
      "source": [
        "#metric i-v for men and women\n",
        "metric_frame_baseline.by_group"
      ]
    },
    {
      "cell_type": "code",
      "execution_count": null,
      "metadata": {
        "colab": {
          "base_uri": "https://localhost:8080/",
          "height": 675
        },
        "id": "DHfrHFDN6Oo-",
        "outputId": "ce6427de-eb85-49d0-b02a-1a47ef528986"
      },
      "outputs": [
        {
          "data": {
            "image/png": "[encoded data removed]",
            "text/plain": [
              "<Figure size 360x720 with 5 Axes>"
            ]
          },
          "metadata": {
            "needs_background": "light"
          },
          "output_type": "display_data"
        }
      ],
      "source": [
        "metric_frame_baseline.by_group.plot.bar(\n",
        "    subplots=True, \n",
        "    figsize=(5, 10), \n",
        "    ylim=[0,1],\n",
        "    title=\"Metrics by gender\",\n",
        "    )\n",
        "plt.show()"
      ]
    },
    {
      "cell_type": "markdown",
      "metadata": {
        "id": "0wXnL70HO0nc"
      },
      "source": [
        "Print Results"
      ]
    },
    {
      "cell_type": "code",
      "execution_count": null,
      "metadata": {
        "colab": {
          "base_uri": "https://localhost:8080/"
        },
        "id": "ffx5OX1K3Xy0",
        "outputId": "a166a332-40ab-4fae-90e7-ef28fc17838c"
      },
      "outputs": [
        {
          "data": {
            "text/plain": [
              "accuracy     0.533399\n",
              "precision    0.490031\n",
              "recall       0.501611\n",
              "FNR          0.498389\n",
              "FPR          0.439819\n",
              "dtype: float64"
            ]
          },
          "execution_count": 47,
          "metadata": {},
          "output_type": "execute_result"
        }
      ],
      "source": [
        "#metriv i-v for overall\n",
        "metric_frame_baseline.overall"
      ]
    },
    {
      "cell_type": "code",
      "execution_count": null,
      "metadata": {
        "colab": {
          "base_uri": "https://localhost:8080/"
        },
        "id": "zdAle97FOwPG",
        "outputId": "b90e3a1b-5ea1-4343-9cf9-c38fc0cf6c63"
      },
      "outputs": [
        {
          "name": "stdout",
          "output_type": "stream",
          "text": [
            "false negative rate difference: 0.0138\n",
            "false positive rate difference: 0.0271\n",
            "demographic parity ratio: 0.9529\n",
            "equalized odds ratio: 0.9402\n",
            "selection rate difference: 0.0225\n"
          ]
        }
      ],
      "source": [
        "#compute fairness metrics\n",
        "fnr_diff_baseline = false_negative_rate_difference(y_test, y_pred_baseline, sensitive_features=X_test.gender_Female)\n",
        "fpr_diff_baseline = false_positive_rate_difference(y_test, y_pred_baseline, sensitive_features=X_test.gender_Female)\n",
        "demo_parity_ratio_baseline = demographic_parity_ratio(y_test, y_pred_baseline, sensitive_features=X_test.gender_Female)\n",
        "eq_odds_ratio_baseline = equalized_odds_ratio(y_test, y_pred_baseline, sensitive_features=X_test.gender_Female)\n",
        "selection_rate_diff_baseline = selection_rate_difference(y_test, y_pred_baseline, sensitive_features=X_test.gender_Female)\n",
        "\n",
        "#metric vi-x for overall\n",
        "print(f'false negative rate difference: {fnr_diff_baseline:.4f}')\n",
        "print(f'false positive rate difference: {fpr_diff_baseline:.4f}')\n",
        "print(f'demographic parity ratio: {demo_parity_ratio_baseline:.4f}')\n",
        "print(f'equalized odds ratio: {eq_odds_ratio_baseline:.4f}')\n",
        "print(f'selection rate difference: {selection_rate_diff_baseline:.4f}')"
      ]
    },
    {
      "cell_type": "markdown",
      "source": [
        "Using the baseline random forest with n_estimator = 1, obtained metrics, which are displyed as above. Since accuracy, precision, recall, FNR, and FPR and all around 0.5, true positive, true negative, false positive, and false negative have approximately the same case. While there is not much predictive power to the baseline random forest model (we are doing slightly better than random guess), we do get relatively equal metrics considering our sensitive attribute. Accuracy, precision, recall, FNR, FPR does not have significant gaps between male and female. Overall metrics VI-X further corroborate with the graph of metric by gender."
      ],
      "metadata": {
        "id": "4rzcF_z_8dpY"
      }
    },
    {
      "cell_type": "markdown",
      "metadata": {
        "id": "pDinJweUQT-w"
      },
      "source": [
        "# Problem 2, Part (b)"
      ]
    },
    {
      "cell_type": "markdown",
      "metadata": {
        "id": "Kh1ruIp8Woyf"
      },
      "source": [
        "Train another classifier with the following value of hyperparameters"
      ]
    },
    {
      "cell_type": "code",
      "execution_count": null,
      "metadata": {
        "colab": {
          "base_uri": "https://localhost:8080/",
          "height": 74
        },
        "id": "1bGhluekQU8v",
        "outputId": "10e7e9f8-97c4-4058-8d62-b93beef5f589"
      },
      "outputs": [
        {
          "data": {
            "text/plain": [
              "RandomForestClassifier(max_depth=10, n_estimators=1000)"
            ]
          },
          "execution_count": 49,
          "metadata": {},
          "output_type": "execute_result"
        }
      ],
      "source": [
        "# write your code here \n",
        "n_estimators = 1000\n",
        "max_depth = 10\n",
        "# initialize a model with RandomForestClassifier \n",
        "clf = RandomForestClassifier(n_estimators = 1000, max_depth = 10)\n",
        "\n",
        "# train the model with the training data split\n",
        "clf.fit(X_train, y_train)"
      ]
    },
    {
      "cell_type": "markdown",
      "metadata": {
        "id": "GWn_275zUS28"
      },
      "source": [
        "Calculate metrics with Fairlearn MetricFrame\n",
        "and print the results"
      ]
    },
    {
      "cell_type": "code",
      "execution_count": null,
      "metadata": {
        "id": "URm6dK9VQVKj"
      },
      "outputs": [],
      "source": [
        "# get model's prediction for the test set\n",
        "y_pred = clf.predict(X_test)\n",
        "\n",
        "# use MetricFrame to get the results \n",
        "sensitive_feature = X_test.gender_Female\n",
        "\n",
        "metric_dict = {'accuracy': accuracy_score,\n",
        "           'precision': precision_score, \n",
        "           'recall': recall_score,\n",
        "           'FNR': false_negative_rate,\n",
        "           'FPR': false_positive_rate}\n",
        "sample_params = {}\n",
        "\n",
        "metric_frame = MetricFrame(metrics=metric_dict,\n",
        "                             y_true=y_test,\n",
        "                             y_pred=y_pred,\n",
        "                             sensitive_features=sensitive_feature)"
      ]
    },
    {
      "cell_type": "code",
      "execution_count": null,
      "metadata": {
        "colab": {
          "base_uri": "https://localhost:8080/",
          "height": 143
        },
        "id": "p-Ovh9il3uXX",
        "outputId": "629bed1a-a8da-4b36-c2f4-b8285d0843fe"
      },
      "outputs": [
        {
          "data": {
            "text/html": [
              "<div>\n",
              "<style scoped>\n",
              "    .dataframe tbody tr th:only-of-type {\n",
              "        vertical-align: middle;\n",
              "    }\n",
              "\n",
              "    .dataframe tbody tr th {\n",
              "        vertical-align: top;\n",
              "    }\n",
              "\n",
              "    .dataframe thead th {\n",
              "        text-align: right;\n",
              "    }\n",
              "</style>\n",
              "<table border=\"1\" class=\"dataframe\">\n",
              "  <thead>\n",
              "    <tr style=\"text-align: right;\">\n",
              "      <th></th>\n",
              "      <th>accuracy</th>\n",
              "      <th>precision</th>\n",
              "      <th>recall</th>\n",
              "      <th>FNR</th>\n",
              "      <th>FPR</th>\n",
              "    </tr>\n",
              "    <tr>\n",
              "      <th>gender_Female</th>\n",
              "      <th></th>\n",
              "      <th></th>\n",
              "      <th></th>\n",
              "      <th></th>\n",
              "      <th></th>\n",
              "    </tr>\n",
              "  </thead>\n",
              "  <tbody>\n",
              "    <tr>\n",
              "      <th>0</th>\n",
              "      <td>0.618839</td>\n",
              "      <td>0.601423</td>\n",
              "      <td>0.417284</td>\n",
              "      <td>0.582716</td>\n",
              "      <td>0.220472</td>\n",
              "    </tr>\n",
              "    <tr>\n",
              "      <th>1</th>\n",
              "      <td>0.634907</td>\n",
              "      <td>0.636792</td>\n",
              "      <td>0.513308</td>\n",
              "      <td>0.486692</td>\n",
              "      <td>0.257956</td>\n",
              "    </tr>\n",
              "  </tbody>\n",
              "</table>\n",
              "</div>"
            ],
            "text/plain": [
              "               accuracy  precision    recall       FNR       FPR\n",
              "gender_Female                                                   \n",
              "0              0.618839   0.601423  0.417284  0.582716  0.220472\n",
              "1              0.634907   0.636792  0.513308  0.486692  0.257956"
            ]
          },
          "execution_count": 51,
          "metadata": {},
          "output_type": "execute_result"
        }
      ],
      "source": [
        "metric_frame.by_group"
      ]
    },
    {
      "cell_type": "code",
      "execution_count": null,
      "metadata": {
        "colab": {
          "base_uri": "https://localhost:8080/",
          "height": 675
        },
        "id": "ShrMEgzW6en5",
        "outputId": "61567647-8446-48cb-9267-419f07f60dc0"
      },
      "outputs": [
        {
          "data": {
            "image/png": "[encoded data removed]",
            "text/plain": [
              "<Figure size 360x720 with 5 Axes>"
            ]
          },
          "metadata": {
            "needs_background": "light"
          },
          "output_type": "display_data"
        }
      ],
      "source": [
        "metric_frame.by_group.plot.bar(\n",
        "    subplots=True, \n",
        "    figsize=(5, 10), \n",
        "    ylim=[0,1],\n",
        "    title=\"Metrics by gender\",\n",
        "    )\n",
        "plt.show()"
      ]
    },
    {
      "cell_type": "code",
      "execution_count": null,
      "metadata": {
        "colab": {
          "base_uri": "https://localhost:8080/"
        },
        "id": "qQGnCgli34jH",
        "outputId": "03c82049-6207-4b3d-d0f8-f92fc38e2107"
      },
      "outputs": [
        {
          "data": {
            "text/plain": [
              "accuracy     0.627701\n",
              "precision    0.622695\n",
              "recall       0.471536\n",
              "FNR          0.528464\n",
              "FPR          0.240724\n",
              "dtype: float64"
            ]
          },
          "execution_count": 53,
          "metadata": {},
          "output_type": "execute_result"
        }
      ],
      "source": [
        "metric_frame.overall"
      ]
    },
    {
      "cell_type": "code",
      "execution_count": null,
      "metadata": {
        "colab": {
          "base_uri": "https://localhost:8080/"
        },
        "id": "-OusZ0c6uVlX",
        "outputId": "b5fb7929-28f7-412d-a0ed-1a529a32c3f8"
      },
      "outputs": [
        {
          "name": "stdout",
          "output_type": "stream",
          "text": [
            "false negative rate difference: 0.0960\n",
            "false positive rate difference: 0.0375\n",
            "demographic parity ratio: 0.8152\n",
            "equalized odds ratio: 0.8129\n",
            "selection rate difference: 0.0698\n"
          ]
        }
      ],
      "source": [
        "#compute fairness metrics\n",
        "fnr_diff = false_negative_rate_difference(y_test, y_pred, sensitive_features=X_test.gender_Female)\n",
        "fpr_diff = false_positive_rate_difference(y_test, y_pred, sensitive_features=X_test.gender_Female)\n",
        "demo_parity_ratio = demographic_parity_ratio(y_test, y_pred, sensitive_features=X_test.gender_Female)\n",
        "eq_odds_ratio = equalized_odds_ratio(y_test, y_pred, sensitive_features=X_test.gender_Female)\n",
        "selection_rate_diff = selection_rate_difference(y_test, y_pred, sensitive_features=X_test.gender_Female)\n",
        "\n",
        "print(f'false negative rate difference: {fnr_diff:.4f}')\n",
        "print(f'false positive rate difference: {fpr_diff:.4f}')\n",
        "print(f'demographic parity ratio: {demo_parity_ratio:.4f}')\n",
        "print(f'equalized odds ratio: {eq_odds_ratio:.4f}')\n",
        "print(f'selection rate difference: {selection_rate_diff:.4f}')"
      ]
    },
    {
      "cell_type": "markdown",
      "source": [
        "For our optimized random forest model,the accuracy improved to 62.57% Compared to the baseline model, we see an improvement in precision but a significant drop in FPR. However there is a drop in the performance of overall metrics VI-X. We see an increase in false negative rate difference, false positive rate difference, and selection rate difference. The demographic parity ratio and equalized odds ratio is also further away from 1. \n",
        "\n",
        "Looking at hyperparameters, we see that n_estimator changed from 1 (baseline estimator) to 1000, and the maximum depth of the tree is also increased. Logically, increasing the number of trees and the complexity of nodes in the trees could increase the accuracy of our predcition model. But improving accuracy might in term be fitting more to our training data. If the dataset has underlying bias, then fairness metric would perform worse than a baseline model.\n",
        "\n",
        "In conlcusion, the accuracy optimized random forest model suggests a tradeoff between accuracy and performance of fairness metrics."
      ],
      "metadata": {
        "id": "btnui5Be8kcS"
      }
    },
    {
      "cell_type": "markdown",
      "metadata": {
        "id": "1TxGuvaynIP6"
      },
      "source": [
        "# Problem 2, Part (c) \n",
        "### **Fit Fairlean Adversarial Debiaser**\n",
        "\n",
        "Experiment with the alpha parameter - which value of alpha produces the fairest and most accurate classifier? Does such a value exist?"
      ]
    },
    {
      "cell_type": "code",
      "execution_count": null,
      "metadata": {
        "colab": {
          "base_uri": "https://localhost:8080/",
          "height": 285
        },
        "id": "IXHVzAFe_qE2",
        "outputId": "e3f4ca1d-bc7e-4946-a1b7-e9b92e85a8a8"
      },
      "outputs": [
        {
          "name": "stderr",
          "output_type": "stream",
          "text": [
            "/usr/local/lib/python3.9/dist-packages/sklearn/preprocessing/_encoders.py:828: FutureWarning: `sparse` was renamed to `sparse_output` in version 1.2 and will be removed in 1.4. `sparse_output` is ignored unless you leave `sparse` to its default value.\n",
            "  warnings.warn(\n",
            "/usr/local/lib/python3.9/dist-packages/sklearn/preprocessing/_encoders.py:828: FutureWarning: `sparse` was renamed to `sparse_output` in version 1.2 and will be removed in 1.4. `sparse_output` is ignored unless you leave `sparse` to its default value.\n",
            "  warnings.warn(\n",
            "/usr/local/lib/python3.9/dist-packages/keras/initializers/initializers_v2.py:120: UserWarning: The initializer GlorotNormal is unseeded and being called multiple times, which will return identical values  each time (even if the initializer is unseeded). Please update your code to provide a seed to the initializer, or avoid using the same initalizer instance more than once.\n",
            "  warnings.warn(\n",
            "WARNING:tensorflow:5 out of the last 5 calls to <function _BaseOptimizer._update_step_xla at 0x7fb8c02fb670> triggered tf.function retracing. Tracing is expensive and the excessive number of tracings could be due to (1) creating @tf.function repeatedly in a loop, (2) passing tensors with different shapes, (3) passing Python objects instead of tensors. For (1), please define your @tf.function outside of the loop. For (2), @tf.function has reduce_retracing=True option that can avoid unnecessary retracing. For (3), please refer to https://www.tensorflow.org/guide/function#controlling_retracing and https://www.tensorflow.org/api_docs/python/tf/function for  more details.\n",
            "WARNING:tensorflow:6 out of the last 6 calls to <function _BaseOptimizer._update_step_xla at 0x7fb8c02fb670> triggered tf.function retracing. Tracing is expensive and the excessive number of tracings could be due to (1) creating @tf.function repeatedly in a loop, (2) passing tensors with different shapes, (3) passing Python objects instead of tensors. For (1), please define your @tf.function outside of the loop. For (2), @tf.function has reduce_retracing=True option that can avoid unnecessary retracing. For (3), please refer to https://www.tensorflow.org/guide/function#controlling_retracing and https://www.tensorflow.org/api_docs/python/tf/function for  more details.\n"
          ]
        },
        {
          "data": {
            "text/html": [
              "<style>#sk-container-id-11 {color: black;background-color: white;}#sk-container-id-11 pre{padding: 0;}#sk-container-id-11 div.sk-toggleable {background-color: white;}#sk-container-id-11 label.sk-toggleable__label {cursor: pointer;display: block;width: 100%;margin-bottom: 0;padding: 0.3em;box-sizing: border-box;text-align: center;}#sk-container-id-11 label.sk-toggleable__label-arrow:before {content: \"▸\";float: left;margin-right: 0.25em;color: #696969;}#sk-container-id-11 label.sk-toggleable__label-arrow:hover:before {color: black;}#sk-container-id-11 div.sk-estimator:hover label.sk-toggleable__label-arrow:before {color: black;}#sk-container-id-11 div.sk-toggleable__content {max-height: 0;max-width: 0;overflow: hidden;text-align: left;background-color: #f0f8ff;}#sk-container-id-11 div.sk-toggleable__content pre {margin: 0.2em;color: black;border-radius: 0.25em;background-color: #f0f8ff;}#sk-container-id-11 input.sk-toggleable__control:checked~div.sk-toggleable__content {max-height: 200px;max-width: 100%;overflow: auto;}#sk-container-id-11 input.sk-toggleable__control:checked~label.sk-toggleable__label-arrow:before {content: \"▾\";}#sk-container-id-11 div.sk-estimator input.sk-toggleable__control:checked~label.sk-toggleable__label {background-color: #d4ebff;}#sk-container-id-11 div.sk-label input.sk-toggleable__control:checked~label.sk-toggleable__label {background-color: #d4ebff;}#sk-container-id-11 input.sk-hidden--visually {border: 0;clip: rect(1px 1px 1px 1px);clip: rect(1px, 1px, 1px, 1px);height: 1px;margin: -1px;overflow: hidden;padding: 0;position: absolute;width: 1px;}#sk-container-id-11 div.sk-estimator {font-family: monospace;background-color: #f0f8ff;border: 1px dotted black;border-radius: 0.25em;box-sizing: border-box;margin-bottom: 0.5em;}#sk-container-id-11 div.sk-estimator:hover {background-color: #d4ebff;}#sk-container-id-11 div.sk-parallel-item::after {content: \"\";width: 100%;border-bottom: 1px solid gray;flex-grow: 1;}#sk-container-id-11 div.sk-label:hover label.sk-toggleable__label {background-color: #d4ebff;}#sk-container-id-11 div.sk-serial::before {content: \"\";position: absolute;border-left: 1px solid gray;box-sizing: border-box;top: 0;bottom: 0;left: 50%;z-index: 0;}#sk-container-id-11 div.sk-serial {display: flex;flex-direction: column;align-items: center;background-color: white;padding-right: 0.2em;padding-left: 0.2em;position: relative;}#sk-container-id-11 div.sk-item {position: relative;z-index: 1;}#sk-container-id-11 div.sk-parallel {display: flex;align-items: stretch;justify-content: center;background-color: white;position: relative;}#sk-container-id-11 div.sk-item::before, #sk-container-id-11 div.sk-parallel-item::before {content: \"\";position: absolute;border-left: 1px solid gray;box-sizing: border-box;top: 0;bottom: 0;left: 50%;z-index: -1;}#sk-container-id-11 div.sk-parallel-item {display: flex;flex-direction: column;z-index: 1;position: relative;background-color: white;}#sk-container-id-11 div.sk-parallel-item:first-child::after {align-self: flex-end;width: 50%;}#sk-container-id-11 div.sk-parallel-item:last-child::after {align-self: flex-start;width: 50%;}#sk-container-id-11 div.sk-parallel-item:only-child::after {width: 0;}#sk-container-id-11 div.sk-dashed-wrapped {border: 1px dashed gray;margin: 0 0.4em 0.5em 0.4em;box-sizing: border-box;padding-bottom: 0.4em;background-color: white;}#sk-container-id-11 div.sk-label label {font-family: monospace;font-weight: bold;display: inline-block;line-height: 1.2em;}#sk-container-id-11 div.sk-label-container {text-align: center;}#sk-container-id-11 div.sk-container {/* jupyter's `normalize.less` sets `[hidden] { display: none; }` but bootstrap.min.css set `[hidden] { display: none !important; }` so we also need the `!important` here to be able to override the default hidden behavior on the sphinx rendered scikit-learn.org. See: https://github.com/scikit-learn/scikit-learn/issues/21755 */display: inline-block !important;position: relative;}#sk-container-id-11 div.sk-text-repr-fallback {display: none;}</style><div id=\"sk-container-id-11\" class=\"sk-top-container\"><div class=\"sk-text-repr-fallback\"><pre>AdversarialFairnessClassifier(adversary_model=[32, 16, 8], alpha=1,\n",
              "                              backend=&#x27;tensorflow&#x27;, batch_size=16, epochs=3,\n",
              "                              predictor_model=[128, 64, 32, 16, 8],\n",
              "                              random_state=0, shuffle=True)</pre><b>In a Jupyter environment, please rerun this cell to show the HTML representation or trust the notebook. <br />On GitHub, the HTML representation is unable to render, please try loading this page with nbviewer.org.</b></div><div class=\"sk-container\" hidden><div class=\"sk-item\"><div class=\"sk-estimator sk-toggleable\"><input class=\"sk-toggleable__control sk-hidden--visually\" id=\"sk-estimator-id-11\" type=\"checkbox\" checked><label for=\"sk-estimator-id-11\" class=\"sk-toggleable__label sk-toggleable__label-arrow\">AdversarialFairnessClassifier</label><div class=\"sk-toggleable__content\"><pre>AdversarialFairnessClassifier(adversary_model=[32, 16, 8], alpha=1,\n",
              "                              backend=&#x27;tensorflow&#x27;, batch_size=16, epochs=3,\n",
              "                              predictor_model=[128, 64, 32, 16, 8],\n",
              "                              random_state=0, shuffle=True)</pre></div></div></div></div></div>"
            ],
            "text/plain": [
              "AdversarialFairnessClassifier(adversary_model=[32, 16, 8], alpha=1,\n",
              "                              backend='tensorflow', batch_size=16, epochs=3,\n",
              "                              predictor_model=[128, 64, 32, 16, 8],\n",
              "                              random_state=0, shuffle=True)"
            ]
          },
          "execution_count": 88,
          "metadata": {},
          "output_type": "execute_result"
        }
      ],
      "source": [
        "#@markdown Fit the AdversarialFairnessClassifier here.\n",
        "\n",
        "#@markdown Use these hyperparameters, while varying the `alpha` parameter:\n",
        "#@markdown - backend='tensorflow',\n",
        "#@markdown - predictor_model=[128,64,32,16,8],\n",
        "#@markdown - adversary_model=[32,16,8],\n",
        "#@markdown - learning_rate=0.001,\n",
        "#@markdown - epochs=3,\n",
        "#@markdown - batch_size=16,\n",
        "#@markdown - constraints='demographic_parity',\n",
        "#@markdown - random_state=seed,\n",
        "#@markdown - shuffle=True\n",
        "\n",
        "cfl_af = AdversarialFairnessClassifier(backend='tensorflow',\n",
        "  predictor_model=[128,64,32,16,8],\n",
        "  adversary_model=[32,16,8],\n",
        "  learning_rate=0.001,\n",
        "  alpha = 1,\n",
        "  epochs=3,\n",
        "  batch_size=16,\n",
        "  constraints='demographic_parity',\n",
        "  random_state= 0,\n",
        "  shuffle=True)\n",
        "\n",
        "cfl_af.fit(X_train, y_train, sensitive_features = X_train.gender_Female)"
      ]
    },
    {
      "cell_type": "code",
      "execution_count": null,
      "metadata": {
        "id": "s9VlIMWj5U70"
      },
      "outputs": [],
      "source": [
        "y_pred_af = cfl_af.predict(X_test)\n",
        "\n",
        "# use MetricFrame to get the results \n",
        "sensitive_feature = X_test.gender_Female\n",
        "\n",
        "metric_dict = {'accuracy': accuracy_score,\n",
        "           'precision': precision_score, \n",
        "           'recall': recall_score,\n",
        "           'FNR': false_negative_rate,\n",
        "           'FPR': false_positive_rate}\n",
        "sample_params = {}\n",
        "\n",
        "metric_frame_af = MetricFrame(metrics=metric_dict,\n",
        "                             y_true=y_test,\n",
        "                             y_pred=y_pred_af,\n",
        "                             sensitive_features=sensitive_feature)"
      ]
    },
    {
      "cell_type": "code",
      "execution_count": null,
      "metadata": {
        "colab": {
          "base_uri": "https://localhost:8080/"
        },
        "id": "O9SzrTDj6FcX",
        "outputId": "e8015a8e-a149-4f55-8f16-bebd77bf5c43"
      },
      "outputs": [
        {
          "data": {
            "text/plain": [
              "accuracy     0.590864\n",
              "precision    0.681481\n",
              "recall       0.197637\n",
              "FNR          0.802363\n",
              "FPR          0.077828\n",
              "dtype: float64"
            ]
          },
          "execution_count": 99,
          "metadata": {},
          "output_type": "execute_result"
        }
      ],
      "source": [
        "metric_frame_af.overall"
      ]
    },
    {
      "cell_type": "code",
      "execution_count": null,
      "metadata": {
        "colab": {
          "base_uri": "https://localhost:8080/"
        },
        "id": "ihMnIkQGBkwS",
        "outputId": "310e76fe-c591-425a-e3ad-c8bfe0c06e66"
      },
      "outputs": [
        {
          "data": {
            "text/plain": [
              "array([0.59086444, 0.68148148, 0.19763695, 0.80236305, 0.07782805,\n",
              "       1.        ])"
            ]
          },
          "execution_count": 130,
          "metadata": {},
          "output_type": "execute_result"
        }
      ],
      "source": [
        "arr_test = np.append(metric_frame_af.overall, [1])\n",
        "arr_test"
      ]
    },
    {
      "cell_type": "code",
      "execution_count": null,
      "metadata": {
        "colab": {
          "base_uri": "https://localhost:8080/",
          "height": 143
        },
        "id": "14lLAw-i6XJM",
        "outputId": "325f4b74-6253-4bdf-fd71-bec73761a9b7"
      },
      "outputs": [
        {
          "data": {
            "text/html": [
              "\n",
              "  <div id=\"df-43129672-2b01-496a-a7fd-0b22fa47490e\">\n",
              "    <div class=\"colab-df-container\">\n",
              "      <div>\n",
              "<style scoped>\n",
              "    .dataframe tbody tr th:only-of-type {\n",
              "        vertical-align: middle;\n",
              "    }\n",
              "\n",
              "    .dataframe tbody tr th {\n",
              "        vertical-align: top;\n",
              "    }\n",
              "\n",
              "    .dataframe thead th {\n",
              "        text-align: right;\n",
              "    }\n",
              "</style>\n",
              "<table border=\"1\" class=\"dataframe\">\n",
              "  <thead>\n",
              "    <tr style=\"text-align: right;\">\n",
              "      <th></th>\n",
              "      <th>accuracy</th>\n",
              "      <th>precision</th>\n",
              "      <th>recall</th>\n",
              "      <th>FNR</th>\n",
              "      <th>FPR</th>\n",
              "    </tr>\n",
              "    <tr>\n",
              "      <th>gender_Female</th>\n",
              "      <th></th>\n",
              "      <th></th>\n",
              "      <th></th>\n",
              "      <th></th>\n",
              "      <th></th>\n",
              "    </tr>\n",
              "  </thead>\n",
              "  <tbody>\n",
              "    <tr>\n",
              "      <th>0</th>\n",
              "      <td>0.589266</td>\n",
              "      <td>0.622951</td>\n",
              "      <td>0.187654</td>\n",
              "      <td>0.812346</td>\n",
              "      <td>0.090551</td>\n",
              "    </tr>\n",
              "    <tr>\n",
              "      <th>1</th>\n",
              "      <td>0.592164</td>\n",
              "      <td>0.729730</td>\n",
              "      <td>0.205323</td>\n",
              "      <td>0.794677</td>\n",
              "      <td>0.067002</td>\n",
              "    </tr>\n",
              "  </tbody>\n",
              "</table>\n",
              "</div>\n",
              "      <button class=\"colab-df-convert\" onclick=\"convertToInteractive('df-43129672-2b01-496a-a7fd-0b22fa47490e')\"\n",
              "              title=\"Convert this dataframe to an interactive table.\"\n",
              "              style=\"display:none;\">\n",
              "        \n",
              "  <svg xmlns=\"http://www.w3.org/2000/svg\" height=\"24px\"viewBox=\"0 0 24 24\"\n",
              "       width=\"24px\">\n",
              "    <path d=\"M0 0h24v24H0V0z\" fill=\"none\"/>\n",
              "    <path d=\"M18.56 5.44l.94 2.06.94-2.06 2.06-.94-2.06-.94-.94-2.06-.94 2.06-2.06.94zm-11 1L8.5 8.5l.94-2.06 2.06-.94-2.06-.94L8.5 2.5l-.94 2.06-2.06.94zm10 10l.94 2.06.94-2.06 2.06-.94-2.06-.94-.94-2.06-.94 2.06-2.06.94z\"/><path d=\"M17.41 7.96l-1.37-1.37c-.4-.4-.92-.59-1.43-.59-.52 0-1.04.2-1.43.59L10.3 9.45l-7.72 7.72c-.78.78-.78 2.05 0 2.83L4 21.41c.39.39.9.59 1.41.59.51 0 1.02-.2 1.41-.59l7.78-7.78 2.81-2.81c.8-.78.8-2.07 0-2.86zM5.41 20L4 18.59l7.72-7.72 1.47 1.35L5.41 20z\"/>\n",
              "  </svg>\n",
              "      </button>\n",
              "      \n",
              "  <style>\n",
              "    .colab-df-container {\n",
              "      display:flex;\n",
              "      flex-wrap:wrap;\n",
              "      gap: 12px;\n",
              "    }\n",
              "\n",
              "    .colab-df-convert {\n",
              "      background-color: #E8F0FE;\n",
              "      border: none;\n",
              "      border-radius: 50%;\n",
              "      cursor: pointer;\n",
              "      display: none;\n",
              "      fill: #1967D2;\n",
              "      height: 32px;\n",
              "      padding: 0 0 0 0;\n",
              "      width: 32px;\n",
              "    }\n",
              "\n",
              "    .colab-df-convert:hover {\n",
              "      background-color: #E2EBFA;\n",
              "      box-shadow: 0px 1px 2px rgba(60, 64, 67, 0.3), 0px 1px 3px 1px rgba(60, 64, 67, 0.15);\n",
              "      fill: #174EA6;\n",
              "    }\n",
              "\n",
              "    [theme=dark] .colab-df-convert {\n",
              "      background-color: #3B4455;\n",
              "      fill: #D2E3FC;\n",
              "    }\n",
              "\n",
              "    [theme=dark] .colab-df-convert:hover {\n",
              "      background-color: #434B5C;\n",
              "      box-shadow: 0px 1px 3px 1px rgba(0, 0, 0, 0.15);\n",
              "      filter: drop-shadow(0px 1px 2px rgba(0, 0, 0, 0.3));\n",
              "      fill: #FFFFFF;\n",
              "    }\n",
              "  </style>\n",
              "\n",
              "      <script>\n",
              "        const buttonEl =\n",
              "          document.querySelector('#df-43129672-2b01-496a-a7fd-0b22fa47490e button.colab-df-convert');\n",
              "        buttonEl.style.display =\n",
              "          google.colab.kernel.accessAllowed ? 'block' : 'none';\n",
              "\n",
              "        async function convertToInteractive(key) {\n",
              "          const element = document.querySelector('#df-43129672-2b01-496a-a7fd-0b22fa47490e');\n",
              "          const dataTable =\n",
              "            await google.colab.kernel.invokeFunction('convertToInteractive',\n",
              "                                                     [key], {});\n",
              "          if (!dataTable) return;\n",
              "\n",
              "          const docLinkHtml = 'Like what you see? Visit the ' +\n",
              "            '<a target=\"_blank\" href=https://colab.research.google.com/notebooks/data_table.ipynb>data table notebook</a>'\n",
              "            + ' to learn more about interactive tables.';\n",
              "          element.innerHTML = '';\n",
              "          dataTable['output_type'] = 'display_data';\n",
              "          await google.colab.output.renderOutput(dataTable, element);\n",
              "          const docLink = document.createElement('div');\n",
              "          docLink.innerHTML = docLinkHtml;\n",
              "          element.appendChild(docLink);\n",
              "        }\n",
              "      </script>\n",
              "    </div>\n",
              "  </div>\n",
              "  "
            ],
            "text/plain": [
              "               accuracy  precision    recall       FNR       FPR\n",
              "gender_Female                                                   \n",
              "0              0.589266   0.622951  0.187654  0.812346  0.090551\n",
              "1              0.592164   0.729730  0.205323  0.794677  0.067002"
            ]
          },
          "execution_count": 104,
          "metadata": {},
          "output_type": "execute_result"
        }
      ],
      "source": [
        "metric_frame_af.by_group"
      ]
    },
    {
      "cell_type": "code",
      "execution_count": null,
      "metadata": {
        "colab": {
          "base_uri": "https://localhost:8080/"
        },
        "id": "jMfUqEqK6g-W",
        "outputId": "f3e9fa1a-31cb-4b0c-c263-972163e04063"
      },
      "outputs": [
        {
          "name": "stderr",
          "output_type": "stream",
          "text": [
            "C:\\Users\\grant\\anaconda3\\lib\\site-packages\\keras\\initializers\\initializers_v2.py:120: UserWarning: The initializer GlorotNormal is unseeded and being called multiple times, which will return identical values  each time (even if the initializer is unseeded). Please update your code to provide a seed to the initializer, or avoid using the same initalizer instance more than once.\n",
            "  warnings.warn(\n",
            "C:\\Users\\grant\\anaconda3\\lib\\site-packages\\keras\\initializers\\initializers_v2.py:120: UserWarning: The initializer GlorotNormal is unseeded and being called multiple times, which will return identical values  each time (even if the initializer is unseeded). Please update your code to provide a seed to the initializer, or avoid using the same initalizer instance more than once.\n",
            "  warnings.warn(\n",
            "C:\\Users\\grant\\anaconda3\\lib\\site-packages\\keras\\initializers\\initializers_v2.py:120: UserWarning: The initializer GlorotNormal is unseeded and being called multiple times, which will return identical values  each time (even if the initializer is unseeded). Please update your code to provide a seed to the initializer, or avoid using the same initalizer instance more than once.\n",
            "  warnings.warn(\n",
            "C:\\Users\\grant\\anaconda3\\lib\\site-packages\\keras\\initializers\\initializers_v2.py:120: UserWarning: The initializer GlorotNormal is unseeded and being called multiple times, which will return identical values  each time (even if the initializer is unseeded). Please update your code to provide a seed to the initializer, or avoid using the same initalizer instance more than once.\n",
            "  warnings.warn(\n",
            "C:\\Users\\grant\\anaconda3\\lib\\site-packages\\keras\\initializers\\initializers_v2.py:120: UserWarning: The initializer GlorotNormal is unseeded and being called multiple times, which will return identical values  each time (even if the initializer is unseeded). Please update your code to provide a seed to the initializer, or avoid using the same initalizer instance more than once.\n",
            "  warnings.warn(\n",
            "C:\\Users\\grant\\anaconda3\\lib\\site-packages\\keras\\initializers\\initializers_v2.py:120: UserWarning: The initializer GlorotNormal is unseeded and being called multiple times, which will return identical values  each time (even if the initializer is unseeded). Please update your code to provide a seed to the initializer, or avoid using the same initalizer instance more than once.\n",
            "  warnings.warn(\n",
            "C:\\Users\\grant\\anaconda3\\lib\\site-packages\\keras\\initializers\\initializers_v2.py:120: UserWarning: The initializer GlorotNormal is unseeded and being called multiple times, which will return identical values  each time (even if the initializer is unseeded). Please update your code to provide a seed to the initializer, or avoid using the same initalizer instance more than once.\n",
            "  warnings.warn(\n",
            "C:\\Users\\grant\\anaconda3\\lib\\site-packages\\keras\\initializers\\initializers_v2.py:120: UserWarning: The initializer GlorotNormal is unseeded and being called multiple times, which will return identical values  each time (even if the initializer is unseeded). Please update your code to provide a seed to the initializer, or avoid using the same initalizer instance more than once.\n",
            "  warnings.warn(\n",
            "C:\\Users\\grant\\anaconda3\\lib\\site-packages\\keras\\initializers\\initializers_v2.py:120: UserWarning: The initializer GlorotNormal is unseeded and being called multiple times, which will return identical values  each time (even if the initializer is unseeded). Please update your code to provide a seed to the initializer, or avoid using the same initalizer instance more than once.\n",
            "  warnings.warn(\n",
            "C:\\Users\\grant\\anaconda3\\lib\\site-packages\\keras\\initializers\\initializers_v2.py:120: UserWarning: The initializer GlorotNormal is unseeded and being called multiple times, which will return identical values  each time (even if the initializer is unseeded). Please update your code to provide a seed to the initializer, or avoid using the same initalizer instance more than once.\n",
            "  warnings.warn(\n",
            "C:\\Users\\grant\\anaconda3\\lib\\site-packages\\keras\\initializers\\initializers_v2.py:120: UserWarning: The initializer GlorotNormal is unseeded and being called multiple times, which will return identical values  each time (even if the initializer is unseeded). Please update your code to provide a seed to the initializer, or avoid using the same initalizer instance more than once.\n",
            "  warnings.warn(\n",
            "C:\\Users\\grant\\anaconda3\\lib\\site-packages\\keras\\initializers\\initializers_v2.py:120: UserWarning: The initializer GlorotNormal is unseeded and being called multiple times, which will return identical values  each time (even if the initializer is unseeded). Please update your code to provide a seed to the initializer, or avoid using the same initalizer instance more than once.\n",
            "  warnings.warn(\n",
            "C:\\Users\\grant\\anaconda3\\lib\\site-packages\\keras\\initializers\\initializers_v2.py:120: UserWarning: The initializer GlorotNormal is unseeded and being called multiple times, which will return identical values  each time (even if the initializer is unseeded). Please update your code to provide a seed to the initializer, or avoid using the same initalizer instance more than once.\n",
            "  warnings.warn(\n",
            "C:\\Users\\grant\\anaconda3\\lib\\site-packages\\keras\\initializers\\initializers_v2.py:120: UserWarning: The initializer GlorotNormal is unseeded and being called multiple times, which will return identical values  each time (even if the initializer is unseeded). Please update your code to provide a seed to the initializer, or avoid using the same initalizer instance more than once.\n",
            "  warnings.warn(\n",
            "C:\\Users\\grant\\anaconda3\\lib\\site-packages\\keras\\initializers\\initializers_v2.py:120: UserWarning: The initializer GlorotNormal is unseeded and being called multiple times, which will return identical values  each time (even if the initializer is unseeded). Please update your code to provide a seed to the initializer, or avoid using the same initalizer instance more than once.\n",
            "  warnings.warn(\n",
            "C:\\Users\\grant\\anaconda3\\lib\\site-packages\\keras\\initializers\\initializers_v2.py:120: UserWarning: The initializer GlorotNormal is unseeded and being called multiple times, which will return identical values  each time (even if the initializer is unseeded). Please update your code to provide a seed to the initializer, or avoid using the same initalizer instance more than once.\n",
            "  warnings.warn(\n",
            "C:\\Users\\grant\\anaconda3\\lib\\site-packages\\keras\\initializers\\initializers_v2.py:120: UserWarning: The initializer GlorotNormal is unseeded and being called multiple times, which will return identical values  each time (even if the initializer is unseeded). Please update your code to provide a seed to the initializer, or avoid using the same initalizer instance more than once.\n",
            "  warnings.warn(\n",
            "C:\\Users\\grant\\anaconda3\\lib\\site-packages\\keras\\initializers\\initializers_v2.py:120: UserWarning: The initializer GlorotNormal is unseeded and being called multiple times, which will return identical values  each time (even if the initializer is unseeded). Please update your code to provide a seed to the initializer, or avoid using the same initalizer instance more than once.\n",
            "  warnings.warn(\n",
            "C:\\Users\\grant\\anaconda3\\lib\\site-packages\\keras\\initializers\\initializers_v2.py:120: UserWarning: The initializer GlorotNormal is unseeded and being called multiple times, which will return identical values  each time (even if the initializer is unseeded). Please update your code to provide a seed to the initializer, or avoid using the same initalizer instance more than once.\n",
            "  warnings.warn(\n",
            "C:\\Users\\grant\\anaconda3\\lib\\site-packages\\keras\\initializers\\initializers_v2.py:120: UserWarning: The initializer GlorotNormal is unseeded and being called multiple times, which will return identical values  each time (even if the initializer is unseeded). Please update your code to provide a seed to the initializer, or avoid using the same initalizer instance more than once.\n",
            "  warnings.warn(\n",
            "C:\\Users\\grant\\anaconda3\\lib\\site-packages\\keras\\initializers\\initializers_v2.py:120: UserWarning: The initializer GlorotNormal is unseeded and being called multiple times, which will return identical values  each time (even if the initializer is unseeded). Please update your code to provide a seed to the initializer, or avoid using the same initalizer instance more than once.\n",
            "  warnings.warn(\n"
          ]
        },
        {
          "name": "stderr",
          "output_type": "stream",
          "text": [
            "C:\\Users\\grant\\anaconda3\\lib\\site-packages\\keras\\initializers\\initializers_v2.py:120: UserWarning: The initializer GlorotNormal is unseeded and being called multiple times, which will return identical values  each time (even if the initializer is unseeded). Please update your code to provide a seed to the initializer, or avoid using the same initalizer instance more than once.\n",
            "  warnings.warn(\n",
            "C:\\Users\\grant\\anaconda3\\lib\\site-packages\\keras\\initializers\\initializers_v2.py:120: UserWarning: The initializer GlorotNormal is unseeded and being called multiple times, which will return identical values  each time (even if the initializer is unseeded). Please update your code to provide a seed to the initializer, or avoid using the same initalizer instance more than once.\n",
            "  warnings.warn(\n",
            "C:\\Users\\grant\\anaconda3\\lib\\site-packages\\keras\\initializers\\initializers_v2.py:120: UserWarning: The initializer GlorotNormal is unseeded and being called multiple times, which will return identical values  each time (even if the initializer is unseeded). Please update your code to provide a seed to the initializer, or avoid using the same initalizer instance more than once.\n",
            "  warnings.warn(\n",
            "C:\\Users\\grant\\anaconda3\\lib\\site-packages\\keras\\initializers\\initializers_v2.py:120: UserWarning: The initializer GlorotNormal is unseeded and being called multiple times, which will return identical values  each time (even if the initializer is unseeded). Please update your code to provide a seed to the initializer, or avoid using the same initalizer instance more than once.\n",
            "  warnings.warn(\n",
            "C:\\Users\\grant\\anaconda3\\lib\\site-packages\\keras\\initializers\\initializers_v2.py:120: UserWarning: The initializer GlorotNormal is unseeded and being called multiple times, which will return identical values  each time (even if the initializer is unseeded). Please update your code to provide a seed to the initializer, or avoid using the same initalizer instance more than once.\n",
            "  warnings.warn(\n",
            "C:\\Users\\grant\\anaconda3\\lib\\site-packages\\keras\\initializers\\initializers_v2.py:120: UserWarning: The initializer GlorotNormal is unseeded and being called multiple times, which will return identical values  each time (even if the initializer is unseeded). Please update your code to provide a seed to the initializer, or avoid using the same initalizer instance more than once.\n",
            "  warnings.warn(\n",
            "C:\\Users\\grant\\anaconda3\\lib\\site-packages\\keras\\initializers\\initializers_v2.py:120: UserWarning: The initializer GlorotNormal is unseeded and being called multiple times, which will return identical values  each time (even if the initializer is unseeded). Please update your code to provide a seed to the initializer, or avoid using the same initalizer instance more than once.\n",
            "  warnings.warn(\n",
            "C:\\Users\\grant\\anaconda3\\lib\\site-packages\\keras\\initializers\\initializers_v2.py:120: UserWarning: The initializer GlorotNormal is unseeded and being called multiple times, which will return identical values  each time (even if the initializer is unseeded). Please update your code to provide a seed to the initializer, or avoid using the same initalizer instance more than once.\n",
            "  warnings.warn(\n",
            "C:\\Users\\grant\\anaconda3\\lib\\site-packages\\keras\\initializers\\initializers_v2.py:120: UserWarning: The initializer GlorotNormal is unseeded and being called multiple times, which will return identical values  each time (even if the initializer is unseeded). Please update your code to provide a seed to the initializer, or avoid using the same initalizer instance more than once.\n",
            "  warnings.warn(\n",
            "C:\\Users\\grant\\anaconda3\\lib\\site-packages\\keras\\initializers\\initializers_v2.py:120: UserWarning: The initializer GlorotNormal is unseeded and being called multiple times, which will return identical values  each time (even if the initializer is unseeded). Please update your code to provide a seed to the initializer, or avoid using the same initalizer instance more than once.\n",
            "  warnings.warn(\n",
            "C:\\Users\\grant\\anaconda3\\lib\\site-packages\\keras\\initializers\\initializers_v2.py:120: UserWarning: The initializer GlorotNormal is unseeded and being called multiple times, which will return identical values  each time (even if the initializer is unseeded). Please update your code to provide a seed to the initializer, or avoid using the same initalizer instance more than once.\n",
            "  warnings.warn(\n",
            "C:\\Users\\grant\\anaconda3\\lib\\site-packages\\keras\\initializers\\initializers_v2.py:120: UserWarning: The initializer GlorotNormal is unseeded and being called multiple times, which will return identical values  each time (even if the initializer is unseeded). Please update your code to provide a seed to the initializer, or avoid using the same initalizer instance more than once.\n",
            "  warnings.warn(\n",
            "C:\\Users\\grant\\anaconda3\\lib\\site-packages\\keras\\initializers\\initializers_v2.py:120: UserWarning: The initializer GlorotNormal is unseeded and being called multiple times, which will return identical values  each time (even if the initializer is unseeded). Please update your code to provide a seed to the initializer, or avoid using the same initalizer instance more than once.\n",
            "  warnings.warn(\n",
            "C:\\Users\\grant\\anaconda3\\lib\\site-packages\\keras\\initializers\\initializers_v2.py:120: UserWarning: The initializer GlorotNormal is unseeded and being called multiple times, which will return identical values  each time (even if the initializer is unseeded). Please update your code to provide a seed to the initializer, or avoid using the same initalizer instance more than once.\n",
            "  warnings.warn(\n",
            "C:\\Users\\grant\\anaconda3\\lib\\site-packages\\keras\\initializers\\initializers_v2.py:120: UserWarning: The initializer GlorotNormal is unseeded and being called multiple times, which will return identical values  each time (even if the initializer is unseeded). Please update your code to provide a seed to the initializer, or avoid using the same initalizer instance more than once.\n",
            "  warnings.warn(\n",
            "C:\\Users\\grant\\anaconda3\\lib\\site-packages\\keras\\initializers\\initializers_v2.py:120: UserWarning: The initializer GlorotNormal is unseeded and being called multiple times, which will return identical values  each time (even if the initializer is unseeded). Please update your code to provide a seed to the initializer, or avoid using the same initalizer instance more than once.\n",
            "  warnings.warn(\n",
            "C:\\Users\\grant\\anaconda3\\lib\\site-packages\\keras\\initializers\\initializers_v2.py:120: UserWarning: The initializer GlorotNormal is unseeded and being called multiple times, which will return identical values  each time (even if the initializer is unseeded). Please update your code to provide a seed to the initializer, or avoid using the same initalizer instance more than once.\n",
            "  warnings.warn(\n",
            "C:\\Users\\grant\\anaconda3\\lib\\site-packages\\keras\\initializers\\initializers_v2.py:120: UserWarning: The initializer GlorotNormal is unseeded and being called multiple times, which will return identical values  each time (even if the initializer is unseeded). Please update your code to provide a seed to the initializer, or avoid using the same initalizer instance more than once.\n",
            "  warnings.warn(\n",
            "C:\\Users\\grant\\anaconda3\\lib\\site-packages\\keras\\initializers\\initializers_v2.py:120: UserWarning: The initializer GlorotNormal is unseeded and being called multiple times, which will return identical values  each time (even if the initializer is unseeded). Please update your code to provide a seed to the initializer, or avoid using the same initalizer instance more than once.\n",
            "  warnings.warn(\n"
          ]
        }
      ],
      "source": [
        "#range of alpha we test\n",
        "alpha_range = [0.0, 0.3, 0.7, 1.0]\n",
        "\n",
        "#create table to store values for overall and sensitive data specific\n",
        "df_af_overall = pd.DataFrame(columns = ['accuracy','precision','recall','FNR','FPR',\n",
        "  'fnr_diff','fpr_diff','demo_parity_ratio','eq_odds_ratio','selection_rate_diff'])\n",
        "df_af_sen = pd.DataFrame(columns = ['accuracy','precision','recall','FNR','FPR','alpha','random_seed'])\n",
        "\n",
        "for i in range(0,10):\n",
        "  for j in alpha_range:\n",
        "\n",
        "    #initiate model with specified seed and alpha\n",
        "    cfl_af = AdversarialFairnessClassifier(backend='tensorflow',\n",
        "      predictor_model=[128,64,32,16,8],\n",
        "      adversary_model=[32,16,8],\n",
        "      learning_rate=0.001,\n",
        "      alpha = j,\n",
        "      epochs=3,\n",
        "      batch_size=16,\n",
        "      constraints='demographic_parity',\n",
        "      random_state= i,\n",
        "      shuffle=True)\n",
        "\n",
        "    #fit training data\n",
        "    cfl_af.fit(X_train, y_train, sensitive_features = X_train.gender_Female)\n",
        "    #predict using test data\n",
        "    y_pred_af = cfl_af.predict(X_test)\n",
        "\n",
        "    #report fairness metric i-v\n",
        "    metric_frame_af = MetricFrame(metrics=metric_dict,\n",
        "                             y_true=y_test,\n",
        "                             y_pred=y_pred_af,\n",
        "                             sensitive_features=sensitive_feature)\n",
        "    #fairness metric vi-x\n",
        "    fnr_diff_af = false_negative_rate_difference(y_test, y_pred_af, sensitive_features=X_test.gender_Female)\n",
        "    fpr_diff_af = false_positive_rate_difference(y_test, y_pred_af, sensitive_features=X_test.gender_Female)\n",
        "    demo_parity_ratio_af = demographic_parity_ratio(y_test, y_pred_af, sensitive_features=X_test.gender_Female)\n",
        "    eq_odds_ratio_af = equalized_odds_ratio(y_test, y_pred_af, sensitive_features=X_test.gender_Female)\n",
        "    selection_rate_diff_af = selection_rate_difference(y_test, y_pred_af, sensitive_features=X_test.gender_Female)\n",
        "\n",
        "    #concatenate into an entry for table\n",
        "    arr_overall = np.append(metric_frame_af.overall, [fnr_diff_af,fpr_diff_af,demo_parity_ratio_af,\n",
        "                                                      eq_odds_ratio_af,selection_rate_diff_af])\n",
        "    #append entry\n",
        "    df_af_overall.loc[len(df_af_overall)] = arr_overall\n",
        "\n",
        "    #table for sensitive feature fairness metrics\n",
        "    df_group = metric_frame_af.by_group.reset_index()\n",
        "    df_group = df_group.assign(alpha = j, random_seed = i)\n",
        "    df_af_sen = pd.concat([df_af_sen,df_group])\n",
        "\n",
        "#assign alpha values accordingly\n",
        "df_af_overall['alpha'] = alpha_range*10\n",
        "#assign random seed accordingly\n",
        "df_af_overall['random_seed'] = np.repeat(np.arange(0, 10), 4)"
      ]
    },
    {
      "cell_type": "code",
      "execution_count": null,
      "metadata": {
        "colab": {
          "base_uri": "https://localhost:8080/",
          "height": 175
        },
        "id": "jSdczIKgFXe5",
        "outputId": "d8f25bed-a538-4016-b3cf-d9292a56b256",
        "scrolled": true
      },
      "outputs": [
        {
          "data": {
            "text/html": [
              "<div>\n",
              "<style scoped>\n",
              "    .dataframe tbody tr th:only-of-type {\n",
              "        vertical-align: middle;\n",
              "    }\n",
              "\n",
              "    .dataframe tbody tr th {\n",
              "        vertical-align: top;\n",
              "    }\n",
              "\n",
              "    .dataframe thead th {\n",
              "        text-align: right;\n",
              "    }\n",
              "</style>\n",
              "<table border=\"1\" class=\"dataframe\">\n",
              "  <thead>\n",
              "    <tr style=\"text-align: right;\">\n",
              "      <th></th>\n",
              "      <th>accuracy</th>\n",
              "      <th>precision</th>\n",
              "      <th>recall</th>\n",
              "      <th>FNR</th>\n",
              "      <th>FPR</th>\n",
              "      <th>fnr_diff</th>\n",
              "      <th>fpr_diff</th>\n",
              "      <th>demo_parity_ratio</th>\n",
              "      <th>eq_odds_ratio</th>\n",
              "      <th>selection_rate_diff</th>\n",
              "      <th>alpha</th>\n",
              "      <th>random_seed</th>\n",
              "    </tr>\n",
              "  </thead>\n",
              "  <tbody>\n",
              "    <tr>\n",
              "      <th>0</th>\n",
              "      <td>0.618369</td>\n",
              "      <td>0.665236</td>\n",
              "      <td>0.332975</td>\n",
              "      <td>0.667025</td>\n",
              "      <td>0.141176</td>\n",
              "      <td>0.078031</td>\n",
              "      <td>0.046337</td>\n",
              "      <td>0.746489</td>\n",
              "      <td>0.714810</td>\n",
              "      <td>0.065466</td>\n",
              "      <td>0.0</td>\n",
              "      <td>0</td>\n",
              "    </tr>\n",
              "    <tr>\n",
              "      <th>1</th>\n",
              "      <td>0.593811</td>\n",
              "      <td>0.650289</td>\n",
              "      <td>0.241676</td>\n",
              "      <td>0.758324</td>\n",
              "      <td>0.109502</td>\n",
              "      <td>0.043172</td>\n",
              "      <td>0.015933</td>\n",
              "      <td>0.919402</td>\n",
              "      <td>0.834243</td>\n",
              "      <td>0.014210</td>\n",
              "      <td>0.3</td>\n",
              "      <td>0</td>\n",
              "    </tr>\n",
              "    <tr>\n",
              "      <th>2</th>\n",
              "      <td>0.598232</td>\n",
              "      <td>0.642317</td>\n",
              "      <td>0.273899</td>\n",
              "      <td>0.726101</td>\n",
              "      <td>0.128507</td>\n",
              "      <td>0.056504</td>\n",
              "      <td>0.011956</td>\n",
              "      <td>0.830387</td>\n",
              "      <td>0.810694</td>\n",
              "      <td>0.035795</td>\n",
              "      <td>0.7</td>\n",
              "      <td>0</td>\n",
              "    </tr>\n",
              "    <tr>\n",
              "      <th>3</th>\n",
              "      <td>0.611493</td>\n",
              "      <td>0.665877</td>\n",
              "      <td>0.301826</td>\n",
              "      <td>0.698174</td>\n",
              "      <td>0.127602</td>\n",
              "      <td>0.036009</td>\n",
              "      <td>0.010281</td>\n",
              "      <td>0.880008</td>\n",
              "      <td>0.886582</td>\n",
              "      <td>0.026285</td>\n",
              "      <td>1.0</td>\n",
              "      <td>0</td>\n",
              "    </tr>\n",
              "    <tr>\n",
              "      <th>4</th>\n",
              "      <td>0.546169</td>\n",
              "      <td>0.620690</td>\n",
              "      <td>0.019334</td>\n",
              "      <td>0.980666</td>\n",
              "      <td>0.009955</td>\n",
              "      <td>0.016739</td>\n",
              "      <td>0.011138</td>\n",
              "      <td>0.320872</td>\n",
              "      <td>0.261155</td>\n",
              "      <td>0.013909</td>\n",
              "      <td>0.0</td>\n",
              "      <td>1</td>\n",
              "    </tr>\n",
              "  </tbody>\n",
              "</table>\n",
              "</div>"
            ],
            "text/plain": [
              "   accuracy  precision    recall       FNR       FPR  fnr_diff  fpr_diff  \\\n",
              "0  0.618369   0.665236  0.332975  0.667025  0.141176  0.078031  0.046337   \n",
              "1  0.593811   0.650289  0.241676  0.758324  0.109502  0.043172  0.015933   \n",
              "2  0.598232   0.642317  0.273899  0.726101  0.128507  0.056504  0.011956   \n",
              "3  0.611493   0.665877  0.301826  0.698174  0.127602  0.036009  0.010281   \n",
              "4  0.546169   0.620690  0.019334  0.980666  0.009955  0.016739  0.011138   \n",
              "\n",
              "   demo_parity_ratio  eq_odds_ratio  selection_rate_diff  alpha  random_seed  \n",
              "0           0.746489       0.714810             0.065466    0.0            0  \n",
              "1           0.919402       0.834243             0.014210    0.3            0  \n",
              "2           0.830387       0.810694             0.035795    0.7            0  \n",
              "3           0.880008       0.886582             0.026285    1.0            0  \n",
              "4           0.320872       0.261155             0.013909    0.0            1  "
            ]
          },
          "execution_count": 215,
          "metadata": {},
          "output_type": "execute_result"
        }
      ],
      "source": [
        "#overall metrics table\n",
        "df_af_overall.head()"
      ]
    },
    {
      "cell_type": "code",
      "execution_count": null,
      "metadata": {
        "id": "aGjBtvPa8aIQ",
        "outputId": "c4a5744b-3f82-43bb-d033-e2a1e4772fff"
      },
      "outputs": [
        {
          "data": {
            "text/html": [
              "<div>\n",
              "<style scoped>\n",
              "    .dataframe tbody tr th:only-of-type {\n",
              "        vertical-align: middle;\n",
              "    }\n",
              "\n",
              "    .dataframe tbody tr th {\n",
              "        vertical-align: top;\n",
              "    }\n",
              "\n",
              "    .dataframe thead th {\n",
              "        text-align: right;\n",
              "    }\n",
              "</style>\n",
              "<table border=\"1\" class=\"dataframe\">\n",
              "  <thead>\n",
              "    <tr style=\"text-align: right;\">\n",
              "      <th></th>\n",
              "      <th>accuracy</th>\n",
              "      <th>precision</th>\n",
              "      <th>recall</th>\n",
              "      <th>FNR</th>\n",
              "      <th>FPR</th>\n",
              "      <th>alpha</th>\n",
              "      <th>random_seed</th>\n",
              "      <th>gender_Female</th>\n",
              "    </tr>\n",
              "  </thead>\n",
              "  <tbody>\n",
              "    <tr>\n",
              "      <th>0</th>\n",
              "      <td>0.619934</td>\n",
              "      <td>0.664773</td>\n",
              "      <td>0.288889</td>\n",
              "      <td>0.711111</td>\n",
              "      <td>0.116142</td>\n",
              "      <td>0.0</td>\n",
              "      <td>0</td>\n",
              "      <td>0</td>\n",
              "    </tr>\n",
              "    <tr>\n",
              "      <th>1</th>\n",
              "      <td>0.617097</td>\n",
              "      <td>0.665517</td>\n",
              "      <td>0.36692</td>\n",
              "      <td>0.63308</td>\n",
              "      <td>0.162479</td>\n",
              "      <td>0.0</td>\n",
              "      <td>0</td>\n",
              "      <td>1</td>\n",
              "    </tr>\n",
              "    <tr>\n",
              "      <th>0</th>\n",
              "      <td>0.587076</td>\n",
              "      <td>0.594595</td>\n",
              "      <td>0.217284</td>\n",
              "      <td>0.782716</td>\n",
              "      <td>0.11811</td>\n",
              "      <td>0.3</td>\n",
              "      <td>0</td>\n",
              "      <td>0</td>\n",
              "    </tr>\n",
              "    <tr>\n",
              "      <th>1</th>\n",
              "      <td>0.599288</td>\n",
              "      <td>0.691919</td>\n",
              "      <td>0.260456</td>\n",
              "      <td>0.739544</td>\n",
              "      <td>0.102178</td>\n",
              "      <td>0.3</td>\n",
              "      <td>0</td>\n",
              "      <td>1</td>\n",
              "    </tr>\n",
              "    <tr>\n",
              "      <th>0</th>\n",
              "      <td>0.595838</td>\n",
              "      <td>0.6125</td>\n",
              "      <td>0.241975</td>\n",
              "      <td>0.758025</td>\n",
              "      <td>0.122047</td>\n",
              "      <td>0.7</td>\n",
              "      <td>0</td>\n",
              "      <td>0</td>\n",
              "    </tr>\n",
              "  </tbody>\n",
              "</table>\n",
              "</div>"
            ],
            "text/plain": [
              "   accuracy precision    recall       FNR       FPR alpha random_seed  \\\n",
              "0  0.619934  0.664773  0.288889  0.711111  0.116142   0.0           0   \n",
              "1  0.617097  0.665517   0.36692   0.63308  0.162479   0.0           0   \n",
              "0  0.587076  0.594595  0.217284  0.782716   0.11811   0.3           0   \n",
              "1  0.599288  0.691919  0.260456  0.739544  0.102178   0.3           0   \n",
              "0  0.595838    0.6125  0.241975  0.758025  0.122047   0.7           0   \n",
              "\n",
              "   gender_Female  \n",
              "0              0  \n",
              "1              1  \n",
              "0              0  \n",
              "1              1  \n",
              "0              0  "
            ]
          },
          "execution_count": 217,
          "metadata": {},
          "output_type": "execute_result"
        }
      ],
      "source": [
        "#sensitive features metrics table\n",
        "df_af_sen.gender_Female = df_af_sen.gender_Female.astype(int)\n",
        "df_af_sen.head()"
      ]
    },
    {
      "cell_type": "code",
      "execution_count": null,
      "metadata": {
        "colab": {
          "base_uri": "https://localhost:8080/",
          "height": 405
        },
        "id": "GU0sbnzSJq_P",
        "outputId": "9ac6930c-0790-46d6-d963-97448fb1423b"
      },
      "outputs": [
        {
          "data": {
            "image/png": "[encoded data removed]",
            "text/plain": [
              "<Figure size 1440x1440 with 10 Axes>"
            ]
          },
          "metadata": {
            "needs_background": "light"
          },
          "output_type": "display_data"
        }
      ],
      "source": [
        "#@markdown ### Plot all our metrics as line plots while varying alpha\n",
        "fig, axs = plt.subplots(nrows=2, ncols=5, figsize=(20, 20), sharey=True)\n",
        "\n",
        "#metrics name and alpha values as labels\n",
        "metrics_overall = ['accuracy','precision','recall','FNR','FPR',\n",
        "  'fnr_diff','fpr_diff','demo_parity_ratio','eq_odds_ratio','selection_rate_diff']\n",
        "labels = ['0.0', '0.3', '0.7', '1.0']\n",
        "    \n",
        "#draw plot\n",
        "for j in range(0,10):\n",
        "    if (j<5):\n",
        "        #prepare data\n",
        "        df_overall_graph = df_af_overall[[metrics_overall[j],'alpha','random_seed']]\n",
        "        df_piv = df_overall_graph.pivot(index='random_seed', columns='alpha')\n",
        "        df_piv = df_piv[metrics_overall[j]].reset_index(drop=True)\n",
        "        #plot subplot\n",
        "        axs[0, j].boxplot(df_piv, labels=labels)\n",
        "        axs[0, j].set_title(metrics_overall[j], fontsize=10)\n",
        "    else:\n",
        "        df_overall_graph = df_af_overall[[metrics_overall[j],'alpha','random_seed']]\n",
        "        df_piv = df_overall_graph.pivot(index='random_seed', columns='alpha')\n",
        "        df_piv = df_piv[metrics_overall[j]].reset_index(drop=True)\n",
        "        \n",
        "        axs[1, (j-5)].boxplot(df_piv, labels=labels)\n",
        "        axs[1, (j-5)].set_title(metrics_overall[j], fontsize=10)\n",
        "            \n",
        "for ax in axs.flat:\n",
        "    ax.set_yscale('log')\n",
        "    ax.set_yticklabels([])\n",
        "\n",
        "fig.subplots_adjust(hspace=0.6)\n",
        "plt.show()"
      ]
    },
    {
      "cell_type": "code",
      "execution_count": null,
      "metadata": {
        "id": "pH4N5L6L8aIQ",
        "outputId": "e84113d5-be4f-4921-af0b-309de8d4f5f6"
      },
      "outputs": [
        {
          "data": {
            "image/png": "[encoded data removed]",
            "text/plain": [
              "<Figure size 1440x720 with 5 Axes>"
            ]
          },
          "metadata": {
            "needs_background": "light"
          },
          "output_type": "display_data"
        }
      ],
      "source": [
        "fig, axs = plt.subplots(nrows=1, ncols=5, figsize=(20, 10), sharey=True)\n",
        "\n",
        "#metrics name and alpha values as labels\n",
        "metrics_sen = ['accuracy','precision','recall','FNR','FPR']\n",
        "labels = ['0.0', '0.3', '0.7', '1.0']\n",
        "\n",
        "df_af_male = df_af_sen[df_af_sen.gender_Female == 0].drop('gender_Female', axis=1)\n",
        "#draw plot\n",
        "for j in range(0,5):\n",
        "    #prepare data\n",
        "    df_af_male_graph = df_af_male[[metrics_sen[j],'alpha','random_seed']]\n",
        "    df_piv = df_af_male.pivot(index='random_seed', columns='alpha')\n",
        "    df_piv = df_piv[metrics_sen[j]].reset_index(drop=True)\n",
        "    #draw subplot    \n",
        "    axs[j].boxplot(df_piv, labels=labels)\n",
        "    axs[j].set_title(metrics_sen[j], fontsize=10)\n",
        "            \n",
        "for ax in axs.flat:\n",
        "    ax.set_yscale('log')\n",
        "    ax.set_yticklabels([])\n",
        "\n",
        "fig.subplots_adjust(hspace=0.6)\n",
        "plt.show()"
      ]
    },
    {
      "cell_type": "code",
      "execution_count": null,
      "metadata": {
        "id": "pfLMnWis8aIQ",
        "outputId": "31c1a34b-1ed1-4296-eecf-abf8823949c5"
      },
      "outputs": [
        {
          "data": {
            "image/png": "[encoded data removed]",
            "text/plain": [
              "<Figure size 1440x720 with 5 Axes>"
            ]
          },
          "metadata": {
            "needs_background": "light"
          },
          "output_type": "display_data"
        }
      ],
      "source": [
        "fig, axs = plt.subplots(nrows=1, ncols=5, figsize=(20, 10), sharey=True)\n",
        "\n",
        "df_af_female = df_af_sen[df_af_sen.gender_Female == 1].drop('gender_Female', axis=1)\n",
        "#draw plot\n",
        "for j in range(0,5):\n",
        "    #prepare data\n",
        "    df_af_female_graph = df_af_female[[metrics_sen[j],'alpha','random_seed']]\n",
        "    df_piv = df_af_female.pivot(index='random_seed', columns='alpha')\n",
        "    df_piv = df_piv[metrics_sen[j]].reset_index(drop=True)\n",
        "    #plot data\n",
        "    axs[j].boxplot(df_piv, labels=labels)\n",
        "    axs[j].set_title(metrics_sen[j], fontsize=10)\n",
        "            \n",
        "for ax in axs.flat:\n",
        "    ax.set_yscale('log')\n",
        "    ax.set_yticklabels([])\n",
        "\n",
        "fig.subplots_adjust(hspace=0.6)\n",
        "plt.show()"
      ]
    },
    {
      "cell_type": "markdown",
      "source": [
        "The 3 graphs show different levels of alpha and their respective box & whisker plots of fairness metrics. The First graph contains overall metrics I-X, the second graph contains metrics I-V for male, and the third graph contains metrics I-V for female.\n",
        "\n",
        "For overall performance of metrics, we see that accuracy, precision, demographic parity ratio, and equalized odds ratio have relatively centered distributions, and different alpha did not have much of impact of these metrics. Other metrics have rather wide range over all alpha levels. Recal and FPR follow a pretty clear pattern with change of alpha values that higher alpha have more centered distribution of metrics. Demographic parity ratio, and equalized odds ratio also have smaller range as alpha increases. FNR, on the other hand, have more concentrated distribution with lower alpha (smallest range with alpha = 0.3). Other overall metrics does not have much pattern with the change of alpha. \n",
        "\n",
        "For metrics grouped by gender, we are also discerning similar patterns with the change of alpha, and the distirbution of these metrics are quite similar cross two genders. Female FPR hvae overall a smaller range than male FPR across all alpha levels.\n",
        "\n",
        "Comparing our box & whisker graph to the metrics obtained by optimized random forest estimator in (b), we see that metrics obatined in (b) are all slightly higher than the Adversarial fairness classifier for accuracy, precision (metrics from (b) at upper quartile). Recall, FNR, FPR, demographic parity ratio and equalized odds ratio have mean around the optimized random forest metric. The optimized random forest metric is higher in false positive rate difference, and much higher in false negative rate difference and selection rate difference. The similar situation also applies to both male and female metrics. Thus we do see certain improvements in fairness metrics than out optimzed random forest model.\n"
      ],
      "metadata": {
        "id": "S9pz00F9EMV6"
      }
    },
    {
      "cell_type": "markdown",
      "metadata": {
        "id": "-UbQD7Gy13rv"
      },
      "source": [
        "# Problem 2, Part (d) \n",
        "### **Threshold Optimizer Post-processing intervention**\n",
        "\n"
      ]
    },
    {
      "cell_type": "code",
      "execution_count": null,
      "metadata": {
        "id": "TJXJ1zypou-M"
      },
      "outputs": [],
      "source": [
        "#@markdown Fit the ThresholdOptimizer model here\n",
        "#create table to store values\n",
        "df_to_overall = pd.DataFrame(columns = ['accuracy','precision','recall','FNR','FPR',\n",
        "  'fnr_diff','fpr_diff','demo_parity_ratio','eq_odds_ratio','selection_rate_diff'])\n",
        "df_to_sen = pd.DataFrame(columns = ['accuracy','precision','recall','FNR','FPR','random_seed'])\n",
        "#looping over 10 seeds\n",
        "for i in range(0,10):\n",
        "    X_train, X_test, y_train, y_test = train_test_split(x_numeric, y_raw, test_size=0.2, random_state=0)\n",
        "    # Train a model on straightforward data\n",
        "    default_model = RandomForestClassifier(n_estimators = 1000, max_depth = 10).fit(X_train, y_train)\n",
        "\n",
        "    # Make the post-processed model\n",
        "    postprocessed_model = ThresholdOptimizer(\n",
        "        estimator=default_model,\n",
        "        constraints='false_negative_rate_parity',\n",
        "        objective='balanced_accuracy_score',\n",
        "        prefit=True,\n",
        "        predict_method='predict_proba')\n",
        "\n",
        "    # Fit the model to the training data\n",
        "    postprocessed_model.fit(X_train, y_train, sensitive_features=X_train['gender_Female'])\n",
        "\n",
        "    # Predict on the test data\n",
        "    y_pred_to = postprocessed_model.predict(X_test, sensitive_features=X_test['gender_Female'])  \n",
        "\n",
        "\n",
        "    # Make a metricframe\n",
        "    grouped_on_sex_to = MetricFrame(\n",
        "        metrics=metric_dict,\n",
        "        y_true=y_test,\n",
        "        y_pred=y_pred_to,\n",
        "        sensitive_features=sensitive_feature)\n",
        "\n",
        "    #fairness metric vi-x\n",
        "    fnr_diff_to = false_negative_rate_difference(y_test, y_pred_to, sensitive_features=X_test.gender_Female)\n",
        "    fpr_diff_to = false_positive_rate_difference(y_test, y_pred_to, sensitive_features=X_test.gender_Female)\n",
        "    demo_parity_ratio_to = demographic_parity_ratio(y_test, y_pred_to, sensitive_features=X_test.gender_Female)\n",
        "    eq_odds_ratio_to = equalized_odds_ratio(y_test, y_pred_to, sensitive_features=X_test.gender_Female)\n",
        "    selection_rate_diff_to = selection_rate_difference(y_test, y_pred_to, sensitive_features=X_test.gender_Female)\n",
        "\n",
        "    #concatenate into an entry for table\n",
        "    arr_to_overall = np.append(grouped_on_sex_to.overall, [fnr_diff_to,fpr_diff_to,demo_parity_ratio_to,\n",
        "                                                      eq_odds_ratio_to,selection_rate_diff_to])\n",
        "    #append entry\n",
        "    df_to_overall.loc[len(df_to_overall)] = arr_to_overall\n",
        "\n",
        "    #table for sensitive feature fairness metrics\n",
        "    df_to_group = grouped_on_sex_to.by_group.reset_index()\n",
        "    df_to_group = df_to_group.assign(random_seed = i)\n",
        "    df_to_sen = pd.concat([df_to_sen,df_to_group])\n",
        "\n",
        "#assign random seed accordingly\n",
        "df_to_overall['random_seed'] = np.repeat(np.arange(0, 10), 1)"
      ]
    },
    {
      "cell_type": "code",
      "execution_count": null,
      "metadata": {
        "id": "4fr32wEdsR0J",
        "outputId": "c939eee2-54ee-472d-921d-478b1483d4d5"
      },
      "outputs": [
        {
          "data": {
            "text/html": [
              "<div>\n",
              "<style scoped>\n",
              "    .dataframe tbody tr th:only-of-type {\n",
              "        vertical-align: middle;\n",
              "    }\n",
              "\n",
              "    .dataframe tbody tr th {\n",
              "        vertical-align: top;\n",
              "    }\n",
              "\n",
              "    .dataframe thead th {\n",
              "        text-align: right;\n",
              "    }\n",
              "</style>\n",
              "<table border=\"1\" class=\"dataframe\">\n",
              "  <thead>\n",
              "    <tr style=\"text-align: right;\">\n",
              "      <th></th>\n",
              "      <th>accuracy</th>\n",
              "      <th>precision</th>\n",
              "      <th>recall</th>\n",
              "      <th>FNR</th>\n",
              "      <th>FPR</th>\n",
              "      <th>fnr_diff</th>\n",
              "      <th>fpr_diff</th>\n",
              "      <th>demo_parity_ratio</th>\n",
              "      <th>eq_odds_ratio</th>\n",
              "      <th>selection_rate_diff</th>\n",
              "      <th>random_seed</th>\n",
              "    </tr>\n",
              "  </thead>\n",
              "  <tbody>\n",
              "    <tr>\n",
              "      <th>0</th>\n",
              "      <td>0.603635</td>\n",
              "      <td>0.554386</td>\n",
              "      <td>0.678840</td>\n",
              "      <td>0.321160</td>\n",
              "      <td>0.459729</td>\n",
              "      <td>0.030287</td>\n",
              "      <td>0.001975</td>\n",
              "      <td>0.964375</td>\n",
              "      <td>0.956234</td>\n",
              "      <td>0.020271</td>\n",
              "      <td>0</td>\n",
              "    </tr>\n",
              "    <tr>\n",
              "      <th>1</th>\n",
              "      <td>0.610511</td>\n",
              "      <td>0.563653</td>\n",
              "      <td>0.656284</td>\n",
              "      <td>0.343716</td>\n",
              "      <td>0.428054</td>\n",
              "      <td>0.020955</td>\n",
              "      <td>0.001645</td>\n",
              "      <td>0.970207</td>\n",
              "      <td>0.968508</td>\n",
              "      <td>0.016077</td>\n",
              "      <td>1</td>\n",
              "    </tr>\n",
              "    <tr>\n",
              "      <th>2</th>\n",
              "      <td>0.600688</td>\n",
              "      <td>0.550950</td>\n",
              "      <td>0.685285</td>\n",
              "      <td>0.314715</td>\n",
              "      <td>0.470588</td>\n",
              "      <td>0.019842</td>\n",
              "      <td>0.007501</td>\n",
              "      <td>0.968064</td>\n",
              "      <td>0.971405</td>\n",
              "      <td>0.018428</td>\n",
              "      <td>2</td>\n",
              "    </tr>\n",
              "    <tr>\n",
              "      <th>3</th>\n",
              "      <td>0.613949</td>\n",
              "      <td>0.566453</td>\n",
              "      <td>0.663802</td>\n",
              "      <td>0.336198</td>\n",
              "      <td>0.428054</td>\n",
              "      <td>0.047374</td>\n",
              "      <td>0.005289</td>\n",
              "      <td>0.944935</td>\n",
              "      <td>0.930782</td>\n",
              "      <td>0.030254</td>\n",
              "      <td>3</td>\n",
              "    </tr>\n",
              "    <tr>\n",
              "      <th>4</th>\n",
              "      <td>0.614440</td>\n",
              "      <td>0.566972</td>\n",
              "      <td>0.663802</td>\n",
              "      <td>0.336198</td>\n",
              "      <td>0.427149</td>\n",
              "      <td>0.029893</td>\n",
              "      <td>0.003673</td>\n",
              "      <td>0.967877</td>\n",
              "      <td>0.955833</td>\n",
              "      <td>0.017449</td>\n",
              "      <td>4</td>\n",
              "    </tr>\n",
              "    <tr>\n",
              "      <th>5</th>\n",
              "      <td>0.602161</td>\n",
              "      <td>0.553778</td>\n",
              "      <td>0.669173</td>\n",
              "      <td>0.330827</td>\n",
              "      <td>0.454299</td>\n",
              "      <td>0.013177</td>\n",
              "      <td>0.010143</td>\n",
              "      <td>0.969929</td>\n",
              "      <td>0.977901</td>\n",
              "      <td>0.016843</td>\n",
              "      <td>5</td>\n",
              "    </tr>\n",
              "    <tr>\n",
              "      <th>6</th>\n",
              "      <td>0.604617</td>\n",
              "      <td>0.554688</td>\n",
              "      <td>0.686359</td>\n",
              "      <td>0.313641</td>\n",
              "      <td>0.464253</td>\n",
              "      <td>0.039225</td>\n",
              "      <td>0.010350</td>\n",
              "      <td>0.949947</td>\n",
              "      <td>0.944238</td>\n",
              "      <td>0.028971</td>\n",
              "      <td>6</td>\n",
              "    </tr>\n",
              "    <tr>\n",
              "      <th>7</th>\n",
              "      <td>0.613949</td>\n",
              "      <td>0.566453</td>\n",
              "      <td>0.663802</td>\n",
              "      <td>0.336198</td>\n",
              "      <td>0.428054</td>\n",
              "      <td>0.016782</td>\n",
              "      <td>0.008932</td>\n",
              "      <td>0.966293</td>\n",
              "      <td>0.974994</td>\n",
              "      <td>0.018339</td>\n",
              "      <td>7</td>\n",
              "    </tr>\n",
              "    <tr>\n",
              "      <th>8</th>\n",
              "      <td>0.606582</td>\n",
              "      <td>0.561553</td>\n",
              "      <td>0.636950</td>\n",
              "      <td>0.363050</td>\n",
              "      <td>0.419005</td>\n",
              "      <td>0.017326</td>\n",
              "      <td>0.010400</td>\n",
              "      <td>0.964063</td>\n",
              "      <td>0.973116</td>\n",
              "      <td>0.018945</td>\n",
              "      <td>8</td>\n",
              "    </tr>\n",
              "    <tr>\n",
              "      <th>9</th>\n",
              "      <td>0.606090</td>\n",
              "      <td>0.555460</td>\n",
              "      <td>0.693878</td>\n",
              "      <td>0.306122</td>\n",
              "      <td>0.467873</td>\n",
              "      <td>0.013200</td>\n",
              "      <td>0.001167</td>\n",
              "      <td>0.980967</td>\n",
              "      <td>0.981133</td>\n",
              "      <td>0.010966</td>\n",
              "      <td>9</td>\n",
              "    </tr>\n",
              "  </tbody>\n",
              "</table>\n",
              "</div>"
            ],
            "text/plain": [
              "   accuracy  precision    recall       FNR       FPR  fnr_diff  fpr_diff  \\\n",
              "0  0.603635   0.554386  0.678840  0.321160  0.459729  0.030287  0.001975   \n",
              "1  0.610511   0.563653  0.656284  0.343716  0.428054  0.020955  0.001645   \n",
              "2  0.600688   0.550950  0.685285  0.314715  0.470588  0.019842  0.007501   \n",
              "3  0.613949   0.566453  0.663802  0.336198  0.428054  0.047374  0.005289   \n",
              "4  0.614440   0.566972  0.663802  0.336198  0.427149  0.029893  0.003673   \n",
              "5  0.602161   0.553778  0.669173  0.330827  0.454299  0.013177  0.010143   \n",
              "6  0.604617   0.554688  0.686359  0.313641  0.464253  0.039225  0.010350   \n",
              "7  0.613949   0.566453  0.663802  0.336198  0.428054  0.016782  0.008932   \n",
              "8  0.606582   0.561553  0.636950  0.363050  0.419005  0.017326  0.010400   \n",
              "9  0.606090   0.555460  0.693878  0.306122  0.467873  0.013200  0.001167   \n",
              "\n",
              "   demo_parity_ratio  eq_odds_ratio  selection_rate_diff  random_seed  \n",
              "0           0.964375       0.956234             0.020271            0  \n",
              "1           0.970207       0.968508             0.016077            1  \n",
              "2           0.968064       0.971405             0.018428            2  \n",
              "3           0.944935       0.930782             0.030254            3  \n",
              "4           0.967877       0.955833             0.017449            4  \n",
              "5           0.969929       0.977901             0.016843            5  \n",
              "6           0.949947       0.944238             0.028971            6  \n",
              "7           0.966293       0.974994             0.018339            7  \n",
              "8           0.964063       0.973116             0.018945            8  \n",
              "9           0.980967       0.981133             0.010966            9  "
            ]
          },
          "execution_count": 247,
          "metadata": {},
          "output_type": "execute_result"
        }
      ],
      "source": [
        "#TO overall table\n",
        "df_to_overall"
      ]
    },
    {
      "cell_type": "code",
      "execution_count": null,
      "metadata": {
        "id": "QYwnd05I8aIR",
        "outputId": "8d7c7ee7-e57c-412b-96a4-844f481dbb35"
      },
      "outputs": [
        {
          "data": {
            "text/html": [
              "<div>\n",
              "<style scoped>\n",
              "    .dataframe tbody tr th:only-of-type {\n",
              "        vertical-align: middle;\n",
              "    }\n",
              "\n",
              "    .dataframe tbody tr th {\n",
              "        vertical-align: top;\n",
              "    }\n",
              "\n",
              "    .dataframe thead th {\n",
              "        text-align: right;\n",
              "    }\n",
              "</style>\n",
              "<table border=\"1\" class=\"dataframe\">\n",
              "  <thead>\n",
              "    <tr style=\"text-align: right;\">\n",
              "      <th></th>\n",
              "      <th>accuracy</th>\n",
              "      <th>precision</th>\n",
              "      <th>recall</th>\n",
              "      <th>FNR</th>\n",
              "      <th>FPR</th>\n",
              "      <th>random_seed</th>\n",
              "      <th>gender_Female</th>\n",
              "    </tr>\n",
              "  </thead>\n",
              "  <tbody>\n",
              "    <tr>\n",
              "      <th>0</th>\n",
              "      <td>0.594743</td>\n",
              "      <td>0.53493</td>\n",
              "      <td>0.661728</td>\n",
              "      <td>0.338272</td>\n",
              "      <td>0.458661</td>\n",
              "      <td>0</td>\n",
              "      <td>0.0</td>\n",
              "    </tr>\n",
              "    <tr>\n",
              "      <th>1</th>\n",
              "      <td>0.610864</td>\n",
              "      <td>0.56964</td>\n",
              "      <td>0.692015</td>\n",
              "      <td>0.307985</td>\n",
              "      <td>0.460637</td>\n",
              "      <td>0</td>\n",
              "      <td>1.0</td>\n",
              "    </tr>\n",
              "    <tr>\n",
              "      <th>0</th>\n",
              "      <td>0.6046</td>\n",
              "      <td>0.546025</td>\n",
              "      <td>0.644444</td>\n",
              "      <td>0.355556</td>\n",
              "      <td>0.427165</td>\n",
              "      <td>1</td>\n",
              "      <td>0.0</td>\n",
              "    </tr>\n",
              "    <tr>\n",
              "      <th>1</th>\n",
              "      <td>0.615316</td>\n",
              "      <td>0.577558</td>\n",
              "      <td>0.665399</td>\n",
              "      <td>0.334601</td>\n",
              "      <td>0.428811</td>\n",
              "      <td>1</td>\n",
              "      <td>1.0</td>\n",
              "    </tr>\n",
              "    <tr>\n",
              "      <th>0</th>\n",
              "      <td>0.595838</td>\n",
              "      <td>0.535294</td>\n",
              "      <td>0.674074</td>\n",
              "      <td>0.325926</td>\n",
              "      <td>0.466535</td>\n",
              "      <td>2</td>\n",
              "      <td>0.0</td>\n",
              "    </tr>\n",
              "    <tr>\n",
              "      <th>1</th>\n",
              "      <td>0.60463</td>\n",
              "      <td>0.563272</td>\n",
              "      <td>0.693916</td>\n",
              "      <td>0.306084</td>\n",
              "      <td>0.474037</td>\n",
              "      <td>2</td>\n",
              "      <td>1.0</td>\n",
              "    </tr>\n",
              "    <tr>\n",
              "      <th>0</th>\n",
              "      <td>0.60241</td>\n",
              "      <td>0.544304</td>\n",
              "      <td>0.637037</td>\n",
              "      <td>0.362963</td>\n",
              "      <td>0.425197</td>\n",
              "      <td>3</td>\n",
              "      <td>0.0</td>\n",
              "    </tr>\n",
              "    <tr>\n",
              "      <th>1</th>\n",
              "      <td>0.62333</td>\n",
              "      <td>0.583468</td>\n",
              "      <td>0.684411</td>\n",
              "      <td>0.315589</td>\n",
              "      <td>0.430486</td>\n",
              "      <td>3</td>\n",
              "      <td>1.0</td>\n",
              "    </tr>\n",
              "    <tr>\n",
              "      <th>0</th>\n",
              "      <td>0.6046</td>\n",
              "      <td>0.545833</td>\n",
              "      <td>0.646914</td>\n",
              "      <td>0.353086</td>\n",
              "      <td>0.429134</td>\n",
              "      <td>4</td>\n",
              "      <td>0.0</td>\n",
              "    </tr>\n",
              "    <tr>\n",
              "      <th>1</th>\n",
              "      <td>0.62244</td>\n",
              "      <td>0.583607</td>\n",
              "      <td>0.676806</td>\n",
              "      <td>0.323194</td>\n",
              "      <td>0.425461</td>\n",
              "      <td>4</td>\n",
              "      <td>1.0</td>\n",
              "    </tr>\n",
              "    <tr>\n",
              "      <th>0</th>\n",
              "      <td>0.600219</td>\n",
              "      <td>0.540323</td>\n",
              "      <td>0.661728</td>\n",
              "      <td>0.338272</td>\n",
              "      <td>0.448819</td>\n",
              "      <td>5</td>\n",
              "      <td>0.0</td>\n",
              "    </tr>\n",
              "    <tr>\n",
              "      <th>1</th>\n",
              "      <td>0.60374</td>\n",
              "      <td>0.564388</td>\n",
              "      <td>0.674905</td>\n",
              "      <td>0.325095</td>\n",
              "      <td>0.458961</td>\n",
              "      <td>5</td>\n",
              "      <td>1.0</td>\n",
              "    </tr>\n",
              "    <tr>\n",
              "      <th>0</th>\n",
              "      <td>0.595838</td>\n",
              "      <td>0.535857</td>\n",
              "      <td>0.664198</td>\n",
              "      <td>0.335802</td>\n",
              "      <td>0.458661</td>\n",
              "      <td>6</td>\n",
              "      <td>0.0</td>\n",
              "    </tr>\n",
              "    <tr>\n",
              "      <th>1</th>\n",
              "      <td>0.611754</td>\n",
              "      <td>0.569231</td>\n",
              "      <td>0.703422</td>\n",
              "      <td>0.296578</td>\n",
              "      <td>0.469012</td>\n",
              "      <td>6</td>\n",
              "      <td>1.0</td>\n",
              "    </tr>\n",
              "    <tr>\n",
              "      <th>0</th>\n",
              "      <td>0.611172</td>\n",
              "      <td>0.552083</td>\n",
              "      <td>0.654321</td>\n",
              "      <td>0.345679</td>\n",
              "      <td>0.423228</td>\n",
              "      <td>7</td>\n",
              "      <td>0.0</td>\n",
              "    </tr>\n",
              "    <tr>\n",
              "      <th>1</th>\n",
              "      <td>0.616207</td>\n",
              "      <td>0.577741</td>\n",
              "      <td>0.671103</td>\n",
              "      <td>0.328897</td>\n",
              "      <td>0.432161</td>\n",
              "      <td>7</td>\n",
              "      <td>1.0</td>\n",
              "    </tr>\n",
              "    <tr>\n",
              "      <th>0</th>\n",
              "      <td>0.6046</td>\n",
              "      <td>0.547414</td>\n",
              "      <td>0.62716</td>\n",
              "      <td>0.37284</td>\n",
              "      <td>0.413386</td>\n",
              "      <td>8</td>\n",
              "      <td>0.0</td>\n",
              "    </tr>\n",
              "    <tr>\n",
              "      <th>1</th>\n",
              "      <td>0.608192</td>\n",
              "      <td>0.572635</td>\n",
              "      <td>0.644487</td>\n",
              "      <td>0.355513</td>\n",
              "      <td>0.423786</td>\n",
              "      <td>8</td>\n",
              "      <td>1.0</td>\n",
              "    </tr>\n",
              "    <tr>\n",
              "      <th>0</th>\n",
              "      <td>0.600219</td>\n",
              "      <td>0.53876</td>\n",
              "      <td>0.68642</td>\n",
              "      <td>0.31358</td>\n",
              "      <td>0.468504</td>\n",
              "      <td>9</td>\n",
              "      <td>0.0</td>\n",
              "    </tr>\n",
              "    <tr>\n",
              "      <th>1</th>\n",
              "      <td>0.610864</td>\n",
              "      <td>0.568779</td>\n",
              "      <td>0.69962</td>\n",
              "      <td>0.30038</td>\n",
              "      <td>0.467337</td>\n",
              "      <td>9</td>\n",
              "      <td>1.0</td>\n",
              "    </tr>\n",
              "  </tbody>\n",
              "</table>\n",
              "</div>"
            ],
            "text/plain": [
              "   accuracy precision    recall       FNR       FPR random_seed  gender_Female\n",
              "0  0.594743   0.53493  0.661728  0.338272  0.458661           0            0.0\n",
              "1  0.610864   0.56964  0.692015  0.307985  0.460637           0            1.0\n",
              "0    0.6046  0.546025  0.644444  0.355556  0.427165           1            0.0\n",
              "1  0.615316  0.577558  0.665399  0.334601  0.428811           1            1.0\n",
              "0  0.595838  0.535294  0.674074  0.325926  0.466535           2            0.0\n",
              "1   0.60463  0.563272  0.693916  0.306084  0.474037           2            1.0\n",
              "0   0.60241  0.544304  0.637037  0.362963  0.425197           3            0.0\n",
              "1   0.62333  0.583468  0.684411  0.315589  0.430486           3            1.0\n",
              "0    0.6046  0.545833  0.646914  0.353086  0.429134           4            0.0\n",
              "1   0.62244  0.583607  0.676806  0.323194  0.425461           4            1.0\n",
              "0  0.600219  0.540323  0.661728  0.338272  0.448819           5            0.0\n",
              "1   0.60374  0.564388  0.674905  0.325095  0.458961           5            1.0\n",
              "0  0.595838  0.535857  0.664198  0.335802  0.458661           6            0.0\n",
              "1  0.611754  0.569231  0.703422  0.296578  0.469012           6            1.0\n",
              "0  0.611172  0.552083  0.654321  0.345679  0.423228           7            0.0\n",
              "1  0.616207  0.577741  0.671103  0.328897  0.432161           7            1.0\n",
              "0    0.6046  0.547414   0.62716   0.37284  0.413386           8            0.0\n",
              "1  0.608192  0.572635  0.644487  0.355513  0.423786           8            1.0\n",
              "0  0.600219   0.53876   0.68642   0.31358  0.468504           9            0.0\n",
              "1  0.610864  0.568779   0.69962   0.30038  0.467337           9            1.0"
            ]
          },
          "execution_count": 248,
          "metadata": {},
          "output_type": "execute_result"
        }
      ],
      "source": [
        "#table for sensitive feature\n",
        "df_to_sen"
      ]
    },
    {
      "cell_type": "code",
      "execution_count": null,
      "metadata": {
        "id": "EmjAKbEH8aIR",
        "outputId": "fb2e177e-917f-41b8-f365-fb684eda51c4"
      },
      "outputs": [
        {
          "data": {
            "image/png": "[encoded data removed]",
            "text/plain": [
              "<Figure size 1440x1440 with 10 Axes>"
            ]
          },
          "metadata": {
            "needs_background": "light"
          },
          "output_type": "display_data"
        }
      ],
      "source": [
        "fig, axs = plt.subplots(nrows=2, ncols=5, figsize=(20, 20), sharey=True)\n",
        "\n",
        "#metrics name and alpha values as labels\n",
        "metrics_overall = ['accuracy','precision','recall','FNR','FPR',\n",
        "  'fnr_diff','fpr_diff','demo_parity_ratio','eq_odds_ratio','selection_rate_diff']\n",
        "labels = ['0.0', '0.3', '0.7', '1.0','TO']\n",
        "#metrics vi-x\n",
        "baseline_metric_vix = [fnr_diff_baseline, fpr_diff_baseline, demo_parity_ratio_baseline, \n",
        "                       eq_odds_ratio_baseline, selection_rate_diff_baseline]\n",
        "metric_vix = [fnr_diff, fpr_diff, demo_parity_ratio, \n",
        "                eq_odds_ratio, selection_rate_diff]\n",
        "\n",
        "#draw plot\n",
        "for j in range(0,10):\n",
        "    if (j<5):\n",
        "        #prepare data\n",
        "        df_overall_graph = df_af_overall[[metrics_overall[j],'alpha','random_seed']]\n",
        "        df_piv = df_overall_graph.pivot(index='random_seed', columns='alpha')\n",
        "        df_piv = df_piv[metrics_overall[j]].reset_index(drop=True)\n",
        "        df_piv = df_piv.assign(ThresholdOptimizer = df_to_overall[metrics_overall[j]])\n",
        "        #plot subplot\n",
        "        axs[0, j].boxplot(df_piv, labels=labels)\n",
        "        axs[0, j].axhline(y=metric_frame_baseline.overall[j], color='grey', linestyle='dashed')\n",
        "        axs[0, j].axhline(y=metric_frame.overall[j], color='grey', linestyle='-')\n",
        "        axs[0, j].set_title(metrics_overall[j], fontsize=10)\n",
        "    else:\n",
        "        df_overall_graph = df_af_overall[[metrics_overall[j],'alpha','random_seed']]\n",
        "        df_piv = df_overall_graph.pivot(index='random_seed', columns='alpha')\n",
        "        df_piv = df_piv[metrics_overall[j]].reset_index(drop=True)\n",
        "        df_piv = df_piv.assign(ThresholdOptimizer = df_to_overall[metrics_overall[j]])\n",
        "        \n",
        "        axs[1, (j-5)].boxplot(df_piv, labels=labels)\n",
        "        axs[1, (j-5)].axhline(y=baseline_metric_vix[j-5], color='grey', linestyle='dashed')\n",
        "        axs[1, (j-5)].axhline(y=metric_vix[j-5], color='grey', linestyle='-')\n",
        "        axs[1, (j-5)].set_title(metrics_overall[j], fontsize=10)\n",
        "            \n",
        "for ax in axs.flat:\n",
        "    ax.set_yscale('log')\n",
        "    ax.set_yticklabels([])\n",
        "\n",
        "fig.subplots_adjust(hspace=0.6)\n",
        "plt.show()"
      ]
    },
    {
      "cell_type": "code",
      "execution_count": null,
      "metadata": {
        "id": "NJqvNZlX8aIR",
        "outputId": "fd86ae68-b08f-4d9d-c166-55cf2e7d6d42"
      },
      "outputs": [
        {
          "data": {
            "image/png": "[encoded data removed]",
            "text/plain": [
              "<Figure size 1440x720 with 5 Axes>"
            ]
          },
          "metadata": {
            "needs_background": "light"
          },
          "output_type": "display_data"
        }
      ],
      "source": [
        "fig, axs = plt.subplots(nrows=1, ncols=5, figsize=(20, 10), sharey=True)\n",
        "\n",
        "#metrics name and alpha values as labels\n",
        "metrics_sen = ['accuracy','precision','recall','FNR','FPR']\n",
        "labels = ['0.0', '0.3', '0.7', '1.0','TO']\n",
        "#data for baseline group by gender\n",
        "df_baseline = metric_frame_baseline.by_group.reset_index()\n",
        "baseline_male = df_baseline[df_baseline.gender_Female == 0].drop('gender_Female', axis = 1).to_numpy()\n",
        "baseline_female = df_baseline[df_baseline.gender_Female == 1].drop('gender_Female', axis = 1).to_numpy()\n",
        "#data for optimized group by gender\n",
        "df_tune = metric_frame.by_group.reset_index()\n",
        "tune_male = df_tune[df_tune.gender_Female == 0].drop('gender_Female', axis = 1).to_numpy()\n",
        "tune_female = df_tune[df_tune.gender_Female == 1].drop('gender_Female', axis = 1).to_numpy()\n",
        "\n",
        "#male threshold optimizer data\n",
        "df_to_male = df_to_sen[df_to_sen.gender_Female == 0].drop('gender_Female', axis=1).reset_index()\n",
        "#draw plot\n",
        "for j in range(0,5):\n",
        "    #prepare data\n",
        "    df_af_male_graph = df_af_male[[metrics_sen[j],'alpha','random_seed']]\n",
        "    df_piv = df_af_male.pivot(index='random_seed', columns='alpha')\n",
        "    df_piv = df_piv[metrics_sen[j]].reset_index(drop=True)\n",
        "    df_piv = df_piv.assign(ThresholdOptimizer = df_to_male[metrics_sen[j]])\n",
        "    #draw subplot    \n",
        "    axs[j].boxplot(df_piv, labels=labels)\n",
        "    axs[j].axhline(y=baseline_male[0][j], color='grey', linestyle='dashed')\n",
        "    axs[j].axhline(y=tune_male[0][j], color='grey', linestyle='-')\n",
        "    axs[j].set_title(metrics_sen[j], fontsize=10)\n",
        "            \n",
        "for ax in axs.flat:\n",
        "    ax.set_yscale('log')\n",
        "    ax.set_yticklabels([])\n",
        "\n",
        "fig.subplots_adjust(hspace=0.6)\n",
        "plt.show()"
      ]
    },
    {
      "cell_type": "code",
      "execution_count": null,
      "metadata": {
        "id": "dxEUbFzB8aIS",
        "outputId": "9764657b-b01a-4b91-bd0a-77e39230a22c"
      },
      "outputs": [
        {
          "data": {
            "image/png": "[encoded data removed]",
            "text/plain": [
              "<Figure size 1440x720 with 5 Axes>"
            ]
          },
          "metadata": {
            "needs_background": "light"
          },
          "output_type": "display_data"
        }
      ],
      "source": [
        "fig, axs = plt.subplots(nrows=1, ncols=5, figsize=(20, 10), sharey=True)\n",
        "#female threshold optimizer data\n",
        "df_to_female = df_to_sen[df_to_sen.gender_Female == 1].drop('gender_Female', axis=1).reset_index()\n",
        "#draw plot\n",
        "for j in range(0,5):\n",
        "    df_af_female_graph = df_af_female[[metrics_sen[j],'alpha','random_seed']]\n",
        "    df_piv = df_af_female.pivot(index='random_seed', columns='alpha')\n",
        "    df_piv = df_piv[metrics_sen[j]].reset_index(drop=True)\n",
        "    df_piv = df_piv.assign(ThresholdOptimizer = df_to_female[metrics_sen[j]])\n",
        "        \n",
        "    axs[j].boxplot(df_piv, labels=labels)\n",
        "    axs[j].axhline(y=baseline_female[0][j], color='grey', linestyle='dashed')\n",
        "    axs[j].axhline(y=tune_female[0][j], color='grey', linestyle='-')\n",
        "    axs[j].set_title(metrics_sen[j], fontsize=10)\n",
        "            \n",
        "for ax in axs.flat:\n",
        "    ax.set_yscale('log')\n",
        "    ax.set_yticklabels([])\n",
        "\n",
        "fig.subplots_adjust(hspace=0.6)\n",
        "plt.show()"
      ]
    },
    {
      "cell_type": "markdown",
      "source": [
        "The First graph contains overall metrics I-X, the second graph contains metrics I-V for male, and the third graph contains metrics I-V for female.\n",
        "\n",
        "For the constraint of ThresholdOptimizer, false negative rate parity is chosen to optimize. Given the medical context in this classification scenario, we are trying to predict if a patient diagnosed with diabetes have a hospital admission, would he/she be readmitted to hospital in the next 30 days. Intuitively for patients, it is crucial not to have a false negative case, that is, if patient is predicted of no need to readmit but actually do need readmission, directly impacting patient's heath. The fairness tree by Aequitas publisher also suggest that false negative rate parity is the most suitable metric to optimize, since we have an assitive intervention, and we are most concerned with ensuring predictive equity for people with need. Thus for sensitive attribute gender, we want to ensure an optimized false positive rate parity.\n",
        "\n",
        "Comparing ThresholdOptimizer metrics to Adversatial Fairness classifier metrics, we see that the box plots are all significantly smaller. Accuracy, , precison, false negative rage difference have ThresholdOptimizer metrics around the mean of dversatial Fairness classifier metrics. Recall, false positive rate, demographic parity ratio, equalized odds ratio, and selection rate difference have ThresholdOptimizer metrics slightly higher than dversatial Fairness classifier metrics (around upper quartile). False negative rate and false positive difference, however, have ThresholdOptimizer metrics slightly lower than dversatial Fairness classifier metrics. Similar situation applies to both male and female metrics. \n",
        "\n",
        "Comparing ThresholdOptimizer metrics to our optimized random forest model, we see that with approximately the same accuracy, ThresholdOptimizer have a higher false positive rate and lower false negative rate. Therefore we indeed optimzed our false negative rate parity while having a smaller range of metrics than Adversatial Fairness classifier metrics."
      ],
      "metadata": {
        "id": "jlU2Rl25AvNp"
      }
    },
    {
      "cell_type": "markdown",
      "source": [
        "**Conclusion**\n",
        "\n",
        "In general, we see that there is a tradeoff between model prediction perfomances (such as accuracy) and fairness metrics (such as false negative rate parity). In this medical scenario, we have focused our attention on false negative rate parity for our sensitive attribute gender. While accuracy optimized random forest classifier do have higher accuracy, fairness metircs suffer. The Adversarial Fairness classifier indeed improved fairness metrics while have approximately the same accuracy, and ThresholdOptimizer further optimized our constraint (false negative rate parity) with approximately the same accuracy and also more concentrated distribution of metrics."
      ],
      "metadata": {
        "id": "vZFsrisuMFd1"
      }
    }
  ],
  "metadata": {
    "accelerator": "GPU",
    "colab": {
      "provenance": [],
      "collapsed_sections": [
        "_4uCde0xDNZp",
        "ffNcAr5uaTyz",
        "pLg6BiVp652g",
        "FaQZc9mkDBQc",
        "pDinJweUQT-w"
      ],
      "include_colab_link": true
    },
    "gpuClass": "standard",
    "kernelspec": {
      "display_name": "Python 3 (ipykernel)",
      "language": "python",
      "name": "python3"
    },
    "language_info": {
      "codemirror_mode": {
        "name": "ipython",
        "version": 3
      },
      "file_extension": ".py",
      "mimetype": "text/x-python",
      "name": "python",
      "nbconvert_exporter": "python",
      "pygments_lexer": "ipython3",
      "version": "3.9.12"
    }
  },
  "nbformat": 4,
  "nbformat_minor": 0
}