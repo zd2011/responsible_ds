{
  "nbformat": 4,
  "nbformat_minor": 0,
  "metadata": {
    "colab": {
      "provenance": [],
      "include_colab_link": true
    },
    "kernelspec": {
      "name": "python3",
      "display_name": "Python 3"
    },
    "language_info": {
      "name": "python"
    }
  },
  "cells": [
    {
      "cell_type": "markdown",
      "metadata": {
        "id": "view-in-github",
        "colab_type": "text"
      },
      "source": [
        "<a href=\"https://colab.research.google.com/github/zd2011/responsible_ds/blob/main/lab3.ipynb\" target=\"_parent\"><img src=\"https://colab.research.google.com/assets/colab-badge.svg\" alt=\"Open In Colab\"/></a>"
      ]
    },
    {
      "cell_type": "markdown",
      "source": [
        "# **Lab 3: Mitigating Bias Using Fairlearn**"
      ],
      "metadata": {
        "id": "3LrSVlCSDA9Z"
      }
    },
    {
      "cell_type": "markdown",
      "source": [
        "Previously we explored bias metrics and measuring bias in a binary classification machine learning model. In this Lab we will continue working on the same data and ML model, this time using Fairlearn to perform bias-mitigating interventions in three different ways:\n",
        "\n",
        "*   **Preprocessing interventions:** These algorithms transform the dataset (prior to training a model) in order to mitigate possible unfairness present in the data. \n",
        "    - Example: One way to think about bias is as correlation between sensitive and non-sensitive features in the dataset. By applying the [CorrelationRemover](https://fairlearn.org/v0.7.0/api_reference/fairlearn.preprocessing.html#fairlearn.preprocessing.CorrelationRemover), these correlations are projected away while details from the original data are retained as much as possible (as measured by least-squares error). The user can control the level of projection via the `alpha` parameter. \n",
        "\n",
        "*   **Reduction algorithms:** At a high level, the reduction algorithms within Fairlearn enable bias mitigation for machine learning models using user-provided constraints. The two available algorithms are [Exponentiated Gradient](https://fairlearn.org/v0.7.0/api_reference/fairlearn.reductions.html#fairlearn.reductions.ExponentiatedGradient) and [Grid Search](https://fairlearn.org/v0.7.0/api_reference/fairlearn.reductions.html#fairlearn.reductions.GridSearch). The reductions approach seeks to reduce binary classification and regression problems subject to fairness contrains to a sequence of weighted classification problems. As a result, the reduction algorithms in Fairlearn only require a wrapper to access to any “base” learning algorithm. By this we mean that the “base” algorithm only needs to implement `fit` and `predict` methods (like any standard scikit-learn estimator) but it does not need to have any knowledge of the desired fairness constraints or sensitive features.\n",
        "\n",
        "    From an API perspective this looks as follows in all situations:\n",
        "\n",
        "  > reduction = Reduction(base_estimator, constraints, **kwargs)  \n",
        "  > reduction.fit(X_train, y_train, sensitive_features=sensitive_features)  \n",
        "  > reduction.predict(X_test)  \n",
        "\n",
        "*   **Postprocessing algorithms:** The postprocessing algorithms transform the *outputs* of a classification or regression model to mitigate bias. For example, the [ThresholdOptimizer](https://fairlearn.org/v0.7.0/api_reference/fairlearn.postprocessing.html#fairlearn.postprocessing.ThresholdOptimizer) takes as input an existing classifier and the sensitive feature, and derives a monotone transformation of the classifier’s prediction to enforce the specified parity constraints.\n",
        "\n",
        "This Lab is divided into the following parts:\n",
        "\n",
        "1. Load the data as we did in Lab 2\n",
        "2. Use preprocessing algorithms to mitigate bias\n",
        "3. Use reduction algorithms to mitigate bias\n",
        "4. Use postprocessing algorithms to mitigate bias\n",
        "5. Compare all of our efforts"
      ],
      "metadata": {
        "id": "lmV3Oa62ewha"
      }
    },
    {
      "cell_type": "markdown",
      "source": [
        "#1. Load the data  (This code is all from Lab 2)"
      ],
      "metadata": {
        "id": "OAVIoTU3l9GI"
      }
    },
    {
      "cell_type": "markdown",
      "source": [
        "If you have any doubts about Part 1, please refer to Lab 2, in which we did the same steps."
      ],
      "metadata": {
        "id": "9ZPC6Qfzn1-4"
      }
    },
    {
      "cell_type": "code",
      "execution_count": null,
      "metadata": {
        "id": "9LqUU91SjcFB",
        "colab": {
          "base_uri": "https://localhost:8080/"
        },
        "outputId": "ab0b3c0b-6bd2-43b9-ba9a-d394e0a8b922"
      },
      "outputs": [
        {
          "output_type": "stream",
          "name": "stdout",
          "text": [
            "Looking in indexes: https://pypi.org/simple, https://us-python.pkg.dev/colab-wheels/public/simple/\n",
            "Collecting fairlearn\n",
            "  Downloading fairlearn-0.8.0-py3-none-any.whl (235 kB)\n",
            "\u001b[2K     \u001b[90m━━━━━━━━━━━━━━━━━━━━━━━━━━━━━━━━━━━━━━━\u001b[0m \u001b[32m235.0/235.0 KB\u001b[0m \u001b[31m6.7 MB/s\u001b[0m eta \u001b[36m0:00:00\u001b[0m\n",
            "\u001b[?25hRequirement already satisfied: scipy>=1.4.1 in /usr/local/lib/python3.8/dist-packages (from fairlearn) (1.7.3)\n",
            "Requirement already satisfied: scikit-learn>=0.22.1 in /usr/local/lib/python3.8/dist-packages (from fairlearn) (1.0.2)\n",
            "Requirement already satisfied: numpy>=1.17.2 in /usr/local/lib/python3.8/dist-packages (from fairlearn) (1.21.6)\n",
            "Requirement already satisfied: pandas>=0.25.1 in /usr/local/lib/python3.8/dist-packages (from fairlearn) (1.3.5)\n",
            "Requirement already satisfied: python-dateutil>=2.7.3 in /usr/local/lib/python3.8/dist-packages (from pandas>=0.25.1->fairlearn) (2.8.2)\n",
            "Requirement already satisfied: pytz>=2017.3 in /usr/local/lib/python3.8/dist-packages (from pandas>=0.25.1->fairlearn) (2022.7.1)\n",
            "Requirement already satisfied: threadpoolctl>=2.0.0 in /usr/local/lib/python3.8/dist-packages (from scikit-learn>=0.22.1->fairlearn) (3.1.0)\n",
            "Requirement already satisfied: joblib>=0.11 in /usr/local/lib/python3.8/dist-packages (from scikit-learn>=0.22.1->fairlearn) (1.2.0)\n",
            "Requirement already satisfied: six>=1.5 in /usr/local/lib/python3.8/dist-packages (from python-dateutil>=2.7.3->pandas>=0.25.1->fairlearn) (1.15.0)\n",
            "Installing collected packages: fairlearn\n",
            "Successfully installed fairlearn-0.8.0\n",
            "Looking in indexes: https://pypi.org/simple, https://us-python.pkg.dev/colab-wheels/public/simple/\n",
            "Collecting folktables\n",
            "  Downloading folktables-0.0.12-py3-none-any.whl (17 kB)\n",
            "Requirement already satisfied: scikit-learn in /usr/local/lib/python3.8/dist-packages (from folktables) (1.0.2)\n",
            "Requirement already satisfied: numpy in /usr/local/lib/python3.8/dist-packages (from folktables) (1.21.6)\n",
            "Requirement already satisfied: pandas in /usr/local/lib/python3.8/dist-packages (from folktables) (1.3.5)\n",
            "Requirement already satisfied: requests in /usr/local/lib/python3.8/dist-packages (from folktables) (2.25.1)\n",
            "Requirement already satisfied: pytz>=2017.3 in /usr/local/lib/python3.8/dist-packages (from pandas->folktables) (2022.7.1)\n",
            "Requirement already satisfied: python-dateutil>=2.7.3 in /usr/local/lib/python3.8/dist-packages (from pandas->folktables) (2.8.2)\n",
            "Requirement already satisfied: urllib3<1.27,>=1.21.1 in /usr/local/lib/python3.8/dist-packages (from requests->folktables) (1.24.3)\n",
            "Requirement already satisfied: idna<3,>=2.5 in /usr/local/lib/python3.8/dist-packages (from requests->folktables) (2.10)\n",
            "Requirement already satisfied: chardet<5,>=3.0.2 in /usr/local/lib/python3.8/dist-packages (from requests->folktables) (4.0.0)\n",
            "Requirement already satisfied: certifi>=2017.4.17 in /usr/local/lib/python3.8/dist-packages (from requests->folktables) (2022.12.7)\n",
            "Requirement already satisfied: joblib>=0.11 in /usr/local/lib/python3.8/dist-packages (from scikit-learn->folktables) (1.2.0)\n",
            "Requirement already satisfied: scipy>=1.1.0 in /usr/local/lib/python3.8/dist-packages (from scikit-learn->folktables) (1.7.3)\n",
            "Requirement already satisfied: threadpoolctl>=2.0.0 in /usr/local/lib/python3.8/dist-packages (from scikit-learn->folktables) (3.1.0)\n",
            "Requirement already satisfied: six>=1.5 in /usr/local/lib/python3.8/dist-packages (from python-dateutil>=2.7.3->pandas->folktables) (1.15.0)\n",
            "Installing collected packages: folktables\n",
            "Successfully installed folktables-0.0.12\n",
            "Cloning into 'superquail'...\n",
            "remote: Enumerating objects: 24, done.\u001b[K\n",
            "remote: Counting objects: 100% (24/24), done.\u001b[K\n",
            "remote: Compressing objects: 100% (20/20), done.\u001b[K\n",
            "remote: Total 24 (delta 1), reused 20 (delta 1), pack-reused 0\u001b[K\n",
            "Unpacking objects: 100% (24/24), 11.88 KiB | 507.00 KiB/s, done.\n"
          ]
        }
      ],
      "source": [
        "# %%capture\n",
        "#@markdown\n",
        "!pip install fairlearn\n",
        "!pip install folktables\n",
        "!git clone https://github.com/lurosenb/superquail"
      ]
    },
    {
      "cell_type": "code",
      "source": [
        "#@markdown Import statments\n",
        "from folktables import ACSDataSource, ACSEmployment, ACSIncome, ACSPublicCoverage, ACSTravelTime\n",
        "from superquail.data.acs_helper import ACSData\n",
        "\n",
        "import matplotlib.pyplot as plt\n",
        "import seaborn as sn\n",
        "import pandas as pd\n",
        "import numpy as np\n",
        "from sklearn.model_selection import train_test_split\n",
        "from sklearn.preprocessing import StandardScaler\n",
        "from sklearn.linear_model import LogisticRegression\n",
        "from sklearn.metrics import accuracy_score\n",
        "import sklearn.metrics as skm\n",
        "\n",
        "from fairlearn.datasets import fetch_adult\n",
        "from fairlearn.preprocessing import CorrelationRemover\n",
        "from fairlearn.reductions import ExponentiatedGradient\n",
        "from fairlearn.reductions import GridSearch\n",
        "from fairlearn.reductions import DemographicParity, ErrorRate\n",
        "from fairlearn.postprocessing import ThresholdOptimizer\n",
        "from fairlearn.metrics import MetricFrame\n",
        "from fairlearn.metrics import demographic_parity_difference, demographic_parity_ratio, selection_rate\n",
        "from fairlearn.metrics import false_negative_rate, false_positive_rate\n",
        "\n",
        "from IPython.display import clear_output"
      ],
      "metadata": {
        "id": "XJ5pQ55zkzHp"
      },
      "execution_count": null,
      "outputs": []
    },
    {
      "cell_type": "code",
      "source": [
        "#@markdown Import data \n",
        "data, features_df, target_df, groups_df = ACSData().return_acs_data_scenario(scenario=\"ACSIncome\", subsample=70000)\n",
        "\n",
        "print(data.shape)\n",
        "data.head()"
      ],
      "metadata": {
        "id": "8vjRWA4xlwk5",
        "colab": {
          "base_uri": "https://localhost:8080/",
          "height": 241
        },
        "outputId": "00727d06-75fa-43d7-afed-3a324c942b74"
      },
      "execution_count": null,
      "outputs": [
        {
          "output_type": "stream",
          "name": "stdout",
          "text": [
            "Downloading data for 2018 1-Year person survey for CA...\n",
            "(70000, 11)\n"
          ]
        },
        {
          "output_type": "execute_result",
          "data": {
            "text/plain": [
              "   AGEP  COW  SCHL  MAR    OCCP   POBP  RELP  WKHP  SEX  RAC1P  PINCP\n",
              "0  32.0  1.0  22.0  5.0  1305.0    6.0   5.0  50.0  2.0    6.0    1.0\n",
              "1  24.0  1.0  21.0  5.0  2002.0    6.0  12.0  20.0  1.0    1.0    0.0\n",
              "2  42.0  6.0  22.0  3.0  2830.0    6.0  17.0  18.0  2.0    1.0    0.0\n",
              "3  46.0  1.0  22.0  5.0  9645.0  338.0   0.0  24.0  1.0    1.0    0.0\n",
              "4  51.0  1.0   1.0  1.0  9720.0  303.0   0.0  40.0  1.0    8.0    0.0"
            ],
            "text/html": [
              "\n",
              "  <div id=\"df-4f0afc33-604e-4692-a76f-8f10ab3f58ab\">\n",
              "    <div class=\"colab-df-container\">\n",
              "      <div>\n",
              "<style scoped>\n",
              "    .dataframe tbody tr th:only-of-type {\n",
              "        vertical-align: middle;\n",
              "    }\n",
              "\n",
              "    .dataframe tbody tr th {\n",
              "        vertical-align: top;\n",
              "    }\n",
              "\n",
              "    .dataframe thead th {\n",
              "        text-align: right;\n",
              "    }\n",
              "</style>\n",
              "<table border=\"1\" class=\"dataframe\">\n",
              "  <thead>\n",
              "    <tr style=\"text-align: right;\">\n",
              "      <th></th>\n",
              "      <th>AGEP</th>\n",
              "      <th>COW</th>\n",
              "      <th>SCHL</th>\n",
              "      <th>MAR</th>\n",
              "      <th>OCCP</th>\n",
              "      <th>POBP</th>\n",
              "      <th>RELP</th>\n",
              "      <th>WKHP</th>\n",
              "      <th>SEX</th>\n",
              "      <th>RAC1P</th>\n",
              "      <th>PINCP</th>\n",
              "    </tr>\n",
              "  </thead>\n",
              "  <tbody>\n",
              "    <tr>\n",
              "      <th>0</th>\n",
              "      <td>32.0</td>\n",
              "      <td>1.0</td>\n",
              "      <td>22.0</td>\n",
              "      <td>5.0</td>\n",
              "      <td>1305.0</td>\n",
              "      <td>6.0</td>\n",
              "      <td>5.0</td>\n",
              "      <td>50.0</td>\n",
              "      <td>2.0</td>\n",
              "      <td>6.0</td>\n",
              "      <td>1.0</td>\n",
              "    </tr>\n",
              "    <tr>\n",
              "      <th>1</th>\n",
              "      <td>24.0</td>\n",
              "      <td>1.0</td>\n",
              "      <td>21.0</td>\n",
              "      <td>5.0</td>\n",
              "      <td>2002.0</td>\n",
              "      <td>6.0</td>\n",
              "      <td>12.0</td>\n",
              "      <td>20.0</td>\n",
              "      <td>1.0</td>\n",
              "      <td>1.0</td>\n",
              "      <td>0.0</td>\n",
              "    </tr>\n",
              "    <tr>\n",
              "      <th>2</th>\n",
              "      <td>42.0</td>\n",
              "      <td>6.0</td>\n",
              "      <td>22.0</td>\n",
              "      <td>3.0</td>\n",
              "      <td>2830.0</td>\n",
              "      <td>6.0</td>\n",
              "      <td>17.0</td>\n",
              "      <td>18.0</td>\n",
              "      <td>2.0</td>\n",
              "      <td>1.0</td>\n",
              "      <td>0.0</td>\n",
              "    </tr>\n",
              "    <tr>\n",
              "      <th>3</th>\n",
              "      <td>46.0</td>\n",
              "      <td>1.0</td>\n",
              "      <td>22.0</td>\n",
              "      <td>5.0</td>\n",
              "      <td>9645.0</td>\n",
              "      <td>338.0</td>\n",
              "      <td>0.0</td>\n",
              "      <td>24.0</td>\n",
              "      <td>1.0</td>\n",
              "      <td>1.0</td>\n",
              "      <td>0.0</td>\n",
              "    </tr>\n",
              "    <tr>\n",
              "      <th>4</th>\n",
              "      <td>51.0</td>\n",
              "      <td>1.0</td>\n",
              "      <td>1.0</td>\n",
              "      <td>1.0</td>\n",
              "      <td>9720.0</td>\n",
              "      <td>303.0</td>\n",
              "      <td>0.0</td>\n",
              "      <td>40.0</td>\n",
              "      <td>1.0</td>\n",
              "      <td>8.0</td>\n",
              "      <td>0.0</td>\n",
              "    </tr>\n",
              "  </tbody>\n",
              "</table>\n",
              "</div>\n",
              "      <button class=\"colab-df-convert\" onclick=\"convertToInteractive('df-4f0afc33-604e-4692-a76f-8f10ab3f58ab')\"\n",
              "              title=\"Convert this dataframe to an interactive table.\"\n",
              "              style=\"display:none;\">\n",
              "        \n",
              "  <svg xmlns=\"http://www.w3.org/2000/svg\" height=\"24px\"viewBox=\"0 0 24 24\"\n",
              "       width=\"24px\">\n",
              "    <path d=\"M0 0h24v24H0V0z\" fill=\"none\"/>\n",
              "    <path d=\"M18.56 5.44l.94 2.06.94-2.06 2.06-.94-2.06-.94-.94-2.06-.94 2.06-2.06.94zm-11 1L8.5 8.5l.94-2.06 2.06-.94-2.06-.94L8.5 2.5l-.94 2.06-2.06.94zm10 10l.94 2.06.94-2.06 2.06-.94-2.06-.94-.94-2.06-.94 2.06-2.06.94z\"/><path d=\"M17.41 7.96l-1.37-1.37c-.4-.4-.92-.59-1.43-.59-.52 0-1.04.2-1.43.59L10.3 9.45l-7.72 7.72c-.78.78-.78 2.05 0 2.83L4 21.41c.39.39.9.59 1.41.59.51 0 1.02-.2 1.41-.59l7.78-7.78 2.81-2.81c.8-.78.8-2.07 0-2.86zM5.41 20L4 18.59l7.72-7.72 1.47 1.35L5.41 20z\"/>\n",
              "  </svg>\n",
              "      </button>\n",
              "      \n",
              "  <style>\n",
              "    .colab-df-container {\n",
              "      display:flex;\n",
              "      flex-wrap:wrap;\n",
              "      gap: 12px;\n",
              "    }\n",
              "\n",
              "    .colab-df-convert {\n",
              "      background-color: #E8F0FE;\n",
              "      border: none;\n",
              "      border-radius: 50%;\n",
              "      cursor: pointer;\n",
              "      display: none;\n",
              "      fill: #1967D2;\n",
              "      height: 32px;\n",
              "      padding: 0 0 0 0;\n",
              "      width: 32px;\n",
              "    }\n",
              "\n",
              "    .colab-df-convert:hover {\n",
              "      background-color: #E2EBFA;\n",
              "      box-shadow: 0px 1px 2px rgba(60, 64, 67, 0.3), 0px 1px 3px 1px rgba(60, 64, 67, 0.15);\n",
              "      fill: #174EA6;\n",
              "    }\n",
              "\n",
              "    [theme=dark] .colab-df-convert {\n",
              "      background-color: #3B4455;\n",
              "      fill: #D2E3FC;\n",
              "    }\n",
              "\n",
              "    [theme=dark] .colab-df-convert:hover {\n",
              "      background-color: #434B5C;\n",
              "      box-shadow: 0px 1px 3px 1px rgba(0, 0, 0, 0.15);\n",
              "      filter: drop-shadow(0px 1px 2px rgba(0, 0, 0, 0.3));\n",
              "      fill: #FFFFFF;\n",
              "    }\n",
              "  </style>\n",
              "\n",
              "      <script>\n",
              "        const buttonEl =\n",
              "          document.querySelector('#df-4f0afc33-604e-4692-a76f-8f10ab3f58ab button.colab-df-convert');\n",
              "        buttonEl.style.display =\n",
              "          google.colab.kernel.accessAllowed ? 'block' : 'none';\n",
              "\n",
              "        async function convertToInteractive(key) {\n",
              "          const element = document.querySelector('#df-4f0afc33-604e-4692-a76f-8f10ab3f58ab');\n",
              "          const dataTable =\n",
              "            await google.colab.kernel.invokeFunction('convertToInteractive',\n",
              "                                                     [key], {});\n",
              "          if (!dataTable) return;\n",
              "\n",
              "          const docLinkHtml = 'Like what you see? Visit the ' +\n",
              "            '<a target=\"_blank\" href=https://colab.research.google.com/notebooks/data_table.ipynb>data table notebook</a>'\n",
              "            + ' to learn more about interactive tables.';\n",
              "          element.innerHTML = '';\n",
              "          dataTable['output_type'] = 'display_data';\n",
              "          await google.colab.output.renderOutput(dataTable, element);\n",
              "          const docLink = document.createElement('div');\n",
              "          docLink.innerHTML = docLinkHtml;\n",
              "          element.appendChild(docLink);\n",
              "        }\n",
              "      </script>\n",
              "    </div>\n",
              "  </div>\n",
              "  "
            ]
          },
          "metadata": {},
          "execution_count": 3
        }
      ]
    },
    {
      "cell_type": "code",
      "source": [
        "#@markdown Drop rows with missing values\n",
        "data.dropna(inplace=True)\n",
        "data.info()"
      ],
      "metadata": {
        "colab": {
          "base_uri": "https://localhost:8080/"
        },
        "id": "_UV-ZkNpIAX-",
        "outputId": "9ef0e9a5-bd34-4e9c-f2f9-a52dbfde47c6"
      },
      "execution_count": null,
      "outputs": [
        {
          "output_type": "stream",
          "name": "stdout",
          "text": [
            "<class 'pandas.core.frame.DataFrame'>\n",
            "Int64Index: 70000 entries, 0 to 69999\n",
            "Data columns (total 11 columns):\n",
            " #   Column  Non-Null Count  Dtype  \n",
            "---  ------  --------------  -----  \n",
            " 0   AGEP    70000 non-null  float64\n",
            " 1   COW     70000 non-null  float64\n",
            " 2   SCHL    70000 non-null  float64\n",
            " 3   MAR     70000 non-null  float64\n",
            " 4   OCCP    70000 non-null  float64\n",
            " 5   POBP    70000 non-null  float64\n",
            " 6   RELP    70000 non-null  float64\n",
            " 7   WKHP    70000 non-null  float64\n",
            " 8   SEX     70000 non-null  float64\n",
            " 9   RAC1P   70000 non-null  float64\n",
            " 10  PINCP   70000 non-null  float64\n",
            "dtypes: float64(11)\n",
            "memory usage: 6.4 MB\n"
          ]
        }
      ]
    },
    {
      "cell_type": "code",
      "source": [
        "#@markdown Change data types of categorical features\n",
        "numerical_cols = ['AGEP','WKHP']\n",
        "categorical_cols = ['COW','SCHL','MAR','OCCP','POBP','RELP','RAC1P','SEX']\n",
        "\n",
        "for col in categorical_cols:\n",
        "  data[col] = data[col].astype('int')\n",
        "  data[col] = data[col].astype('str')\n",
        "\n",
        "data.info()"
      ],
      "metadata": {
        "colab": {
          "base_uri": "https://localhost:8080/"
        },
        "id": "yT7svu0Ld84g",
        "outputId": "013d9cee-74e7-4fc9-d05c-bf9991c24c5a"
      },
      "execution_count": null,
      "outputs": [
        {
          "output_type": "stream",
          "name": "stdout",
          "text": [
            "<class 'pandas.core.frame.DataFrame'>\n",
            "Int64Index: 70000 entries, 0 to 69999\n",
            "Data columns (total 11 columns):\n",
            " #   Column  Non-Null Count  Dtype  \n",
            "---  ------  --------------  -----  \n",
            " 0   AGEP    70000 non-null  float64\n",
            " 1   COW     70000 non-null  object \n",
            " 2   SCHL    70000 non-null  object \n",
            " 3   MAR     70000 non-null  object \n",
            " 4   OCCP    70000 non-null  object \n",
            " 5   POBP    70000 non-null  object \n",
            " 6   RELP    70000 non-null  object \n",
            " 7   WKHP    70000 non-null  float64\n",
            " 8   SEX     70000 non-null  object \n",
            " 9   RAC1P   70000 non-null  object \n",
            " 10  PINCP   70000 non-null  float64\n",
            "dtypes: float64(3), object(8)\n",
            "memory usage: 6.4+ MB\n"
          ]
        }
      ]
    },
    {
      "cell_type": "code",
      "source": [
        "#@markdown Standardize numerical features\n",
        "scaler = StandardScaler()\n",
        "data[numerical_cols] = scaler.fit_transform(data[numerical_cols])\n",
        "data.head()"
      ],
      "metadata": {
        "colab": {
          "base_uri": "https://localhost:8080/",
          "height": 206
        },
        "id": "K45x53wezFp1",
        "outputId": "eefdfb75-3a59-4b23-8104-3f3ca3967e64"
      },
      "execution_count": null,
      "outputs": [
        {
          "output_type": "execute_result",
          "data": {
            "text/plain": [
              "       AGEP COW SCHL MAR  OCCP POBP RELP      WKHP SEX RAC1P  PINCP\n",
              "0 -0.720702   1   22   5  1305    6    5  0.933992   2     6    1.0\n",
              "1 -1.257666   1   21   5  2002    6   12 -1.365949   1     1    0.0\n",
              "2 -0.049497   6   22   3  2830    6   17 -1.519279   2     1    0.0\n",
              "3  0.218986   1   22   5  9645  338    0 -1.059290   1     1    0.0\n",
              "4  0.554588   1    1   1  9720  303    0  0.167345   1     8    0.0"
            ],
            "text/html": [
              "\n",
              "  <div id=\"df-f6ccf734-1fcd-4839-9a4d-d1607d7f3e72\">\n",
              "    <div class=\"colab-df-container\">\n",
              "      <div>\n",
              "<style scoped>\n",
              "    .dataframe tbody tr th:only-of-type {\n",
              "        vertical-align: middle;\n",
              "    }\n",
              "\n",
              "    .dataframe tbody tr th {\n",
              "        vertical-align: top;\n",
              "    }\n",
              "\n",
              "    .dataframe thead th {\n",
              "        text-align: right;\n",
              "    }\n",
              "</style>\n",
              "<table border=\"1\" class=\"dataframe\">\n",
              "  <thead>\n",
              "    <tr style=\"text-align: right;\">\n",
              "      <th></th>\n",
              "      <th>AGEP</th>\n",
              "      <th>COW</th>\n",
              "      <th>SCHL</th>\n",
              "      <th>MAR</th>\n",
              "      <th>OCCP</th>\n",
              "      <th>POBP</th>\n",
              "      <th>RELP</th>\n",
              "      <th>WKHP</th>\n",
              "      <th>SEX</th>\n",
              "      <th>RAC1P</th>\n",
              "      <th>PINCP</th>\n",
              "    </tr>\n",
              "  </thead>\n",
              "  <tbody>\n",
              "    <tr>\n",
              "      <th>0</th>\n",
              "      <td>-0.720702</td>\n",
              "      <td>1</td>\n",
              "      <td>22</td>\n",
              "      <td>5</td>\n",
              "      <td>1305</td>\n",
              "      <td>6</td>\n",
              "      <td>5</td>\n",
              "      <td>0.933992</td>\n",
              "      <td>2</td>\n",
              "      <td>6</td>\n",
              "      <td>1.0</td>\n",
              "    </tr>\n",
              "    <tr>\n",
              "      <th>1</th>\n",
              "      <td>-1.257666</td>\n",
              "      <td>1</td>\n",
              "      <td>21</td>\n",
              "      <td>5</td>\n",
              "      <td>2002</td>\n",
              "      <td>6</td>\n",
              "      <td>12</td>\n",
              "      <td>-1.365949</td>\n",
              "      <td>1</td>\n",
              "      <td>1</td>\n",
              "      <td>0.0</td>\n",
              "    </tr>\n",
              "    <tr>\n",
              "      <th>2</th>\n",
              "      <td>-0.049497</td>\n",
              "      <td>6</td>\n",
              "      <td>22</td>\n",
              "      <td>3</td>\n",
              "      <td>2830</td>\n",
              "      <td>6</td>\n",
              "      <td>17</td>\n",
              "      <td>-1.519279</td>\n",
              "      <td>2</td>\n",
              "      <td>1</td>\n",
              "      <td>0.0</td>\n",
              "    </tr>\n",
              "    <tr>\n",
              "      <th>3</th>\n",
              "      <td>0.218986</td>\n",
              "      <td>1</td>\n",
              "      <td>22</td>\n",
              "      <td>5</td>\n",
              "      <td>9645</td>\n",
              "      <td>338</td>\n",
              "      <td>0</td>\n",
              "      <td>-1.059290</td>\n",
              "      <td>1</td>\n",
              "      <td>1</td>\n",
              "      <td>0.0</td>\n",
              "    </tr>\n",
              "    <tr>\n",
              "      <th>4</th>\n",
              "      <td>0.554588</td>\n",
              "      <td>1</td>\n",
              "      <td>1</td>\n",
              "      <td>1</td>\n",
              "      <td>9720</td>\n",
              "      <td>303</td>\n",
              "      <td>0</td>\n",
              "      <td>0.167345</td>\n",
              "      <td>1</td>\n",
              "      <td>8</td>\n",
              "      <td>0.0</td>\n",
              "    </tr>\n",
              "  </tbody>\n",
              "</table>\n",
              "</div>\n",
              "      <button class=\"colab-df-convert\" onclick=\"convertToInteractive('df-f6ccf734-1fcd-4839-9a4d-d1607d7f3e72')\"\n",
              "              title=\"Convert this dataframe to an interactive table.\"\n",
              "              style=\"display:none;\">\n",
              "        \n",
              "  <svg xmlns=\"http://www.w3.org/2000/svg\" height=\"24px\"viewBox=\"0 0 24 24\"\n",
              "       width=\"24px\">\n",
              "    <path d=\"M0 0h24v24H0V0z\" fill=\"none\"/>\n",
              "    <path d=\"M18.56 5.44l.94 2.06.94-2.06 2.06-.94-2.06-.94-.94-2.06-.94 2.06-2.06.94zm-11 1L8.5 8.5l.94-2.06 2.06-.94-2.06-.94L8.5 2.5l-.94 2.06-2.06.94zm10 10l.94 2.06.94-2.06 2.06-.94-2.06-.94-.94-2.06-.94 2.06-2.06.94z\"/><path d=\"M17.41 7.96l-1.37-1.37c-.4-.4-.92-.59-1.43-.59-.52 0-1.04.2-1.43.59L10.3 9.45l-7.72 7.72c-.78.78-.78 2.05 0 2.83L4 21.41c.39.39.9.59 1.41.59.51 0 1.02-.2 1.41-.59l7.78-7.78 2.81-2.81c.8-.78.8-2.07 0-2.86zM5.41 20L4 18.59l7.72-7.72 1.47 1.35L5.41 20z\"/>\n",
              "  </svg>\n",
              "      </button>\n",
              "      \n",
              "  <style>\n",
              "    .colab-df-container {\n",
              "      display:flex;\n",
              "      flex-wrap:wrap;\n",
              "      gap: 12px;\n",
              "    }\n",
              "\n",
              "    .colab-df-convert {\n",
              "      background-color: #E8F0FE;\n",
              "      border: none;\n",
              "      border-radius: 50%;\n",
              "      cursor: pointer;\n",
              "      display: none;\n",
              "      fill: #1967D2;\n",
              "      height: 32px;\n",
              "      padding: 0 0 0 0;\n",
              "      width: 32px;\n",
              "    }\n",
              "\n",
              "    .colab-df-convert:hover {\n",
              "      background-color: #E2EBFA;\n",
              "      box-shadow: 0px 1px 2px rgba(60, 64, 67, 0.3), 0px 1px 3px 1px rgba(60, 64, 67, 0.15);\n",
              "      fill: #174EA6;\n",
              "    }\n",
              "\n",
              "    [theme=dark] .colab-df-convert {\n",
              "      background-color: #3B4455;\n",
              "      fill: #D2E3FC;\n",
              "    }\n",
              "\n",
              "    [theme=dark] .colab-df-convert:hover {\n",
              "      background-color: #434B5C;\n",
              "      box-shadow: 0px 1px 3px 1px rgba(0, 0, 0, 0.15);\n",
              "      filter: drop-shadow(0px 1px 2px rgba(0, 0, 0, 0.3));\n",
              "      fill: #FFFFFF;\n",
              "    }\n",
              "  </style>\n",
              "\n",
              "      <script>\n",
              "        const buttonEl =\n",
              "          document.querySelector('#df-f6ccf734-1fcd-4839-9a4d-d1607d7f3e72 button.colab-df-convert');\n",
              "        buttonEl.style.display =\n",
              "          google.colab.kernel.accessAllowed ? 'block' : 'none';\n",
              "\n",
              "        async function convertToInteractive(key) {\n",
              "          const element = document.querySelector('#df-f6ccf734-1fcd-4839-9a4d-d1607d7f3e72');\n",
              "          const dataTable =\n",
              "            await google.colab.kernel.invokeFunction('convertToInteractive',\n",
              "                                                     [key], {});\n",
              "          if (!dataTable) return;\n",
              "\n",
              "          const docLinkHtml = 'Like what you see? Visit the ' +\n",
              "            '<a target=\"_blank\" href=https://colab.research.google.com/notebooks/data_table.ipynb>data table notebook</a>'\n",
              "            + ' to learn more about interactive tables.';\n",
              "          element.innerHTML = '';\n",
              "          dataTable['output_type'] = 'display_data';\n",
              "          await google.colab.output.renderOutput(dataTable, element);\n",
              "          const docLink = document.createElement('div');\n",
              "          docLink.innerHTML = docLinkHtml;\n",
              "          element.appendChild(docLink);\n",
              "        }\n",
              "      </script>\n",
              "    </div>\n",
              "  </div>\n",
              "  "
            ]
          },
          "metadata": {},
          "execution_count": 6
        }
      ]
    },
    {
      "cell_type": "code",
      "source": [
        "#@markdown One-hot encode categorical features\n",
        "data = pd.get_dummies(data)\n",
        "\n",
        "#since the sex attribute is already binary we can drop one of the redundant dummy columns\n",
        "#note: males are now labeled as 1 and females are labeled as 0\n",
        "data.drop(columns=['SEX_2'], inplace=True)\n",
        "data.rename(columns={'SEX_1':'SEX'}, inplace=True)\n",
        "\n",
        "data.head()"
      ],
      "metadata": {
        "colab": {
          "base_uri": "https://localhost:8080/",
          "height": 299
        },
        "id": "6jWxUdV0gju_",
        "outputId": "24b4a7d7-af44-4c9f-e8e3-cf80e7af9e94"
      },
      "execution_count": null,
      "outputs": [
        {
          "output_type": "execute_result",
          "data": {
            "text/plain": [
              "       AGEP      WKHP  PINCP  COW_1  COW_2  COW_3  COW_4  COW_5  COW_6  COW_7  \\\n",
              "0 -0.720702  0.933992    1.0      1      0      0      0      0      0      0   \n",
              "1 -1.257666 -1.365949    0.0      1      0      0      0      0      0      0   \n",
              "2 -0.049497 -1.519279    0.0      0      0      0      0      0      1      0   \n",
              "3  0.218986 -1.059290    0.0      1      0      0      0      0      0      0   \n",
              "4  0.554588  0.167345    0.0      1      0      0      0      0      0      0   \n",
              "\n",
              "   ...  SEX  RAC1P_1  RAC1P_2  RAC1P_3  RAC1P_4  RAC1P_5  RAC1P_6  RAC1P_7  \\\n",
              "0  ...    0        0        0        0        0        0        1        0   \n",
              "1  ...    1        1        0        0        0        0        0        0   \n",
              "2  ...    0        1        0        0        0        0        0        0   \n",
              "3  ...    1        1        0        0        0        0        0        0   \n",
              "4  ...    1        0        0        0        0        0        0        0   \n",
              "\n",
              "   RAC1P_8  RAC1P_9  \n",
              "0        0        0  \n",
              "1        0        0  \n",
              "2        0        0  \n",
              "3        0        0  \n",
              "4        1        0  \n",
              "\n",
              "[5 rows x 809 columns]"
            ],
            "text/html": [
              "\n",
              "  <div id=\"df-9c0cf5c6-a6f3-47c7-b8a0-f39987379f40\">\n",
              "    <div class=\"colab-df-container\">\n",
              "      <div>\n",
              "<style scoped>\n",
              "    .dataframe tbody tr th:only-of-type {\n",
              "        vertical-align: middle;\n",
              "    }\n",
              "\n",
              "    .dataframe tbody tr th {\n",
              "        vertical-align: top;\n",
              "    }\n",
              "\n",
              "    .dataframe thead th {\n",
              "        text-align: right;\n",
              "    }\n",
              "</style>\n",
              "<table border=\"1\" class=\"dataframe\">\n",
              "  <thead>\n",
              "    <tr style=\"text-align: right;\">\n",
              "      <th></th>\n",
              "      <th>AGEP</th>\n",
              "      <th>WKHP</th>\n",
              "      <th>PINCP</th>\n",
              "      <th>COW_1</th>\n",
              "      <th>COW_2</th>\n",
              "      <th>COW_3</th>\n",
              "      <th>COW_4</th>\n",
              "      <th>COW_5</th>\n",
              "      <th>COW_6</th>\n",
              "      <th>COW_7</th>\n",
              "      <th>...</th>\n",
              "      <th>SEX</th>\n",
              "      <th>RAC1P_1</th>\n",
              "      <th>RAC1P_2</th>\n",
              "      <th>RAC1P_3</th>\n",
              "      <th>RAC1P_4</th>\n",
              "      <th>RAC1P_5</th>\n",
              "      <th>RAC1P_6</th>\n",
              "      <th>RAC1P_7</th>\n",
              "      <th>RAC1P_8</th>\n",
              "      <th>RAC1P_9</th>\n",
              "    </tr>\n",
              "  </thead>\n",
              "  <tbody>\n",
              "    <tr>\n",
              "      <th>0</th>\n",
              "      <td>-0.720702</td>\n",
              "      <td>0.933992</td>\n",
              "      <td>1.0</td>\n",
              "      <td>1</td>\n",
              "      <td>0</td>\n",
              "      <td>0</td>\n",
              "      <td>0</td>\n",
              "      <td>0</td>\n",
              "      <td>0</td>\n",
              "      <td>0</td>\n",
              "      <td>...</td>\n",
              "      <td>0</td>\n",
              "      <td>0</td>\n",
              "      <td>0</td>\n",
              "      <td>0</td>\n",
              "      <td>0</td>\n",
              "      <td>0</td>\n",
              "      <td>1</td>\n",
              "      <td>0</td>\n",
              "      <td>0</td>\n",
              "      <td>0</td>\n",
              "    </tr>\n",
              "    <tr>\n",
              "      <th>1</th>\n",
              "      <td>-1.257666</td>\n",
              "      <td>-1.365949</td>\n",
              "      <td>0.0</td>\n",
              "      <td>1</td>\n",
              "      <td>0</td>\n",
              "      <td>0</td>\n",
              "      <td>0</td>\n",
              "      <td>0</td>\n",
              "      <td>0</td>\n",
              "      <td>0</td>\n",
              "      <td>...</td>\n",
              "      <td>1</td>\n",
              "      <td>1</td>\n",
              "      <td>0</td>\n",
              "      <td>0</td>\n",
              "      <td>0</td>\n",
              "      <td>0</td>\n",
              "      <td>0</td>\n",
              "      <td>0</td>\n",
              "      <td>0</td>\n",
              "      <td>0</td>\n",
              "    </tr>\n",
              "    <tr>\n",
              "      <th>2</th>\n",
              "      <td>-0.049497</td>\n",
              "      <td>-1.519279</td>\n",
              "      <td>0.0</td>\n",
              "      <td>0</td>\n",
              "      <td>0</td>\n",
              "      <td>0</td>\n",
              "      <td>0</td>\n",
              "      <td>0</td>\n",
              "      <td>1</td>\n",
              "      <td>0</td>\n",
              "      <td>...</td>\n",
              "      <td>0</td>\n",
              "      <td>1</td>\n",
              "      <td>0</td>\n",
              "      <td>0</td>\n",
              "      <td>0</td>\n",
              "      <td>0</td>\n",
              "      <td>0</td>\n",
              "      <td>0</td>\n",
              "      <td>0</td>\n",
              "      <td>0</td>\n",
              "    </tr>\n",
              "    <tr>\n",
              "      <th>3</th>\n",
              "      <td>0.218986</td>\n",
              "      <td>-1.059290</td>\n",
              "      <td>0.0</td>\n",
              "      <td>1</td>\n",
              "      <td>0</td>\n",
              "      <td>0</td>\n",
              "      <td>0</td>\n",
              "      <td>0</td>\n",
              "      <td>0</td>\n",
              "      <td>0</td>\n",
              "      <td>...</td>\n",
              "      <td>1</td>\n",
              "      <td>1</td>\n",
              "      <td>0</td>\n",
              "      <td>0</td>\n",
              "      <td>0</td>\n",
              "      <td>0</td>\n",
              "      <td>0</td>\n",
              "      <td>0</td>\n",
              "      <td>0</td>\n",
              "      <td>0</td>\n",
              "    </tr>\n",
              "    <tr>\n",
              "      <th>4</th>\n",
              "      <td>0.554588</td>\n",
              "      <td>0.167345</td>\n",
              "      <td>0.0</td>\n",
              "      <td>1</td>\n",
              "      <td>0</td>\n",
              "      <td>0</td>\n",
              "      <td>0</td>\n",
              "      <td>0</td>\n",
              "      <td>0</td>\n",
              "      <td>0</td>\n",
              "      <td>...</td>\n",
              "      <td>1</td>\n",
              "      <td>0</td>\n",
              "      <td>0</td>\n",
              "      <td>0</td>\n",
              "      <td>0</td>\n",
              "      <td>0</td>\n",
              "      <td>0</td>\n",
              "      <td>0</td>\n",
              "      <td>1</td>\n",
              "      <td>0</td>\n",
              "    </tr>\n",
              "  </tbody>\n",
              "</table>\n",
              "<p>5 rows × 809 columns</p>\n",
              "</div>\n",
              "      <button class=\"colab-df-convert\" onclick=\"convertToInteractive('df-9c0cf5c6-a6f3-47c7-b8a0-f39987379f40')\"\n",
              "              title=\"Convert this dataframe to an interactive table.\"\n",
              "              style=\"display:none;\">\n",
              "        \n",
              "  <svg xmlns=\"http://www.w3.org/2000/svg\" height=\"24px\"viewBox=\"0 0 24 24\"\n",
              "       width=\"24px\">\n",
              "    <path d=\"M0 0h24v24H0V0z\" fill=\"none\"/>\n",
              "    <path d=\"M18.56 5.44l.94 2.06.94-2.06 2.06-.94-2.06-.94-.94-2.06-.94 2.06-2.06.94zm-11 1L8.5 8.5l.94-2.06 2.06-.94-2.06-.94L8.5 2.5l-.94 2.06-2.06.94zm10 10l.94 2.06.94-2.06 2.06-.94-2.06-.94-.94-2.06-.94 2.06-2.06.94z\"/><path d=\"M17.41 7.96l-1.37-1.37c-.4-.4-.92-.59-1.43-.59-.52 0-1.04.2-1.43.59L10.3 9.45l-7.72 7.72c-.78.78-.78 2.05 0 2.83L4 21.41c.39.39.9.59 1.41.59.51 0 1.02-.2 1.41-.59l7.78-7.78 2.81-2.81c.8-.78.8-2.07 0-2.86zM5.41 20L4 18.59l7.72-7.72 1.47 1.35L5.41 20z\"/>\n",
              "  </svg>\n",
              "      </button>\n",
              "      \n",
              "  <style>\n",
              "    .colab-df-container {\n",
              "      display:flex;\n",
              "      flex-wrap:wrap;\n",
              "      gap: 12px;\n",
              "    }\n",
              "\n",
              "    .colab-df-convert {\n",
              "      background-color: #E8F0FE;\n",
              "      border: none;\n",
              "      border-radius: 50%;\n",
              "      cursor: pointer;\n",
              "      display: none;\n",
              "      fill: #1967D2;\n",
              "      height: 32px;\n",
              "      padding: 0 0 0 0;\n",
              "      width: 32px;\n",
              "    }\n",
              "\n",
              "    .colab-df-convert:hover {\n",
              "      background-color: #E2EBFA;\n",
              "      box-shadow: 0px 1px 2px rgba(60, 64, 67, 0.3), 0px 1px 3px 1px rgba(60, 64, 67, 0.15);\n",
              "      fill: #174EA6;\n",
              "    }\n",
              "\n",
              "    [theme=dark] .colab-df-convert {\n",
              "      background-color: #3B4455;\n",
              "      fill: #D2E3FC;\n",
              "    }\n",
              "\n",
              "    [theme=dark] .colab-df-convert:hover {\n",
              "      background-color: #434B5C;\n",
              "      box-shadow: 0px 1px 3px 1px rgba(0, 0, 0, 0.15);\n",
              "      filter: drop-shadow(0px 1px 2px rgba(0, 0, 0, 0.3));\n",
              "      fill: #FFFFFF;\n",
              "    }\n",
              "  </style>\n",
              "\n",
              "      <script>\n",
              "        const buttonEl =\n",
              "          document.querySelector('#df-9c0cf5c6-a6f3-47c7-b8a0-f39987379f40 button.colab-df-convert');\n",
              "        buttonEl.style.display =\n",
              "          google.colab.kernel.accessAllowed ? 'block' : 'none';\n",
              "\n",
              "        async function convertToInteractive(key) {\n",
              "          const element = document.querySelector('#df-9c0cf5c6-a6f3-47c7-b8a0-f39987379f40');\n",
              "          const dataTable =\n",
              "            await google.colab.kernel.invokeFunction('convertToInteractive',\n",
              "                                                     [key], {});\n",
              "          if (!dataTable) return;\n",
              "\n",
              "          const docLinkHtml = 'Like what you see? Visit the ' +\n",
              "            '<a target=\"_blank\" href=https://colab.research.google.com/notebooks/data_table.ipynb>data table notebook</a>'\n",
              "            + ' to learn more about interactive tables.';\n",
              "          element.innerHTML = '';\n",
              "          dataTable['output_type'] = 'display_data';\n",
              "          await google.colab.output.renderOutput(dataTable, element);\n",
              "          const docLink = document.createElement('div');\n",
              "          docLink.innerHTML = docLinkHtml;\n",
              "          element.appendChild(docLink);\n",
              "        }\n",
              "      </script>\n",
              "    </div>\n",
              "  </div>\n",
              "  "
            ]
          },
          "metadata": {},
          "execution_count": 7
        }
      ]
    },
    {
      "cell_type": "code",
      "source": [
        "#@markdown Split data into training and test sets\n",
        "target = data['PINCP']\n",
        "data.drop(columns='PINCP', inplace=True)\n",
        "\n",
        "#note: here we are setting a value for the random_state (seed) parameter so that the results of this lab will remain consistent\n",
        "X_train, X_test, y_train, y_test = train_test_split(data, target, test_size=0.2, random_state=4)\n",
        "\n",
        "print(f'X_train shape: {X_train.shape}')\n",
        "print(f'y_train shape: {y_train.shape}')\n",
        "print(f'X_test shape: {X_test.shape}')\n",
        "print(f'y_test shape: {y_test.shape}')"
      ],
      "metadata": {
        "id": "k7CoKBalCB_T",
        "colab": {
          "base_uri": "https://localhost:8080/"
        },
        "outputId": "73360fd3-c7b9-42f1-e9c4-eafe2306fb3e"
      },
      "execution_count": null,
      "outputs": [
        {
          "output_type": "stream",
          "name": "stdout",
          "text": [
            "X_train shape: (56000, 808)\n",
            "y_train shape: (56000,)\n",
            "X_test shape: (14000, 808)\n",
            "y_test shape: (14000,)\n"
          ]
        }
      ]
    },
    {
      "cell_type": "markdown",
      "source": [
        "Next, we will replicate our procedure from Lab 2 where we train a classifier and evaluate its accuracy and bias."
      ],
      "metadata": {
        "id": "n-h8k2m-D-8j"
      }
    },
    {
      "cell_type": "code",
      "source": [
        "#@markdown Implement logistic regression\n",
        "clf = LogisticRegression()\n",
        "clf.fit(X_train, y_train)\n",
        "clf_accuracy = clf.score(X_test, y_test)\n",
        "\n",
        "clear_output()\n",
        "\n",
        "print(f'Logistic Regression test accuracy: {clf_accuracy:.4f}')"
      ],
      "metadata": {
        "colab": {
          "base_uri": "https://localhost:8080/"
        },
        "id": "0O1D5EVdCZxw",
        "outputId": "070965e0-188c-45f4-cffe-f5d2ae97077a"
      },
      "execution_count": null,
      "outputs": [
        {
          "output_type": "stream",
          "name": "stdout",
          "text": [
            "Logistic Regression test accuracy: 0.8109\n"
          ]
        }
      ]
    },
    {
      "cell_type": "code",
      "source": [
        "#@markdown Evaluate the fairness of the classifier using demographic_parity_difference and demographic_parity_ratio\n",
        "#note: we are conducting this analysis over the test set\n",
        "\n",
        "#compute test predictions\n",
        "y_pred = clf.predict(X_test)\n",
        "\n",
        "#compute demographic parity difference and demographic parity ratio\n",
        "demo_parity_diff = demographic_parity_difference(y_test, y_pred, sensitive_features=X_test['SEX'])\n",
        "demo_parity_ratio = demographic_parity_ratio(y_test, y_pred, sensitive_features=X_test['SEX'])\n",
        "\n",
        "print(f'Demographic parity difference: {demo_parity_diff:.4f}')\n",
        "print(f'Demographic parity ratio: {demo_parity_ratio:.4f}')\n",
        "\n",
        "#compute selection rate for males and females\n",
        "male_selection_rate = selection_rate(y_test[X_test['SEX']==1], y_pred[X_test['SEX']==1])\n",
        "female_selection_rate = selection_rate(y_test[X_test['SEX']==0], y_pred[X_test['SEX']==0])\n",
        "\n",
        "print(f'Male selection rate: {male_selection_rate:.4f}')\n",
        "print(f'Female selection rate: {female_selection_rate:.4f}')"
      ],
      "metadata": {
        "colab": {
          "base_uri": "https://localhost:8080/"
        },
        "id": "rv0n_HiZChCZ",
        "outputId": "820b7b15-3726-4a8f-c7a7-d600b3e7cc34"
      },
      "execution_count": null,
      "outputs": [
        {
          "output_type": "stream",
          "name": "stdout",
          "text": [
            "Demographic parity difference: 0.1206\n",
            "Demographic parity ratio: 0.7428\n",
            "Male selection rate: 0.4690\n",
            "Female selection rate: 0.3484\n"
          ]
        }
      ]
    },
    {
      "cell_type": "code",
      "source": [
        "#@markdown Evaluate (plot) the fairness of the classifier using the MetricFrame class\n",
        "\n",
        "#changing sensitive feature inputs to be 'male' and 'female' instead of 1 and 0\n",
        "sensitive_feature = X_test['SEX'].replace({0:'female', 1:'male'})\n",
        "\n",
        "#evaluation metrics\n",
        "metrics = {'accuracy': skm.accuracy_score,\n",
        "           'selection_rate': selection_rate,  # i.e., the percentage of the population which have ‘1’ as their predicted label\n",
        "           'FNR': false_negative_rate,\n",
        "           'FPR': false_positive_rate\n",
        "           }\n",
        "\n",
        "grouped_on_sex = MetricFrame(metrics=metrics,\n",
        "                             y_true=y_test,\n",
        "                             y_pred=y_pred,\n",
        "                             sensitive_features=sensitive_feature)\n",
        "\n",
        "grouped_on_sex.by_group.plot.bar(\n",
        "    subplots=True, \n",
        "    figsize=(5, 10), \n",
        "    ylim=[0,1],\n",
        "    title=\"Metrics by sex\",\n",
        "    )\n",
        "plt.show()"
      ],
      "metadata": {
        "id": "RhRew9d2a2AD",
        "colab": {
          "base_uri": "https://localhost:8080/",
          "height": 702
        },
        "outputId": "1764c3c6-dcf8-4afd-9e1e-f544e8aed7d1"
      },
      "execution_count": null,
      "outputs": [
        {
          "output_type": "display_data",
          "data": {
            "text/plain": [
              "<Figure size 360x720 with 4 Axes>"
            ],
            "image/png": "[encoded data removed]"
          },
          "metadata": {
            "needs_background": "light"
          }
        }
      ]
    },
    {
      "cell_type": "markdown",
      "source": [
        "As before, we see that there are some disparities in the selection rate, FPR, and FNR between males and females. Namely, men have a higher selection rate because the have both a lower false negative rate and higher false positive rate."
      ],
      "metadata": {
        "id": "NBSkfP7Kf0o5"
      }
    },
    {
      "cell_type": "markdown",
      "source": [
        "#2. Preprocessing algorithms"
      ],
      "metadata": {
        "id": "oy8aIYjsl9oT"
      }
    },
    {
      "cell_type": "markdown",
      "source": [
        "Here, we will use the Correlation Remover Preprocessing algorithm to attempt to mitigate bias in our model.  The Correlation Remover will modify the original data, and then we will use this modified data in place of our original data to train our predictive model.\n",
        "\n",
        "- For example, suppose that `WKHP`, the number of hours worked per week, was well correlated with sex. Then, consider a model trained on that data which uses `WKHP` to predict someone's income. Thanks to that correlation, that model is also using `SEX` to predict income.\n",
        "\n",
        "To resolve this, this \"Correlation Remover\" takes our features that we are allowed to predict from, and forcibly changes their values a little bit so that the resulting features are _uncorrelated_ with sex. Then, a blind model like we used last week shouldn't have a way to distinguish men and women.\n",
        "\n",
        "- Notably, the \"Correlation Remover\" is a statistical model, and it needs to be trained on data. So, we fit the Remover on training data, and apply that model to de-correlate both the training and test data.\n",
        "\n",
        "- This removes _linear correlations_ in the data. If there's a nonlinear correlations in the data, and if the classifier model is able to learn nonlinear correlations, then it's not obvious that \"Correlation Remover\" will fix bias."
      ],
      "metadata": {
        "id": "PwJwQeyoGPET"
      }
    },
    {
      "cell_type": "markdown",
      "source": [
        "Before implementing the correlation remover, let us take a look again at the correlations between the numeric features and the target variable."
      ],
      "metadata": {
        "id": "_nDgm1dtfrCg"
      }
    },
    {
      "cell_type": "code",
      "source": [
        "#@title\n",
        "# Plot pairwise correlations between numeric features\n",
        "numerical_cols = ['AGEP','WKHP','SEX'] # We'll just pretend sex is numeric for this figure\n",
        "sn.heatmap(X_train[numerical_cols].corr(), mask=np.identity(len(X_train[numerical_cols].corr())), annot=True, cmap='Blues')\n",
        "plt.show()"
      ],
      "metadata": {
        "colab": {
          "base_uri": "https://localhost:8080/",
          "height": 265
        },
        "id": "zPbrYVfwf6A-",
        "outputId": "7f5668d5-fef7-4a94-b66a-dc7d31c27b54"
      },
      "execution_count": null,
      "outputs": [
        {
          "output_type": "display_data",
          "data": {
            "text/plain": [
              "<Figure size 432x288 with 2 Axes>"
            ],
            "image/png": "[encoded data removed]"
          },
          "metadata": {
            "needs_background": "light"
          }
        }
      ]
    },
    {
      "cell_type": "markdown",
      "source": [
        "The correlation between `sex` and `hours worked per week` is non-negligable. Note that we only plotted correlations between `sex` and the numerical features, event though we will also remove correlations between `sex` and the one-hot encoded categorical features."
      ],
      "metadata": {
        "id": "imsVhDahtmhV"
      }
    },
    {
      "cell_type": "code",
      "source": [
        "#@title\n",
        "# Implement Correlation Remover\n",
        "column_names = list(data.columns.values)\n",
        "column_names.remove(\"SEX\")\n",
        "\n",
        "cr = CorrelationRemover(sensitive_feature_ids=['SEX'], alpha=1.0)\n",
        "\n",
        "# Fit our correlation removing model on *only* training data\n",
        "cr.fit(X_train)\n",
        "\n",
        "# Remove correlations on both training and test data\n",
        "\n",
        "X_train_cr = cr.transform(X_train) # returns a numpy array, not a dataframe\n",
        "X_train_cr = pd.DataFrame(X_train_cr, columns=column_names, index=X_train.index)\n",
        "X_train_cr['SEX'] = X_train['SEX']\n",
        "\n",
        "X_test_cr = cr.transform(X_test)\n",
        "X_test_cr = pd.DataFrame(X_test_cr, columns=column_names, index=X_test.index)\n",
        "X_test_cr['SEX'] = X_test['SEX']"
      ],
      "metadata": {
        "id": "hT_KlvO4z7Ch"
      },
      "execution_count": null,
      "outputs": []
    },
    {
      "cell_type": "code",
      "source": [
        "#@title\n",
        "# We can plot the pairwise correlation again to see if correlation with `SEX` has decreased\n",
        "\n",
        "sn.heatmap(X_train_cr[numerical_cols].corr(), mask=np.identity(len(X_train_cr[numerical_cols].corr())), annot=True, cmap='Blues')\n",
        "plt.show()"
      ],
      "metadata": {
        "colab": {
          "base_uri": "https://localhost:8080/",
          "height": 265
        },
        "id": "HE3DFkoTj7Xa",
        "outputId": "836bad69-f7e2-41bc-c052-a3d9af8e1831"
      },
      "execution_count": null,
      "outputs": [
        {
          "output_type": "display_data",
          "data": {
            "text/plain": [
              "<Figure size 432x288 with 2 Axes>"
            ],
            "image/png": "[encoded data removed]"
          },
          "metadata": {
            "needs_background": "light"
          }
        }
      ]
    },
    {
      "cell_type": "markdown",
      "source": [
        "Notice that the moderate-to-small correlations with `sex` are now virtually zero.\n",
        "\n",
        "In principle, we have done this also to all our categorical data too, though this preprocessing algorithm treated that data like it was numerical, and those columns are no longer only full of 0s and 1s.\n"
      ],
      "metadata": {
        "id": "dRpETIKJuyIa"
      }
    },
    {
      "cell_type": "code",
      "source": [
        "#@title\n",
        "X_train_cr.head()"
      ],
      "metadata": {
        "colab": {
          "base_uri": "https://localhost:8080/",
          "height": 299
        },
        "id": "v1pqW7kpujpO",
        "outputId": "382168d8-7326-424c-d399-dd62857f8a59"
      },
      "execution_count": null,
      "outputs": [
        {
          "output_type": "execute_result",
          "data": {
            "text/plain": [
              "           AGEP      WKHP     COW_1     COW_2     COW_3     COW_4     COW_5  \\\n",
              "31604  0.819649  0.386279  0.971702  0.021761  0.019223  0.009077 -0.006254   \n",
              "10793  1.490855  0.002956 -0.028298  0.021761  0.019223  0.009077 -0.006254   \n",
              "52093 -1.388069  0.351779  1.031749 -0.024415 -0.021567 -0.010183  0.007016   \n",
              "25134  0.752529  0.002956  0.971702  0.021761  0.019223  0.009077 -0.006254   \n",
              "31569  1.893578  0.002956  0.971702  0.021761  0.019223  0.009077 -0.006254   \n",
              "\n",
              "          COW_6     COW_7     COW_8  ...   RAC1P_1   RAC1P_2   RAC1P_3  \\\n",
              "31604 -0.007149 -0.008705  0.000346  ...  0.993546  0.002563  0.000345   \n",
              "10793  0.992851 -0.008705  0.000346  ...  0.993546  0.002563  0.000345   \n",
              "52093  0.008021  0.009767 -0.000388  ...  1.007241 -0.002875 -0.000387   \n",
              "25134 -0.007149 -0.008705  0.000346  ...  0.993546  0.002563  0.000345   \n",
              "31569 -0.007149 -0.008705  0.000346  ...  0.993546  0.002563  0.000345   \n",
              "\n",
              "        RAC1P_4   RAC1P_5   RAC1P_6   RAC1P_7   RAC1P_8   RAC1P_9  SEX  \n",
              "31604  0.000038 -0.000118  0.008872  0.000119 -0.006651  0.001287    1  \n",
              "10793  0.000038 -0.000118  0.008872  0.000119 -0.006651  0.001287    1  \n",
              "52093 -0.000042  0.000133 -0.009954 -0.000134  0.007462 -0.001444    0  \n",
              "25134  0.000038 -0.000118  0.008872  0.000119 -0.006651  0.001287    1  \n",
              "31569  0.000038 -0.000118  0.008872  0.000119 -0.006651  0.001287    1  \n",
              "\n",
              "[5 rows x 808 columns]"
            ],
            "text/html": [
              "\n",
              "  <div id=\"df-4f22e54a-4235-4686-9878-3adfa342f295\">\n",
              "    <div class=\"colab-df-container\">\n",
              "      <div>\n",
              "<style scoped>\n",
              "    .dataframe tbody tr th:only-of-type {\n",
              "        vertical-align: middle;\n",
              "    }\n",
              "\n",
              "    .dataframe tbody tr th {\n",
              "        vertical-align: top;\n",
              "    }\n",
              "\n",
              "    .dataframe thead th {\n",
              "        text-align: right;\n",
              "    }\n",
              "</style>\n",
              "<table border=\"1\" class=\"dataframe\">\n",
              "  <thead>\n",
              "    <tr style=\"text-align: right;\">\n",
              "      <th></th>\n",
              "      <th>AGEP</th>\n",
              "      <th>WKHP</th>\n",
              "      <th>COW_1</th>\n",
              "      <th>COW_2</th>\n",
              "      <th>COW_3</th>\n",
              "      <th>COW_4</th>\n",
              "      <th>COW_5</th>\n",
              "      <th>COW_6</th>\n",
              "      <th>COW_7</th>\n",
              "      <th>COW_8</th>\n",
              "      <th>...</th>\n",
              "      <th>RAC1P_1</th>\n",
              "      <th>RAC1P_2</th>\n",
              "      <th>RAC1P_3</th>\n",
              "      <th>RAC1P_4</th>\n",
              "      <th>RAC1P_5</th>\n",
              "      <th>RAC1P_6</th>\n",
              "      <th>RAC1P_7</th>\n",
              "      <th>RAC1P_8</th>\n",
              "      <th>RAC1P_9</th>\n",
              "      <th>SEX</th>\n",
              "    </tr>\n",
              "  </thead>\n",
              "  <tbody>\n",
              "    <tr>\n",
              "      <th>31604</th>\n",
              "      <td>0.819649</td>\n",
              "      <td>0.386279</td>\n",
              "      <td>0.971702</td>\n",
              "      <td>0.021761</td>\n",
              "      <td>0.019223</td>\n",
              "      <td>0.009077</td>\n",
              "      <td>-0.006254</td>\n",
              "      <td>-0.007149</td>\n",
              "      <td>-0.008705</td>\n",
              "      <td>0.000346</td>\n",
              "      <td>...</td>\n",
              "      <td>0.993546</td>\n",
              "      <td>0.002563</td>\n",
              "      <td>0.000345</td>\n",
              "      <td>0.000038</td>\n",
              "      <td>-0.000118</td>\n",
              "      <td>0.008872</td>\n",
              "      <td>0.000119</td>\n",
              "      <td>-0.006651</td>\n",
              "      <td>0.001287</td>\n",
              "      <td>1</td>\n",
              "    </tr>\n",
              "    <tr>\n",
              "      <th>10793</th>\n",
              "      <td>1.490855</td>\n",
              "      <td>0.002956</td>\n",
              "      <td>-0.028298</td>\n",
              "      <td>0.021761</td>\n",
              "      <td>0.019223</td>\n",
              "      <td>0.009077</td>\n",
              "      <td>-0.006254</td>\n",
              "      <td>0.992851</td>\n",
              "      <td>-0.008705</td>\n",
              "      <td>0.000346</td>\n",
              "      <td>...</td>\n",
              "      <td>0.993546</td>\n",
              "      <td>0.002563</td>\n",
              "      <td>0.000345</td>\n",
              "      <td>0.000038</td>\n",
              "      <td>-0.000118</td>\n",
              "      <td>0.008872</td>\n",
              "      <td>0.000119</td>\n",
              "      <td>-0.006651</td>\n",
              "      <td>0.001287</td>\n",
              "      <td>1</td>\n",
              "    </tr>\n",
              "    <tr>\n",
              "      <th>52093</th>\n",
              "      <td>-1.388069</td>\n",
              "      <td>0.351779</td>\n",
              "      <td>1.031749</td>\n",
              "      <td>-0.024415</td>\n",
              "      <td>-0.021567</td>\n",
              "      <td>-0.010183</td>\n",
              "      <td>0.007016</td>\n",
              "      <td>0.008021</td>\n",
              "      <td>0.009767</td>\n",
              "      <td>-0.000388</td>\n",
              "      <td>...</td>\n",
              "      <td>1.007241</td>\n",
              "      <td>-0.002875</td>\n",
              "      <td>-0.000387</td>\n",
              "      <td>-0.000042</td>\n",
              "      <td>0.000133</td>\n",
              "      <td>-0.009954</td>\n",
              "      <td>-0.000134</td>\n",
              "      <td>0.007462</td>\n",
              "      <td>-0.001444</td>\n",
              "      <td>0</td>\n",
              "    </tr>\n",
              "    <tr>\n",
              "      <th>25134</th>\n",
              "      <td>0.752529</td>\n",
              "      <td>0.002956</td>\n",
              "      <td>0.971702</td>\n",
              "      <td>0.021761</td>\n",
              "      <td>0.019223</td>\n",
              "      <td>0.009077</td>\n",
              "      <td>-0.006254</td>\n",
              "      <td>-0.007149</td>\n",
              "      <td>-0.008705</td>\n",
              "      <td>0.000346</td>\n",
              "      <td>...</td>\n",
              "      <td>0.993546</td>\n",
              "      <td>0.002563</td>\n",
              "      <td>0.000345</td>\n",
              "      <td>0.000038</td>\n",
              "      <td>-0.000118</td>\n",
              "      <td>0.008872</td>\n",
              "      <td>0.000119</td>\n",
              "      <td>-0.006651</td>\n",
              "      <td>0.001287</td>\n",
              "      <td>1</td>\n",
              "    </tr>\n",
              "    <tr>\n",
              "      <th>31569</th>\n",
              "      <td>1.893578</td>\n",
              "      <td>0.002956</td>\n",
              "      <td>0.971702</td>\n",
              "      <td>0.021761</td>\n",
              "      <td>0.019223</td>\n",
              "      <td>0.009077</td>\n",
              "      <td>-0.006254</td>\n",
              "      <td>-0.007149</td>\n",
              "      <td>-0.008705</td>\n",
              "      <td>0.000346</td>\n",
              "      <td>...</td>\n",
              "      <td>0.993546</td>\n",
              "      <td>0.002563</td>\n",
              "      <td>0.000345</td>\n",
              "      <td>0.000038</td>\n",
              "      <td>-0.000118</td>\n",
              "      <td>0.008872</td>\n",
              "      <td>0.000119</td>\n",
              "      <td>-0.006651</td>\n",
              "      <td>0.001287</td>\n",
              "      <td>1</td>\n",
              "    </tr>\n",
              "  </tbody>\n",
              "</table>\n",
              "<p>5 rows × 808 columns</p>\n",
              "</div>\n",
              "      <button class=\"colab-df-convert\" onclick=\"convertToInteractive('df-4f22e54a-4235-4686-9878-3adfa342f295')\"\n",
              "              title=\"Convert this dataframe to an interactive table.\"\n",
              "              style=\"display:none;\">\n",
              "        \n",
              "  <svg xmlns=\"http://www.w3.org/2000/svg\" height=\"24px\"viewBox=\"0 0 24 24\"\n",
              "       width=\"24px\">\n",
              "    <path d=\"M0 0h24v24H0V0z\" fill=\"none\"/>\n",
              "    <path d=\"M18.56 5.44l.94 2.06.94-2.06 2.06-.94-2.06-.94-.94-2.06-.94 2.06-2.06.94zm-11 1L8.5 8.5l.94-2.06 2.06-.94-2.06-.94L8.5 2.5l-.94 2.06-2.06.94zm10 10l.94 2.06.94-2.06 2.06-.94-2.06-.94-.94-2.06-.94 2.06-2.06.94z\"/><path d=\"M17.41 7.96l-1.37-1.37c-.4-.4-.92-.59-1.43-.59-.52 0-1.04.2-1.43.59L10.3 9.45l-7.72 7.72c-.78.78-.78 2.05 0 2.83L4 21.41c.39.39.9.59 1.41.59.51 0 1.02-.2 1.41-.59l7.78-7.78 2.81-2.81c.8-.78.8-2.07 0-2.86zM5.41 20L4 18.59l7.72-7.72 1.47 1.35L5.41 20z\"/>\n",
              "  </svg>\n",
              "      </button>\n",
              "      \n",
              "  <style>\n",
              "    .colab-df-container {\n",
              "      display:flex;\n",
              "      flex-wrap:wrap;\n",
              "      gap: 12px;\n",
              "    }\n",
              "\n",
              "    .colab-df-convert {\n",
              "      background-color: #E8F0FE;\n",
              "      border: none;\n",
              "      border-radius: 50%;\n",
              "      cursor: pointer;\n",
              "      display: none;\n",
              "      fill: #1967D2;\n",
              "      height: 32px;\n",
              "      padding: 0 0 0 0;\n",
              "      width: 32px;\n",
              "    }\n",
              "\n",
              "    .colab-df-convert:hover {\n",
              "      background-color: #E2EBFA;\n",
              "      box-shadow: 0px 1px 2px rgba(60, 64, 67, 0.3), 0px 1px 3px 1px rgba(60, 64, 67, 0.15);\n",
              "      fill: #174EA6;\n",
              "    }\n",
              "\n",
              "    [theme=dark] .colab-df-convert {\n",
              "      background-color: #3B4455;\n",
              "      fill: #D2E3FC;\n",
              "    }\n",
              "\n",
              "    [theme=dark] .colab-df-convert:hover {\n",
              "      background-color: #434B5C;\n",
              "      box-shadow: 0px 1px 3px 1px rgba(0, 0, 0, 0.15);\n",
              "      filter: drop-shadow(0px 1px 2px rgba(0, 0, 0, 0.3));\n",
              "      fill: #FFFFFF;\n",
              "    }\n",
              "  </style>\n",
              "\n",
              "      <script>\n",
              "        const buttonEl =\n",
              "          document.querySelector('#df-4f22e54a-4235-4686-9878-3adfa342f295 button.colab-df-convert');\n",
              "        buttonEl.style.display =\n",
              "          google.colab.kernel.accessAllowed ? 'block' : 'none';\n",
              "\n",
              "        async function convertToInteractive(key) {\n",
              "          const element = document.querySelector('#df-4f22e54a-4235-4686-9878-3adfa342f295');\n",
              "          const dataTable =\n",
              "            await google.colab.kernel.invokeFunction('convertToInteractive',\n",
              "                                                     [key], {});\n",
              "          if (!dataTable) return;\n",
              "\n",
              "          const docLinkHtml = 'Like what you see? Visit the ' +\n",
              "            '<a target=\"_blank\" href=https://colab.research.google.com/notebooks/data_table.ipynb>data table notebook</a>'\n",
              "            + ' to learn more about interactive tables.';\n",
              "          element.innerHTML = '';\n",
              "          dataTable['output_type'] = 'display_data';\n",
              "          await google.colab.output.renderOutput(dataTable, element);\n",
              "          const docLink = document.createElement('div');\n",
              "          docLink.innerHTML = docLinkHtml;\n",
              "          element.appendChild(docLink);\n",
              "        }\n",
              "      </script>\n",
              "    </div>\n",
              "  </div>\n",
              "  "
            ]
          },
          "metadata": {},
          "execution_count": 15
        }
      ]
    },
    {
      "cell_type": "markdown",
      "source": [
        "Next, using the de-correlated data, we again implement our Logistic Regression classifier."
      ],
      "metadata": {
        "id": "cg8Ueg16GhAg"
      }
    },
    {
      "cell_type": "code",
      "source": [
        "#@title\n",
        "#implement logistic regression\n",
        "\n",
        "# First, drop sex from the data, which is now (hopefully) meaningful since it's uncorrelated with other variables now\n",
        "X_train_cr.drop(['SEX'], axis=1, inplace=True)\n",
        "X_test_cr.drop(['SEX'], axis=1, inplace=True)\n",
        "\n",
        "# Train the Logistic Regression model\n",
        "clf = LogisticRegression()\n",
        "clf.fit(X_train_cr, y_train)\n",
        "clf_accuracy_cr = clf.score(X_test_cr, y_test)\n",
        "\n",
        "clear_output()\n",
        "\n",
        "print(f'Logistic Regression with Correlation Remover test accuracy: {clf_accuracy_cr:.4f}')"
      ],
      "metadata": {
        "id": "5BRk6K8f6sDW",
        "colab": {
          "base_uri": "https://localhost:8080/"
        },
        "outputId": "156c72f9-a22b-4a65-9d4b-9c92f4abaadf"
      },
      "execution_count": null,
      "outputs": [
        {
          "output_type": "stream",
          "name": "stdout",
          "text": [
            "Logistic Regression with Correlation Remover test accuracy: 0.8069\n"
          ]
        }
      ]
    },
    {
      "cell_type": "markdown",
      "source": [
        "#**TODO 1**: Write code to evaluate the fairness metrics of the model implemented with the Correlation Remover. Specifically, show the demographic parity difference, demographic parity ratio, male selection rate, and female selection rate."
      ],
      "metadata": {
        "id": "Ya73N10CV0m4"
      }
    },
    {
      "cell_type": "code",
      "source": [
        "#@markdown \n",
        "\n",
        "# print the fairness of the unaltered model\n",
        "print(\"Naive Model's results:\")\n",
        "print(f'  Demographic parity difference: {demo_parity_diff:.4f}')\n",
        "print(f'  Demographic parity ratio: {demo_parity_ratio:.4f}')\n",
        "print(f'  Male selection rate: {male_selection_rate:.4f}')\n",
        "print(f'  Female selection rate: {female_selection_rate:.4f}')\n",
        "print()\n",
        "\n",
        "# evaluate fairness of the classifier with Correlation Remover\n",
        "print('Correlation Remover results:')\n",
        "\n",
        "#compute test predictions\n",
        "y_pred_cr = clf.predict(X_test_cr)\n",
        "\n",
        "# compute demographic parity difference and demographic parity ratio\n",
        "demo_parity_diff_cr = demographic_parity_difference(y_test, y_pred_cr, sensitive_features=X_test['SEX'])\n",
        "demo_parity_ratio_cr = demographic_parity_ratio(y_test, y_pred_cr, sensitive_features=X_test['SEX'])\n",
        "\n",
        "print(f'Demographic parity difference: {demo_parity_diff_cr:.4f}')\n",
        "print(f'Demographic parity ratio: {demo_parity_ratio_cr:.4f}')\n",
        "\n",
        "# compute selection rate for males and females\n",
        "male_selection_rate_cr = selection_rate(y_test[X_test['SEX']==1], y_pred_cr[X_test['SEX']==1])\n",
        "female_selection_rate_cr = selection_rate(y_test[X_test['SEX']==0], y_pred_cr[X_test['SEX']==0])\n",
        "\n",
        "print(f'Male selection rate: {male_selection_rate_cr:.4f}')\n",
        "print(f'Female selection rate: {female_selection_rate_cr:.4f}')\n"
      ],
      "metadata": {
        "colab": {
          "base_uri": "https://localhost:8080/"
        },
        "id": "bj9Zu7VfxI0v",
        "outputId": "548d04d1-b8a2-4500-8104-4d53af5d8ca0"
      },
      "execution_count": null,
      "outputs": [
        {
          "output_type": "stream",
          "name": "stdout",
          "text": [
            "Naive Model's results:\n",
            "  Demographic parity difference: 0.1206\n",
            "  Demographic parity ratio: 0.7428\n",
            "  Male selection rate: 0.4690\n",
            "  Female selection rate: 0.3484\n",
            "\n",
            "Correlation Remover results:\n",
            "Demographic parity difference: 0.0051\n",
            "Demographic parity ratio: 0.9875\n",
            "Male selection rate: 0.4132\n",
            "Female selection rate: 0.4081\n"
          ]
        }
      ]
    },
    {
      "cell_type": "code",
      "source": [
        "# @markdown #**TODO 2**: write some code in this cell that plots metrics using the `MetricFrame` class\n",
        "\n",
        "# Write Code\n",
        "\n",
        "#evaluation metrics\n",
        "metrics = {'accuracy': skm.accuracy_score,\n",
        "           'selection_rate': selection_rate,  # i.e., the percentage of the population which have ‘1’ as their predicted label\n",
        "           'FNR': false_negative_rate,\n",
        "           'FPR': false_positive_rate\n",
        "           }\n",
        "\n",
        "grouped_on_sex = MetricFrame(metrics=metrics,\n",
        "                             y_true=y_test,\n",
        "                             y_pred=y_pred_cr,\n",
        "                             sensitive_features=sensitive_feature)\n",
        "\n",
        "grouped_on_sex.by_group.plot.bar(\n",
        "    subplots=True, \n",
        "    figsize=(5, 10), \n",
        "    ylim=[0,1],\n",
        "    title=\"Metrics by sex after Correlation Remover\",\n",
        "    )\n",
        "plt.show()"
      ],
      "metadata": {
        "id": "a9VN5qfWavT0",
        "colab": {
          "base_uri": "https://localhost:8080/",
          "height": 702
        },
        "outputId": "1d1ff3e3-a2fd-47a2-b82d-70301b4c55de"
      },
      "execution_count": null,
      "outputs": [
        {
          "output_type": "display_data",
          "data": {
            "text/plain": [
              "<Figure size 360x720 with 4 Axes>"
            ],
            "image/png": "[encoded data removed]"
          },
          "metadata": {
            "needs_background": "light"
          }
        }
      ]
    },
    {
      "cell_type": "markdown",
      "source": [
        "#**TODO 3**: What are the main differences in terms of bias in the Logistic Regression model implemented before and after the Correlation Remover Pre-Processing algorithm? What do these results indicate in terms of the attributes' correlation with the feature \"sex\"?"
      ],
      "metadata": {
        "id": "Laua3uXfN0Rr"
      }
    },
    {
      "cell_type": "markdown",
      "source": [
        "**Answer:** \n",
        "The logistic regression model before correlation remover pre-processing algorithm have considerable higher demographic parity difference and the model after have a higher demographic parity ratio. Similar improvement are also seen on male and female selection rates. The logistic regression model after correlation remover leared more meaningful patterns while reducing biase on sex, but there is still correlation between sex and other variables that cause potential issues for linear models.\n",
        "\n"
      ],
      "metadata": {
        "id": "BSzjBKrch8i9"
      }
    },
    {
      "cell_type": "markdown",
      "source": [
        "#**TODO 4**: What would we expect the results to be if we use an alpha parameter less than 1.0 (standard)? What would happen if we use alpha equal to 0?"
      ],
      "metadata": {
        "id": "Ac2VR2hjOcoU"
      }
    },
    {
      "cell_type": "markdown",
      "source": [
        "**Answer:** \n",
        "\n",
        "When alpha is less than 1, the model would indeed reduce correlation among predictive variables to some extent, but there is still some bias existing. When alpha = 0, we are not changing the data but only getting rid of the sex variable."
      ],
      "metadata": {
        "id": "515Y5EZspLvj"
      }
    },
    {
      "cell_type": "markdown",
      "source": [
        "#3. Reduction algorithms"
      ],
      "metadata": {
        "id": "C6y0E2iEmDWs"
      }
    },
    {
      "cell_type": "markdown",
      "source": [
        "Both **GridSearch** and **ExponentialGradient** can be used for binary classification and regression models, supporting the following fairness definitions:\n",
        "\n",
        "*   **Demographic Parity:** ensures that the selection rate or percentage of samples with label = 1 is equal across all groups. Implicitly this means the percentage with label = 0 is equal as well.\n",
        "\n",
        "*   **True Positive Rate Parity and False Positive Rate Parity:** ensures that the True Positive Rate (TP / TP + FN) **OR** the False Positive Rate (FP / FP + TN) is equal across all groups. In first case, we only consider samples with $Y = 1$ and ignore the samples with $Y = 0$, and in the second case vice versa.\n",
        "\n",
        "*   **Equalized Odds:** ensures that both True Positive Rate (TP / TP + FN) **AND** the False Positive Rate (FP / FP + TN) are equal across all groups. The constraints represent the union of constraints for true positive rate and false positive rate. Thus, samples with both $Y = 1$ and $Y = 0$ are considered.\n",
        "\n",
        "*   **Error Rate Parity:** ensures that the error rates should be the same across all groups. The __utility__ of our classifier on a single sample $X$ is 0 if we predicted the label correctly, and the utility is 1 otherwise. So, a large __total utility__ (i.e. sum of utilities across all test samples) here corresponds to a poor model.\n",
        "\n",
        "*   **Control Features:** The above metrics (Demographic Parity, True and False Positive Rate Parity, Equalized Odds, and Error Rate Parity) happen to all fit a math definition which lets us call them __Moments__$\\text{}^{\\dagger}$. These moments all support __Control Features__ when applying their fairness constraints.\n",
        "  1. Suppose we are designing a classifier to predict if someone will repay a loan. We may want to be fair towards sex. But, we also don't want to lose information about their annual income, so we want to control for their annual income somehow.\n",
        "  2. We can split all people into groups based on their income level, and require fairness towards sex _within_ each group. We will not require fairness towards sex _between_ different groups.\n",
        "  3. In this example, income level is a control feature.\n",
        "  4. Formally, a control feature stratifies the dataset, and applies the fairness constraint within each stratum, but not between strata.\n",
        "  5. This should be done with caution, since the control features might be correlated with the sensitive features due to historical biases.\n",
        "  6. In the loan scenario, we might choose to control for income level, on the grounds that higher income individuals are more likely to be able to repay a loan. However, due to historical bias, there is a correlation between the income level of individuals and their race and gender.\n",
        "\n",
        "$\\phantom{}^{[\\dagger]}$ _If you're curious, see https://arxiv.org/pdf/1803.02453.pdf for details on why these are called \"moments\"._"
      ],
      "metadata": {
        "id": "lRY-8XORIrpb"
      }
    },
    {
      "cell_type": "markdown",
      "source": [
        "##3.1 GridSearch"
      ],
      "metadata": {
        "id": "ylEcucV2t0px"
      }
    },
    {
      "cell_type": "markdown",
      "source": [
        "Here, we implement the Grid Search intervention on our classifier and examine its effects on bias in our model.  `GridSearch` implements a simplified version of the [exponentiated gradient reduction](https://fairlearn.org/main/api_reference/generated/fairlearn.reductions.ExponentiatedGradient.html) intervention.  It generates a sequence of relabellings and reweightings and trains a predictor for each.  From there, users can select the model that generates the most favorable tradoff between accuracy and fairness for their specific purpose.\n",
        "\n",
        "**NOTE**: this code will temporarily create several outputs which say `lbfgs failed to converge`. Ingore these messages."
      ],
      "metadata": {
        "id": "bgwgMmoHt2G3"
      }
    },
    {
      "cell_type": "code",
      "source": [
        "#@title\n",
        "#first we specificy Demographic Parity as our fairness metric and generate a train a series of predictors\n",
        "sweep = GridSearch(LogisticRegression(max_iter=100), constraints=DemographicParity())\n",
        "\n",
        "sweep.fit(X_train, y_train, sensitive_features=X_train['SEX']) # This will take about 2 minutes\n",
        "\n",
        "#GridSearch created a bunch of different predictors, stored in this list\n",
        "predictors = sweep.predictors_\n",
        "\n",
        "#next, we remove predictors which are dominated in the error-disparity space by others from the sweep\n",
        "errors, disparities = [], []\n",
        "for m in predictors:\n",
        "    def classifier(X): return m.predict(X)\n",
        "\n",
        "    # Load the training and test data into ErrorRate and DemographicParity objects\n",
        "    error = ErrorRate()\n",
        "    error.load_data(X_train, y_train, sensitive_features=X_train['SEX'])\n",
        "    disparity = DemographicParity()\n",
        "    disparity.load_data(X_train, y_train, sensitive_features=X_train['SEX'])\n",
        "\n",
        "    # error.gamma(classifier) and disparity.gamma(classifier) returns the actual error rate and statistical disparity\n",
        "    errors.append(error.gamma(classifier)[0])\n",
        "    disparities.append(disparity.gamma(classifier).max())\n",
        "\n",
        "\n",
        "# A Dataframe of all predictors, their errors, and their disparities\n",
        "all_results = pd.DataFrame({\"predictor\": predictors, \"error\": errors, \"disparity\": disparities})\n",
        "\n",
        "best_predictors = []\n",
        "\n",
        "# for each predictor\n",
        "for row in all_results.itertuples(): \n",
        "    # find the subset of all predictors with disparity <= this predictor's disparity\n",
        "    # keep only the errors from that subset\n",
        "    errors_for_lower_or_eq_disparity = all_results[\"error\"][all_results[\"disparity\"] <= row.disparity]\n",
        "    if row.error <= errors_for_lower_or_eq_disparity.min():\n",
        "        # If this predictor has better error than all rows better disparity, add it to the list\n",
        "        best_predictors.append(row.predictor)\n",
        "\n",
        "clear_output()"
      ],
      "metadata": {
        "id": "hCq0ffkZtZ1S"
      },
      "execution_count": null,
      "outputs": []
    },
    {
      "cell_type": "code",
      "source": [
        "#@title\n",
        "# here we calculate the accuracy and fairness metrics for our dominant models\n",
        "# define a bunch of lists that will become Pandas dataframe columns\n",
        "model_num = []\n",
        "accuracy_gs = []\n",
        "demo_parity_diff_gs = []\n",
        "demo_parity_ratio_gs = []\n",
        "male_selection_rate_gs = []\n",
        "female_selection_rate_gs = []\n",
        "\n",
        "# populate the lists\n",
        "for i in range(len(best_predictors)):\n",
        "    y_pred = best_predictors[i].predict(X_test)\n",
        "\n",
        "    model_num.append(\"dominant_model_{0}\".format(i))\n",
        "    accuracy_gs.append(accuracy_score(y_test,y_pred))\n",
        "    demo_parity_diff_gs.append(demographic_parity_difference(y_test, y_pred, sensitive_features=X_test['SEX']))\n",
        "    demo_parity_ratio_gs.append(demographic_parity_ratio(y_test, y_pred, sensitive_features=X_test['SEX']))\n",
        "    male_selection_rate_gs.append(selection_rate(y_test[X_test['SEX']==1], y_pred[X_test['SEX']==1]))\n",
        "    female_selection_rate_gs.append(selection_rate(y_test[X_test['SEX']==0], y_pred[X_test['SEX']==0]))\n",
        "\n",
        "# make the lists into a single pandas dataframe\n",
        "grid_search_results_df = pd.DataFrame()\n",
        "grid_search_results_df['model'] = model_num\n",
        "grid_search_results_df['accuracy'] = accuracy_gs\n",
        "grid_search_results_df['demo_parity_diff'] = demo_parity_diff_gs\n",
        "grid_search_results_df['demo_parity_ratio'] = demo_parity_ratio_gs\n",
        "grid_search_results_df['male_selection_rate'] = male_selection_rate_gs\n",
        "grid_search_results_df['female_selection_rate'] = female_selection_rate_gs\n",
        "\n",
        "grid_search_results_df"
      ],
      "metadata": {
        "colab": {
          "base_uri": "https://localhost:8080/",
          "height": 156
        },
        "id": "gj9j5wzpvfvc",
        "outputId": "ba9294ad-c1b1-4720-995e-0307b16d3211"
      },
      "execution_count": null,
      "outputs": [
        {
          "output_type": "execute_result",
          "data": {
            "text/plain": [
              "              model  accuracy  demo_parity_diff  demo_parity_ratio  \\\n",
              "0  dominant_model_0  0.810929          0.120636           0.742802   \n",
              "1  dominant_model_1  0.793429          0.106205           0.771990   \n",
              "\n",
              "   male_selection_rate  female_selection_rate  \n",
              "0             0.469039               0.348403  \n",
              "1             0.359587               0.465793  "
            ],
            "text/html": [
              "\n",
              "  <div id=\"df-7401bc13-ed22-41bf-b15c-ee7cfd2cc554\">\n",
              "    <div class=\"colab-df-container\">\n",
              "      <div>\n",
              "<style scoped>\n",
              "    .dataframe tbody tr th:only-of-type {\n",
              "        vertical-align: middle;\n",
              "    }\n",
              "\n",
              "    .dataframe tbody tr th {\n",
              "        vertical-align: top;\n",
              "    }\n",
              "\n",
              "    .dataframe thead th {\n",
              "        text-align: right;\n",
              "    }\n",
              "</style>\n",
              "<table border=\"1\" class=\"dataframe\">\n",
              "  <thead>\n",
              "    <tr style=\"text-align: right;\">\n",
              "      <th></th>\n",
              "      <th>model</th>\n",
              "      <th>accuracy</th>\n",
              "      <th>demo_parity_diff</th>\n",
              "      <th>demo_parity_ratio</th>\n",
              "      <th>male_selection_rate</th>\n",
              "      <th>female_selection_rate</th>\n",
              "    </tr>\n",
              "  </thead>\n",
              "  <tbody>\n",
              "    <tr>\n",
              "      <th>0</th>\n",
              "      <td>dominant_model_0</td>\n",
              "      <td>0.810929</td>\n",
              "      <td>0.120636</td>\n",
              "      <td>0.742802</td>\n",
              "      <td>0.469039</td>\n",
              "      <td>0.348403</td>\n",
              "    </tr>\n",
              "    <tr>\n",
              "      <th>1</th>\n",
              "      <td>dominant_model_1</td>\n",
              "      <td>0.793429</td>\n",
              "      <td>0.106205</td>\n",
              "      <td>0.771990</td>\n",
              "      <td>0.359587</td>\n",
              "      <td>0.465793</td>\n",
              "    </tr>\n",
              "  </tbody>\n",
              "</table>\n",
              "</div>\n",
              "      <button class=\"colab-df-convert\" onclick=\"convertToInteractive('df-7401bc13-ed22-41bf-b15c-ee7cfd2cc554')\"\n",
              "              title=\"Convert this dataframe to an interactive table.\"\n",
              "              style=\"display:none;\">\n",
              "        \n",
              "  <svg xmlns=\"http://www.w3.org/2000/svg\" height=\"24px\"viewBox=\"0 0 24 24\"\n",
              "       width=\"24px\">\n",
              "    <path d=\"M0 0h24v24H0V0z\" fill=\"none\"/>\n",
              "    <path d=\"M18.56 5.44l.94 2.06.94-2.06 2.06-.94-2.06-.94-.94-2.06-.94 2.06-2.06.94zm-11 1L8.5 8.5l.94-2.06 2.06-.94-2.06-.94L8.5 2.5l-.94 2.06-2.06.94zm10 10l.94 2.06.94-2.06 2.06-.94-2.06-.94-.94-2.06-.94 2.06-2.06.94z\"/><path d=\"M17.41 7.96l-1.37-1.37c-.4-.4-.92-.59-1.43-.59-.52 0-1.04.2-1.43.59L10.3 9.45l-7.72 7.72c-.78.78-.78 2.05 0 2.83L4 21.41c.39.39.9.59 1.41.59.51 0 1.02-.2 1.41-.59l7.78-7.78 2.81-2.81c.8-.78.8-2.07 0-2.86zM5.41 20L4 18.59l7.72-7.72 1.47 1.35L5.41 20z\"/>\n",
              "  </svg>\n",
              "      </button>\n",
              "      \n",
              "  <style>\n",
              "    .colab-df-container {\n",
              "      display:flex;\n",
              "      flex-wrap:wrap;\n",
              "      gap: 12px;\n",
              "    }\n",
              "\n",
              "    .colab-df-convert {\n",
              "      background-color: #E8F0FE;\n",
              "      border: none;\n",
              "      border-radius: 50%;\n",
              "      cursor: pointer;\n",
              "      display: none;\n",
              "      fill: #1967D2;\n",
              "      height: 32px;\n",
              "      padding: 0 0 0 0;\n",
              "      width: 32px;\n",
              "    }\n",
              "\n",
              "    .colab-df-convert:hover {\n",
              "      background-color: #E2EBFA;\n",
              "      box-shadow: 0px 1px 2px rgba(60, 64, 67, 0.3), 0px 1px 3px 1px rgba(60, 64, 67, 0.15);\n",
              "      fill: #174EA6;\n",
              "    }\n",
              "\n",
              "    [theme=dark] .colab-df-convert {\n",
              "      background-color: #3B4455;\n",
              "      fill: #D2E3FC;\n",
              "    }\n",
              "\n",
              "    [theme=dark] .colab-df-convert:hover {\n",
              "      background-color: #434B5C;\n",
              "      box-shadow: 0px 1px 3px 1px rgba(0, 0, 0, 0.15);\n",
              "      filter: drop-shadow(0px 1px 2px rgba(0, 0, 0, 0.3));\n",
              "      fill: #FFFFFF;\n",
              "    }\n",
              "  </style>\n",
              "\n",
              "      <script>\n",
              "        const buttonEl =\n",
              "          document.querySelector('#df-7401bc13-ed22-41bf-b15c-ee7cfd2cc554 button.colab-df-convert');\n",
              "        buttonEl.style.display =\n",
              "          google.colab.kernel.accessAllowed ? 'block' : 'none';\n",
              "\n",
              "        async function convertToInteractive(key) {\n",
              "          const element = document.querySelector('#df-7401bc13-ed22-41bf-b15c-ee7cfd2cc554');\n",
              "          const dataTable =\n",
              "            await google.colab.kernel.invokeFunction('convertToInteractive',\n",
              "                                                     [key], {});\n",
              "          if (!dataTable) return;\n",
              "\n",
              "          const docLinkHtml = 'Like what you see? Visit the ' +\n",
              "            '<a target=\"_blank\" href=https://colab.research.google.com/notebooks/data_table.ipynb>data table notebook</a>'\n",
              "            + ' to learn more about interactive tables.';\n",
              "          element.innerHTML = '';\n",
              "          dataTable['output_type'] = 'display_data';\n",
              "          await google.colab.output.renderOutput(dataTable, element);\n",
              "          const docLink = document.createElement('div');\n",
              "          docLink.innerHTML = docLinkHtml;\n",
              "          element.appendChild(docLink);\n",
              "        }\n",
              "      </script>\n",
              "    </div>\n",
              "  </div>\n",
              "  "
            ]
          },
          "metadata": {},
          "execution_count": 20
        }
      ]
    },
    {
      "cell_type": "markdown",
      "source": [
        "#**TODO 5**: If we decide to prioritize fairness over accuracy in our model, which of these dominant models would you select and why? Recreate the MetricFrame plots used previously for the selected model.\n",
        "\n",
        "**Note: Results may changes with different runs.**\n"
      ],
      "metadata": {
        "id": "1L4nRRqEr1XK"
      }
    },
    {
      "cell_type": "markdown",
      "source": [
        "**Answer:** \n",
        "\n",
        "I would select dominant model 1 for its lower demographic parity difference and higher dempgraphic parity ratio. Likewise, we can also see that the bias against sex is meidated by lower male selection rate and higher female selection rate."
      ],
      "metadata": {
        "id": "bY6_zV2bFvHq"
      }
    },
    {
      "cell_type": "code",
      "source": [
        "#@markdown Plot the fairness metrics of the selected classifier using the MetricFrame class\n",
        "selected_model_num = 0\n",
        "y_pred_gs = best_predictors[selected_model_num].predict(X_test)\n",
        "\n",
        "grouped_on_sex_grid_search = MetricFrame(metrics=metrics,\n",
        "                             y_true=y_test,\n",
        "                             y_pred=y_pred_gs,\n",
        "                             sensitive_features=sensitive_feature)\n",
        "#plot the metric values\n",
        "grouped_on_sex_grid_search.by_group.plot.bar(\n",
        "    subplots=True, \n",
        "    figsize=(5, 10), \n",
        "    ylim=[0,1],\n",
        "    title=\"Metrics by sex\",\n",
        "    )\n",
        "plt.show()"
      ],
      "metadata": {
        "colab": {
          "base_uri": "https://localhost:8080/",
          "height": 702
        },
        "id": "f-ZS1oXWPEbv",
        "outputId": "73553d53-464d-41f7-c41e-b347cb535be4"
      },
      "execution_count": null,
      "outputs": [
        {
          "output_type": "display_data",
          "data": {
            "text/plain": [
              "<Figure size 360x720 with 4 Axes>"
            ],
            "image/png": "[encoded data removed]"
          },
          "metadata": {
            "needs_background": "light"
          }
        }
      ]
    },
    {
      "cell_type": "markdown",
      "source": [
        "#**TODO 6**: What does a comparison of these two dominant models tell us about the relationship between accuracy and fairness in our models?"
      ],
      "metadata": {
        "id": "HRT5VUSh0kBd"
      }
    },
    {
      "cell_type": "markdown",
      "source": [
        "**Answer here:** \n",
        "\n",
        "The comparison of 2 dominan models suggests a trade off between accuracy and fairness, especially in a dataset where bias exists."
      ],
      "metadata": {
        "id": "-Ukhh_uXF_2a"
      }
    },
    {
      "cell_type": "markdown",
      "source": [
        "# 4 Postprocessing algorithms\n",
        "\n",
        "The logistic regression classifier does not just predict the class of a given input. It can also provide a \"confidence\" of how likely it thinks the class is postive, as a number between 0 and 1. Often, any confidence above 0.5 is labeled as positive, and any confidence below 0.5 is labeled as negative. In this case, we say that 0.5 is the __confidence threshold__.\n",
        "\n",
        "To achieve fairness, we will now consider a __postprocessing algorithm__ called [ThresholdOptimizer](https://fairlearn.org/v0.7.0/api_reference/fairlearn.postprocessing.html#fairlearn.postprocessing.ThresholdOptimizer).\n",
        "The ThresholdOptimizer will use our dataset and the confidence scores of our logistic regression model in order to transform the confidence scores to create a more fair model."
      ],
      "metadata": {
        "id": "YEQNF1BdTrK3"
      }
    },
    {
      "cell_type": "code",
      "source": [
        "#@markdown\n",
        "\n",
        "# Train a model on straightforward data\n",
        "default_model = LogisticRegression(max_iter=500).fit(X_train, y_train)\n",
        "\n",
        "# Make the post-processed model\n",
        "postprocessed_model = ThresholdOptimizer(\n",
        "    estimator=default_model,\n",
        "    constraints='selection_rate_parity',\n",
        "    objective='balanced_accuracy_score',\n",
        "    prefit=True,\n",
        "    predict_method='predict_proba'\n",
        ")\n",
        "\n",
        "# Fit the model to the training data\n",
        "postprocessed_model.fit(X_train, y_train, sensitive_features=X_train['SEX'])\n",
        "\n",
        "# Predict on the test data\n",
        "y_pred_to = postprocessed_model.predict(X_test, sensitive_features=X_test['SEX'])  \n",
        "\n",
        "\n",
        "# Make a metricframe\n",
        "grouped_on_sex_to = MetricFrame(\n",
        "    metrics=metrics,\n",
        "    y_true=y_test,\n",
        "    y_pred=y_pred_to,\n",
        "    sensitive_features=sensitive_feature\n",
        ")\n",
        "\n",
        "# Plot a metricframe grouped by sex\n",
        "grouped_on_sex_to.by_group.plot.bar(\n",
        "    subplots=True, \n",
        "    figsize=(5, 10), \n",
        "    ylim=[0,1],\n",
        "    title=\"Metrics by sex\",\n",
        "    )\n",
        "plt.show()\n"
      ],
      "metadata": {
        "colab": {
          "base_uri": "https://localhost:8080/",
          "height": 702
        },
        "id": "rouFxrXRTqb_",
        "outputId": "08ac5153-6d43-4bc8-9728-cebb5c68e7cb"
      },
      "execution_count": null,
      "outputs": [
        {
          "output_type": "display_data",
          "data": {
            "text/plain": [
              "<Figure size 360x720 with 4 Axes>"
            ],
            "image/png": "[encoded data removed]"
          },
          "metadata": {
            "needs_background": "light"
          }
        }
      ]
    },
    {
      "cell_type": "code",
      "source": [
        "#@title\n",
        "# print the fairness of the unaltered model\n",
        "print(\"Naive Model's results:\")\n",
        "print(f'  Demographic parity difference: {demo_parity_diff:.4f}')\n",
        "print(f'  Demographic parity ratio: {demo_parity_ratio:.4f}')\n",
        "print(f'  Male selection rate: {male_selection_rate:.4f}')\n",
        "print(f'  Female selection rate: {female_selection_rate:.4f}')\n",
        "print()\n",
        "\n",
        "\n",
        "# evaluate fairness of the classifier with Correlation Remover\n",
        "print('ThresholdOptimizer results:')\n",
        "\n",
        "#compute demographic parity difference and demographic parity ratio\n",
        "\n",
        "X_test_sexes = X_test['SEX']\n",
        "\n",
        "demo_parity_diff_to = demographic_parity_difference(y_test, y_pred_to, sensitive_features=X_test_sexes)\n",
        "demo_parity_ratio_to = demographic_parity_ratio(y_test, y_pred_to, sensitive_features=X_test_sexes)\n",
        "\n",
        "print(f'  Demographic parity difference: {demo_parity_diff_to:.4f}')\n",
        "print(f'  Demographic parity ratio: {demo_parity_ratio_to:.4f}')\n",
        "\n",
        "#compute selection rate for males and females\n",
        "male_selection_rate_to = selection_rate(y_test[X_test_sexes==1], y_pred_to[X_test_sexes==1])\n",
        "female_selection_rate_to = selection_rate(y_test[X_test_sexes==0], y_pred_to[X_test_sexes==0])\n",
        "\n",
        "print(f'  Male selection rate: {male_selection_rate_cr:.4f}')\n",
        "print(f'  Female selection rate: {female_selection_rate_cr:.4f}')"
      ],
      "metadata": {
        "colab": {
          "base_uri": "https://localhost:8080/"
        },
        "id": "roJpej4SJjEI",
        "outputId": "4f991078-0ad3-4315-d2a9-357ec4f78f62"
      },
      "execution_count": null,
      "outputs": [
        {
          "output_type": "stream",
          "name": "stdout",
          "text": [
            "Naive Model's results:\n",
            "  Demographic parity difference: 0.1206\n",
            "  Demographic parity ratio: 0.7428\n",
            "  Male selection rate: 0.4690\n",
            "  Female selection rate: 0.3484\n",
            "\n",
            "ThresholdOptimizer results:\n",
            "  Demographic parity difference: 0.0112\n",
            "  Demographic parity ratio: 0.9756\n",
            "  Male selection rate: 0.4132\n",
            "  Female selection rate: 0.4081\n"
          ]
        }
      ]
    },
    {
      "cell_type": "markdown",
      "source": [
        "#**TODO 7**: Is the ThresholdOptimizer successful at balancing selection rates? Is it fair?"
      ],
      "metadata": {
        "id": "hwKHcwTgKMDg"
      }
    },
    {
      "cell_type": "markdown",
      "source": [
        "**Answer:** \n",
        "Yes. We see that the dempgraphic parity difference is significantly lowered and the demographic parity ratio is almost 1. Likewise, the male selection rate is lower and the female selection rate is higher"
      ],
      "metadata": {
        "id": "w-nhdkxZLUan"
      }
    },
    {
      "cell_type": "markdown",
      "source": [
        "Now, we try the same idea, but aiming for `false_negative_rate_parity` instead of `selection_rate_parity`"
      ],
      "metadata": {
        "id": "6um_IyQBLLd_"
      }
    },
    {
      "cell_type": "code",
      "source": [
        "#@title\n",
        "\n",
        "\n",
        "# Make the post-processed model\n",
        "postprocessed_model_fnr = ThresholdOptimizer(\n",
        "    estimator=default_model,\n",
        "    constraints='false_negative_rate_parity',\n",
        "    objective='balanced_accuracy_score',\n",
        "    prefit=True,\n",
        "    predict_method='predict_proba'\n",
        ")\n",
        "\n",
        "# Fit the model to the training data\n",
        "postprocessed_model_fnr.fit(X_train, y_train, sensitive_features=X_train['SEX'])\n",
        "\n",
        "# Predict on the test data\n",
        "y_pred_to_fnr = postprocessed_model_fnr.predict(X_test, sensitive_features=X_test['SEX'])  \n",
        "\n",
        "# Make a metricframe\n",
        "grouped_on_sex_to_fnr = MetricFrame(\n",
        "    metrics=metrics,\n",
        "    y_true=y_test,\n",
        "    y_pred=y_pred_to_fnr,\n",
        "    sensitive_features=sensitive_feature\n",
        ")\n",
        "\n",
        "# Plot a metricframe grouped by sex\n",
        "grouped_on_sex_to.by_group.plot.bar(\n",
        "    subplots=True, \n",
        "    figsize=(5, 10), \n",
        "    ylim=[0,1],\n",
        "    title=\"Metrics by sex\",\n",
        "    )\n",
        "plt.show()"
      ],
      "metadata": {
        "colab": {
          "base_uri": "https://localhost:8080/",
          "height": 702
        },
        "id": "TLfYSKJWZOTG",
        "outputId": "513e19e4-4132-4038-be28-5992e7317fe3"
      },
      "execution_count": null,
      "outputs": [
        {
          "output_type": "display_data",
          "data": {
            "text/plain": [
              "<Figure size 360x720 with 4 Axes>"
            ],
            "image/png": "[encoded data removed]"
          },
          "metadata": {
            "needs_background": "light"
          }
        }
      ]
    },
    {
      "cell_type": "code",
      "source": [
        "#@title\n",
        "# print the fairness of the unaltered model\n",
        "print(\"Naive Model's results:\")\n",
        "print(f'  Demographic parity difference: {demo_parity_diff:.4f}')\n",
        "print(f'  Demographic parity ratio: {demo_parity_ratio:.4f}')\n",
        "print(f'  Male selection rate: {male_selection_rate:.4f}')\n",
        "print(f'  Female selection rate: {female_selection_rate:.4f}')\n",
        "print()\n",
        "\n",
        "\n",
        "# evaluate fairness of the classifier with Correlation Remover\n",
        "print('ThresholdOptimizer (for FNR) results:')\n",
        "\n",
        "#compute demographic parity difference and demographic parity ratio\n",
        "demo_parity_diff_to_fnr = demographic_parity_difference(y_test, y_pred_to_fnr, sensitive_features=X_test_sexes)\n",
        "demo_parity_ratio_to_fnr = demographic_parity_ratio(y_test, y_pred_to_fnr, sensitive_features=X_test_sexes)\n",
        "\n",
        "print(f'  Demographic parity difference: {demo_parity_diff_to_fnr:.4f}')\n",
        "print(f'  Demographic parity ratio: {demo_parity_ratio_to_fnr:.4f}')\n",
        "\n",
        "#compute selection rate for males and females\n",
        "male_selection_rate_to_fnr = selection_rate(y_test[X_test_sexes==1], y_pred_to_fnr[X_test_sexes==1])\n",
        "female_selection_rate_to_fnr = selection_rate(y_test[X_test_sexes==0], y_pred_to_fnr[X_test_sexes==0])\n",
        "\n",
        "print(f'  Male selection rate: {male_selection_rate_to_fnr:.4f}')\n",
        "print(f'  Female selection rate: {female_selection_rate_to_fnr:.4f}')"
      ],
      "metadata": {
        "colab": {
          "base_uri": "https://localhost:8080/"
        },
        "id": "rDFmE4LVK44P",
        "outputId": "14edfa07-41ce-4427-8211-ff8c12fe2dba"
      },
      "execution_count": null,
      "outputs": [
        {
          "output_type": "stream",
          "name": "stdout",
          "text": [
            "Naive Model's results:\n",
            "  Demographic parity difference: 0.1206\n",
            "  Demographic parity ratio: 0.7428\n",
            "  Male selection rate: 0.4690\n",
            "  Female selection rate: 0.3484\n",
            "\n",
            "ThresholdOptimizer (for FNR) results:\n",
            "  Demographic parity difference: 0.0732\n",
            "  Demographic parity ratio: 0.8544\n",
            "  Male selection rate: 0.5029\n",
            "  Female selection rate: 0.4296\n"
          ]
        }
      ]
    },
    {
      "cell_type": "markdown",
      "source": [
        "#**TODO 8**: Is the ThresholdOptimizer successful at balancing false negative rates? Is it fair?"
      ],
      "metadata": {
        "id": "YfSpDbMfLZ-X"
      }
    },
    {
      "cell_type": "markdown",
      "source": [
        "**Answer**: \n",
        "\n",
        "The ThresholdOptimizer have an overall balanced FPR but the demographic parity  difference is higher than other two prior models."
      ],
      "metadata": {
        "id": "HEwZsvv1Ltk-"
      }
    },
    {
      "cell_type": "markdown",
      "source": [
        "#**TODO 9**: Which of all the methods we tried in this lab was the most effective?"
      ],
      "metadata": {
        "id": "IawHn4fAqzgJ"
      }
    },
    {
      "cell_type": "markdown",
      "source": [
        "**Answer:**\n",
        "\n",
        "The ThresholdOptimizer have a significant improvement over balancing selection rates for male and female, and the Correlation Remover also yields strong results."
      ],
      "metadata": {
        "id": "FqgRQpFdLxmH"
      }
    }
  ]
}